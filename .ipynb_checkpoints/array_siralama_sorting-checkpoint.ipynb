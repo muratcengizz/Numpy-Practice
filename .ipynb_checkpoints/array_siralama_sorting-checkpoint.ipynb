{
 "cells": [
  {
   "cell_type": "markdown",
   "id": "8ece1c9c-349b-46e3-890c-08290b61fbe1",
   "metadata": {},
   "source": [
    "# Array Sıralama (Sorting)"
   ]
  },
  {
   "cell_type": "code",
   "execution_count": 1,
   "id": "43769f69-9cf3-490e-bff9-56b0b5ea93d3",
   "metadata": {},
   "outputs": [],
   "source": [
    "import numpy as np"
   ]
  },
  {
   "cell_type": "code",
   "execution_count": 2,
   "id": "8499731e-1c0a-4f45-b4a2-50fa59cb0b9f",
   "metadata": {},
   "outputs": [],
   "source": [
    "v = np.array([1,5,3,2,6,7,8,6,12,55,32])"
   ]
  },
  {
   "cell_type": "code",
   "execution_count": 3,
   "id": "537457da-a82e-4b75-b766-051df1285e5c",
   "metadata": {},
   "outputs": [
    {
     "data": {
      "text/plain": [
       "array([ 1,  2,  3,  5,  6,  6,  7,  8, 12, 32, 55])"
      ]
     },
     "execution_count": 3,
     "metadata": {},
     "output_type": "execute_result"
    }
   ],
   "source": [
    "np.sort(v)\n",
    "# np.sort() komutu değişkenin kimyasını bozmaz"
   ]
  },
  {
   "cell_type": "code",
   "execution_count": 4,
   "id": "6cd29a75-78f7-4506-b191-fe803cb0d250",
   "metadata": {},
   "outputs": [
    {
     "data": {
      "text/plain": [
       "array([ 1,  5,  3,  2,  6,  7,  8,  6, 12, 55, 32])"
      ]
     },
     "execution_count": 4,
     "metadata": {},
     "output_type": "execute_result"
    }
   ],
   "source": [
    "v"
   ]
  },
  {
   "cell_type": "code",
   "execution_count": 5,
   "id": "733b1d39-8276-4bd4-9972-2a57f0105cfd",
   "metadata": {},
   "outputs": [],
   "source": [
    "v.sort()\n",
    "# fakat sort methodunu v.sort() olarak kullandığımızda değişkenin kimyası bozuldu"
   ]
  },
  {
   "cell_type": "code",
   "execution_count": 6,
   "id": "7a679964-276c-4faa-b09a-6cae454db354",
   "metadata": {},
   "outputs": [
    {
     "data": {
      "text/plain": [
       "array([ 1,  2,  3,  5,  6,  6,  7,  8, 12, 32, 55])"
      ]
     },
     "execution_count": 6,
     "metadata": {},
     "output_type": "execute_result"
    }
   ],
   "source": [
    "v"
   ]
  },
  {
   "cell_type": "code",
   "execution_count": 7,
   "id": "e0050c9f-bf9a-4aec-b2b7-b361e28ee0a9",
   "metadata": {},
   "outputs": [],
   "source": [
    "# iki boyutlu array siralama"
   ]
  },
  {
   "cell_type": "code",
   "execution_count": 8,
   "id": "675153b4-3620-496d-9314-72a36f52b320",
   "metadata": {},
   "outputs": [
    {
     "data": {
      "text/plain": [
       "array([[24.20324594, 21.94597946, 20.60377877],\n",
       "       [20.28595924, 12.57661596, 19.23951288],\n",
       "       [19.56401653, 23.86407346, 14.88527406]])"
      ]
     },
     "execution_count": 8,
     "metadata": {},
     "output_type": "execute_result"
    }
   ],
   "source": [
    "np.random.normal(20,5, (3,3))\n",
    "# birinci parametre(20): standart sapmasının oranı\n",
    "# ikinci parametre(5): dizinin ortalama oranı\n",
    "# ücüncü parametre((3,3)): matris'in satır ve sütun sayısı"
   ]
  },
  {
   "cell_type": "code",
   "execution_count": 9,
   "id": "543000c5-42dc-444f-8eed-432cf88efa44",
   "metadata": {},
   "outputs": [],
   "source": [
    "a = np.random.normal(20, 5, (3,3))"
   ]
  },
  {
   "cell_type": "code",
   "execution_count": 10,
   "id": "18246b02-2b6b-42a4-a287-27a620129208",
   "metadata": {},
   "outputs": [
    {
     "data": {
      "text/plain": [
       "array([[24.27293052, 20.34602546, 24.05549974],\n",
       "       [17.05521106, 20.19145252, 22.3790608 ],\n",
       "       [26.65051853, 11.08886204, 24.4523085 ]])"
      ]
     },
     "execution_count": 10,
     "metadata": {},
     "output_type": "execute_result"
    }
   ],
   "source": [
    "a"
   ]
  },
  {
   "cell_type": "code",
   "execution_count": 11,
   "id": "f7676051-6488-4213-ab35-9ab4ae416eb2",
   "metadata": {},
   "outputs": [
    {
     "data": {
      "text/plain": [
       "array([[20.34602546, 24.05549974, 24.27293052],\n",
       "       [17.05521106, 20.19145252, 22.3790608 ],\n",
       "       [11.08886204, 24.4523085 , 26.65051853]])"
      ]
     },
     "execution_count": 11,
     "metadata": {},
     "output_type": "execute_result"
    }
   ],
   "source": [
    "np.sort(a, axis=1)\n",
    "# satırlar arasında sıralama yapıldı"
   ]
  },
  {
   "cell_type": "code",
   "execution_count": 12,
   "id": "0c699f3b-89ed-4f2a-a264-a72fe81c75f8",
   "metadata": {},
   "outputs": [
    {
     "data": {
      "text/plain": [
       "array([[17.05521106, 11.08886204, 22.3790608 ],\n",
       "       [24.27293052, 20.19145252, 24.05549974],\n",
       "       [26.65051853, 20.34602546, 24.4523085 ]])"
      ]
     },
     "execution_count": 12,
     "metadata": {},
     "output_type": "execute_result"
    }
   ],
   "source": [
    "np.sort(a, axis=0)\n",
    "# sütunlar arasında sıralama yapıldı"
   ]
  },
  {
   "cell_type": "code",
   "execution_count": 17,
   "id": "ac219189-76bb-492b-a912-e5f6b1d8ec81",
   "metadata": {},
   "outputs": [],
   "source": [
    "my_array1 = np.random.randint(20, size=(1, 20))"
   ]
  },
  {
   "cell_type": "code",
   "execution_count": 18,
   "id": "4371605d-6dff-4f2d-8b47-04b07416c676",
   "metadata": {},
   "outputs": [
    {
     "data": {
      "text/plain": [
       "array([[16,  4, 14, 19,  4, 19,  6,  2, 10, 17,  0, 12, 16, 15,  3, 12,\n",
       "        13,  6, 15,  8]])"
      ]
     },
     "execution_count": 18,
     "metadata": {},
     "output_type": "execute_result"
    }
   ],
   "source": [
    "my_array1"
   ]
  },
  {
   "cell_type": "code",
   "execution_count": 27,
   "id": "ea7db139-f4b1-4b37-8bb4-98f6185c49b0",
   "metadata": {},
   "outputs": [
    {
     "data": {
      "text/plain": [
       "array([[ 0,  2,  3,  4,  4,  6,  6,  8, 10, 12, 12, 13, 14, 15, 15, 16,\n",
       "        16, 17, 19, 19]])"
      ]
     },
     "execution_count": 27,
     "metadata": {},
     "output_type": "execute_result"
    }
   ],
   "source": [
    "sorting = np.sort(my_array1)\n",
    "sorting"
   ]
  },
  {
   "cell_type": "code",
   "execution_count": null,
   "id": "de7302f8-0214-4402-9792-b432018024f4",
   "metadata": {},
   "outputs": [],
   "source": []
  }
 ],
 "metadata": {
  "kernelspec": {
   "display_name": "Python 3 (ipykernel)",
   "language": "python",
   "name": "python3"
  },
  "language_info": {
   "codemirror_mode": {
    "name": "ipython",
    "version": 3
   },
   "file_extension": ".py",
   "mimetype": "text/x-python",
   "name": "python",
   "nbconvert_exporter": "python",
   "pygments_lexer": "ipython3",
   "version": "3.9.12"
  }
 },
 "nbformat": 4,
 "nbformat_minor": 5
}
