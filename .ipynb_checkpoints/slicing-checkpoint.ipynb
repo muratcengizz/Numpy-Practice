{
 "cells": [
  {
   "cell_type": "markdown",
   "id": "25201d97-c567-464b-852a-2afb7a9c6a0d",
   "metadata": {},
   "source": [
    "# Slicing İle Elemanlara Erişmek (Array Alt Kümesine Erişmek)"
   ]
  },
  {
   "cell_type": "code",
   "execution_count": 1,
   "id": "8ad9f1b1-a4e1-447d-bb5e-f60f3039253e",
   "metadata": {},
   "outputs": [],
   "source": [
    "import numpy as np"
   ]
  },
  {
   "cell_type": "code",
   "execution_count": 2,
   "id": "6d25d732-451d-4655-b7ab-f1f4bfac59e5",
   "metadata": {},
   "outputs": [
    {
     "data": {
      "text/plain": [
       "array([30, 31, 32, 33, 34, 35, 36, 37, 38, 39])"
      ]
     },
     "execution_count": 2,
     "metadata": {},
     "output_type": "execute_result"
    }
   ],
   "source": [
    "my_array = np.arange(30, 40)\n",
    "my_array"
   ]
  },
  {
   "cell_type": "code",
   "execution_count": 3,
   "id": "232f9da7-fa4d-44e9-9ef0-7f9c5c973a3a",
   "metadata": {},
   "outputs": [
    {
     "data": {
      "text/plain": [
       "array([31, 32, 33])"
      ]
     },
     "execution_count": 3,
     "metadata": {},
     "output_type": "execute_result"
    }
   ],
   "source": [
    "my_array[1:4]"
   ]
  },
  {
   "cell_type": "code",
   "execution_count": 4,
   "id": "06e9c113-37f6-4228-86b5-abfea5204aa1",
   "metadata": {},
   "outputs": [
    {
     "data": {
      "text/plain": [
       "array([32, 33, 34])"
      ]
     },
     "execution_count": 4,
     "metadata": {},
     "output_type": "execute_result"
    }
   ],
   "source": [
    "my_array[2:5]"
   ]
  },
  {
   "cell_type": "code",
   "execution_count": 5,
   "id": "3d354507-439f-4d5c-b10c-e112dc2a8f0f",
   "metadata": {},
   "outputs": [
    {
     "data": {
      "text/plain": [
       "array([35, 36, 37, 38])"
      ]
     },
     "execution_count": 5,
     "metadata": {},
     "output_type": "execute_result"
    }
   ],
   "source": [
    "my_array[5:9]"
   ]
  },
  {
   "cell_type": "code",
   "execution_count": 6,
   "id": "e32ed438-45c1-418f-bf29-a292ed697a53",
   "metadata": {},
   "outputs": [
    {
     "data": {
      "text/plain": [
       "10"
      ]
     },
     "execution_count": 6,
     "metadata": {},
     "output_type": "execute_result"
    }
   ],
   "source": [
    "np.size(my_array)"
   ]
  },
  {
   "cell_type": "code",
   "execution_count": 7,
   "id": "27513de9-3496-4882-8df3-3c46fd28771b",
   "metadata": {},
   "outputs": [
    {
     "data": {
      "text/plain": [
       "1"
      ]
     },
     "execution_count": 7,
     "metadata": {},
     "output_type": "execute_result"
    }
   ],
   "source": [
    "np.ndim(my_array)"
   ]
  },
  {
   "cell_type": "code",
   "execution_count": 8,
   "id": "003f3e2d-f18d-4745-b42a-1db3dfe43673",
   "metadata": {},
   "outputs": [
    {
     "data": {
      "text/plain": [
       "(10,)"
      ]
     },
     "execution_count": 8,
     "metadata": {},
     "output_type": "execute_result"
    }
   ],
   "source": [
    "np.shape(my_array)"
   ]
  },
  {
   "cell_type": "code",
   "execution_count": 9,
   "id": "1ba7528c-9144-4649-a532-7ef04d645ddc",
   "metadata": {},
   "outputs": [
    {
     "data": {
      "text/plain": [
       "dtype('int32')"
      ]
     },
     "execution_count": 9,
     "metadata": {},
     "output_type": "execute_result"
    }
   ],
   "source": [
    "my_array.dtype"
   ]
  },
  {
   "cell_type": "code",
   "execution_count": 10,
   "id": "f311cc9d-95ae-4ba6-ba6a-29ce9e3b727f",
   "metadata": {},
   "outputs": [
    {
     "data": {
      "text/plain": [
       "array([[18, 12, 29],\n",
       "       [ 8, 17, 26],\n",
       "       [ 3, 26, 13]])"
      ]
     },
     "execution_count": 10,
     "metadata": {},
     "output_type": "execute_result"
    }
   ],
   "source": [
    "my_array = np.random.randint(30, size=(3,3))\n",
    "my_array"
   ]
  },
  {
   "cell_type": "code",
   "execution_count": 11,
   "id": "f452a87f-40ef-4cc2-a44c-88dfba68800e",
   "metadata": {},
   "outputs": [
    {
     "data": {
      "text/plain": [
       "array([ 8, 17, 26])"
      ]
     },
     "execution_count": 11,
     "metadata": {},
     "output_type": "execute_result"
    }
   ],
   "source": [
    "my_array[1]"
   ]
  },
  {
   "cell_type": "code",
   "execution_count": 12,
   "id": "25cf44b7-c9d7-43b3-8e27-535cd25fac40",
   "metadata": {},
   "outputs": [
    {
     "data": {
      "text/plain": [
       "array([ 3, 26, 13])"
      ]
     },
     "execution_count": 12,
     "metadata": {},
     "output_type": "execute_result"
    }
   ],
   "source": [
    "my_array[2]"
   ]
  },
  {
   "cell_type": "code",
   "execution_count": 13,
   "id": "d85333ad-5dcb-4ad8-ad36-4cbd9b67eda2",
   "metadata": {},
   "outputs": [
    {
     "data": {
      "text/plain": [
       "array([ 8, 17, 26])"
      ]
     },
     "execution_count": 13,
     "metadata": {},
     "output_type": "execute_result"
    }
   ],
   "source": [
    "my_array[1, :]"
   ]
  },
  {
   "cell_type": "code",
   "execution_count": 14,
   "id": "afb2d647-103e-4723-97d4-379a23afa2f8",
   "metadata": {},
   "outputs": [
    {
     "data": {
      "text/plain": [
       "26"
      ]
     },
     "execution_count": 14,
     "metadata": {},
     "output_type": "execute_result"
    }
   ],
   "source": [
    "my_array[1,2]"
   ]
  },
  {
   "cell_type": "code",
   "execution_count": 15,
   "id": "e2e9f5ba-4452-49df-be37-9f10c187f1f6",
   "metadata": {},
   "outputs": [
    {
     "data": {
      "text/plain": [
       "13"
      ]
     },
     "execution_count": 15,
     "metadata": {},
     "output_type": "execute_result"
    }
   ],
   "source": [
    "my_array[2, 2]"
   ]
  },
  {
   "cell_type": "code",
   "execution_count": 16,
   "id": "722308aa-f53d-461b-8d44-f6696689a633",
   "metadata": {},
   "outputs": [
    {
     "data": {
      "text/plain": [
       "29"
      ]
     },
     "execution_count": 16,
     "metadata": {},
     "output_type": "execute_result"
    }
   ],
   "source": [
    "my_array[0, 2]"
   ]
  },
  {
   "cell_type": "code",
   "execution_count": 17,
   "id": "f736b56c-20a5-4595-b0e5-e9d68c9eeb43",
   "metadata": {},
   "outputs": [
    {
     "data": {
      "text/plain": [
       "array([17, 26])"
      ]
     },
     "execution_count": 17,
     "metadata": {},
     "output_type": "execute_result"
    }
   ],
   "source": [
    "my_array[1, 1:]"
   ]
  },
  {
   "cell_type": "code",
   "execution_count": 18,
   "id": "1d6305c8-2e3d-4685-bd54-e532960d3e98",
   "metadata": {},
   "outputs": [
    {
     "data": {
      "text/plain": [
       "array([26, 13])"
      ]
     },
     "execution_count": 18,
     "metadata": {},
     "output_type": "execute_result"
    }
   ],
   "source": [
    "my_array[2, 1:]"
   ]
  },
  {
   "cell_type": "code",
   "execution_count": 19,
   "id": "6a28b960-fb78-43ab-87a1-f12db5dc9ef2",
   "metadata": {},
   "outputs": [
    {
     "data": {
      "text/plain": [
       "array([[ 4,  2, 14, 13, 10],\n",
       "       [ 4, 17,  6, 12,  4],\n",
       "       [ 0,  2,  5, 11,  1],\n",
       "       [ 3,  3,  5,  2,  4],\n",
       "       [13,  6,  8,  4,  4]])"
      ]
     },
     "execution_count": 19,
     "metadata": {},
     "output_type": "execute_result"
    }
   ],
   "source": [
    "my_array2 = np.random.randint(20, size = (5,5))\n",
    "my_array2"
   ]
  },
  {
   "cell_type": "code",
   "execution_count": 20,
   "id": "55fc938e-73cb-4526-8ab2-5088daa8e92f",
   "metadata": {},
   "outputs": [
    {
     "data": {
      "text/plain": [
       "array([ 4, 17,  6, 12,  4])"
      ]
     },
     "execution_count": 20,
     "metadata": {},
     "output_type": "execute_result"
    }
   ],
   "source": [
    "my_array2[1]"
   ]
  },
  {
   "cell_type": "code",
   "execution_count": 21,
   "id": "6f3f045d-3fb7-4406-8246-4ae7ff84e032",
   "metadata": {},
   "outputs": [
    {
     "data": {
      "text/plain": [
       "array([17,  6, 12,  4])"
      ]
     },
     "execution_count": 21,
     "metadata": {},
     "output_type": "execute_result"
    }
   ],
   "source": [
    "my_array2[1, 1:]"
   ]
  },
  {
   "cell_type": "code",
   "execution_count": 22,
   "id": "cf521b02-837c-4818-9c77-e85d0c2de099",
   "metadata": {},
   "outputs": [
    {
     "data": {
      "text/plain": [
       "array([5, 5, 8])"
      ]
     },
     "execution_count": 22,
     "metadata": {},
     "output_type": "execute_result"
    }
   ],
   "source": [
    "my_array2[2:, 2]"
   ]
  },
  {
   "cell_type": "code",
   "execution_count": 23,
   "id": "bee5a36a-3c8f-4837-85a3-071cca793571",
   "metadata": {},
   "outputs": [
    {
     "data": {
      "text/plain": [
       "array([[2, 4],\n",
       "       [4, 4]])"
      ]
     },
     "execution_count": 23,
     "metadata": {},
     "output_type": "execute_result"
    }
   ],
   "source": [
    "my_array2[3:, 3:]"
   ]
  },
  {
   "cell_type": "code",
   "execution_count": 24,
   "id": "147d3853-a352-44f5-b921-45659356fe87",
   "metadata": {},
   "outputs": [
    {
     "data": {
      "text/plain": [
       "array([[3, 5, 2],\n",
       "       [6, 8, 4]])"
      ]
     },
     "execution_count": 24,
     "metadata": {},
     "output_type": "execute_result"
    }
   ],
   "source": [
    "my_array2[3:, 1:4]"
   ]
  },
  {
   "cell_type": "code",
   "execution_count": 25,
   "id": "19d4f95e-0245-48df-9462-db6dde201ea0",
   "metadata": {},
   "outputs": [
    {
     "data": {
      "text/plain": [
       "array([[ 2, 14, 13],\n",
       "       [17,  6, 12]])"
      ]
     },
     "execution_count": 25,
     "metadata": {},
     "output_type": "execute_result"
    }
   ],
   "source": [
    "my_array2[:2, 1:4]"
   ]
  },
  {
   "cell_type": "code",
   "execution_count": 26,
   "id": "a3e9807e-2a5d-4169-abad-5bf784be632a",
   "metadata": {},
   "outputs": [
    {
     "data": {
      "text/plain": [
       "array([[ 2, 14, 13],\n",
       "       [17,  6, 12],\n",
       "       [ 2,  5, 11]])"
      ]
     },
     "execution_count": 26,
     "metadata": {},
     "output_type": "execute_result"
    }
   ],
   "source": [
    "my_array2[:3, 1:4]"
   ]
  },
  {
   "cell_type": "code",
   "execution_count": 27,
   "id": "5dfbf664-92f1-455a-b099-de23f83eac09",
   "metadata": {},
   "outputs": [
    {
     "data": {
      "text/plain": [
       "array([[25, 18, 39, 35,  6, 37, 35, 11],\n",
       "       [24, 47, 24, 12, 30, 46, 47, 22],\n",
       "       [ 9, 20, 37, 25, 49,  0, 26,  4],\n",
       "       [26, 32,  4, 39, 42,  0, 25, 40],\n",
       "       [46, 14,  2, 14, 10, 38, 48, 17],\n",
       "       [44, 42, 36, 20, 19, 12, 35, 24],\n",
       "       [45, 37, 47, 38, 16,  2,  1,  5],\n",
       "       [ 1,  5, 28, 22, 37, 46, 12, 30]])"
      ]
     },
     "execution_count": 27,
     "metadata": {},
     "output_type": "execute_result"
    }
   ],
   "source": [
    "my_array3 = np.random.randint(50, size=(8,8))\n",
    "my_array3"
   ]
  },
  {
   "cell_type": "code",
   "execution_count": 28,
   "id": "9e6f692f-8693-4e49-b216-2fc0b4f21859",
   "metadata": {},
   "outputs": [
    {
     "data": {
      "text/plain": [
       "array([[20, 37, 25, 49,  0, 26],\n",
       "       [32,  4, 39, 42,  0, 25],\n",
       "       [14,  2, 14, 10, 38, 48],\n",
       "       [42, 36, 20, 19, 12, 35],\n",
       "       [37, 47, 38, 16,  2,  1]])"
      ]
     },
     "execution_count": 28,
     "metadata": {},
     "output_type": "execute_result"
    }
   ],
   "source": [
    "my_array3[2:7, 1:7]"
   ]
  },
  {
   "cell_type": "code",
   "execution_count": 29,
   "id": "57abe9ad-ebd0-4844-9c34-9c050384f627",
   "metadata": {},
   "outputs": [
    {
     "data": {
      "text/plain": [
       "array([[45, 37, 47, 38, 16,  2,  1,  5],\n",
       "       [ 1,  5, 28, 22, 37, 46, 12, 30]])"
      ]
     },
     "execution_count": 29,
     "metadata": {},
     "output_type": "execute_result"
    }
   ],
   "source": [
    "my_array3[6:,:]"
   ]
  },
  {
   "cell_type": "code",
   "execution_count": 30,
   "id": "2cf65fc7-0afd-4cb7-bb83-9f3bf14a5a74",
   "metadata": {},
   "outputs": [
    {
     "data": {
      "text/plain": [
       "array([[19, 12],\n",
       "       [16,  2]])"
      ]
     },
     "execution_count": 30,
     "metadata": {},
     "output_type": "execute_result"
    }
   ],
   "source": [
    "my_array3[5:7,4:6]"
   ]
  },
  {
   "cell_type": "code",
   "execution_count": 31,
   "id": "747949e2-1216-45e2-a8f4-2187fe7e5c8d",
   "metadata": {},
   "outputs": [
    {
     "data": {
      "text/plain": [
       "array([25, 18, 39, 35,  6, 37, 35, 11])"
      ]
     },
     "execution_count": 31,
     "metadata": {},
     "output_type": "execute_result"
    }
   ],
   "source": [
    "my_array3[0, :]"
   ]
  },
  {
   "cell_type": "code",
   "execution_count": 32,
   "id": "cc0db2c5-e499-45dd-a94f-d89db4797edd",
   "metadata": {},
   "outputs": [
    {
     "data": {
      "text/plain": [
       "array([25, 24,  9, 26, 46, 44, 45,  1])"
      ]
     },
     "execution_count": 32,
     "metadata": {},
     "output_type": "execute_result"
    }
   ],
   "source": [
    "my_array3[:,0]"
   ]
  },
  {
   "cell_type": "code",
   "execution_count": 33,
   "id": "e432e155-b0f7-46bd-b217-0c6630fe06e6",
   "metadata": {},
   "outputs": [
    {
     "data": {
      "text/plain": [
       "array([ 0,  2,  4,  6,  8, 10, 12, 14, 16, 18])"
      ]
     },
     "execution_count": 33,
     "metadata": {},
     "output_type": "execute_result"
    }
   ],
   "source": [
    "my_array = np.arange(0, 20, 2)\n",
    "my_array"
   ]
  },
  {
   "cell_type": "code",
   "execution_count": 35,
   "id": "8fbb31c6-f8f7-4c8a-a36e-f92bde9a961a",
   "metadata": {},
   "outputs": [
    {
     "data": {
      "text/plain": [
       "array([ 2,  6, 10])"
      ]
     },
     "execution_count": 35,
     "metadata": {},
     "output_type": "execute_result"
    }
   ],
   "source": [
    "my_array[1:7:2]"
   ]
  }
 ],
 "metadata": {
  "kernelspec": {
   "display_name": "Python 3 (ipykernel)",
   "language": "python",
   "name": "python3"
  },
  "language_info": {
   "codemirror_mode": {
    "name": "ipython",
    "version": 3
   },
   "file_extension": ".py",
   "mimetype": "text/x-python",
   "name": "python",
   "nbconvert_exporter": "python",
   "pygments_lexer": "ipython3",
   "version": "3.9.12"
  }
 },
 "nbformat": 4,
 "nbformat_minor": 5
}
