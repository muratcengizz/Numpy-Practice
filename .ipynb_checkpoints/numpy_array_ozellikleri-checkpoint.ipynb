{
 "cells": [
  {
   "cell_type": "markdown",
   "id": "38a6a13f-f2e7-46dc-9e53-16b75bf7c405",
   "metadata": {},
   "source": [
    "* **ndim**: boyut sayısı\n",
    "* **shape**: boyut bilgisi\n",
    "* **size**: toplam eleman sayısı\n",
    "* **dtype**: array veri tipi"
   ]
  },
  {
   "cell_type": "code",
   "execution_count": 2,
   "id": "b3435353-5b84-432b-af13-bdb3bfc1a183",
   "metadata": {},
   "outputs": [],
   "source": [
    "import numpy as np"
   ]
  },
  {
   "cell_type": "code",
   "execution_count": 3,
   "id": "73eeec2f-d7e3-419e-96a1-373291661680",
   "metadata": {},
   "outputs": [
    {
     "data": {
      "text/plain": [
       "array([9, 7, 3, 8, 7, 4, 3, 9, 8, 6])"
      ]
     },
     "execution_count": 3,
     "metadata": {},
     "output_type": "execute_result"
    }
   ],
   "source": [
    "np.random.randint(10, size=10)"
   ]
  },
  {
   "cell_type": "code",
   "execution_count": 4,
   "id": "6335ff05-ffc7-40e2-9ecc-d8c9005d3be6",
   "metadata": {},
   "outputs": [],
   "source": [
    "a = np.random.randint(10, size=10)"
   ]
  },
  {
   "cell_type": "code",
   "execution_count": 5,
   "id": "366bbd6e-ce21-4ca3-a98d-46764396b23b",
   "metadata": {},
   "outputs": [
    {
     "data": {
      "text/plain": [
       "array([2, 5, 9, 4, 1, 6, 5, 0, 4, 3])"
      ]
     },
     "execution_count": 5,
     "metadata": {},
     "output_type": "execute_result"
    }
   ],
   "source": [
    "a"
   ]
  },
  {
   "cell_type": "code",
   "execution_count": 6,
   "id": "065ef9d4-bae6-45bf-b51b-79fd5dce7ec7",
   "metadata": {},
   "outputs": [
    {
     "data": {
      "text/plain": [
       "1"
      ]
     },
     "execution_count": 6,
     "metadata": {},
     "output_type": "execute_result"
    }
   ],
   "source": [
    "a.ndim"
   ]
  },
  {
   "cell_type": "code",
   "execution_count": 7,
   "id": "1e5b2914-dda9-46a5-a6fb-f25a40f5266a",
   "metadata": {},
   "outputs": [
    {
     "data": {
      "text/plain": [
       "(10,)"
      ]
     },
     "execution_count": 7,
     "metadata": {},
     "output_type": "execute_result"
    }
   ],
   "source": [
    "a.shape"
   ]
  },
  {
   "cell_type": "code",
   "execution_count": 8,
   "id": "5d461645-7c27-44d3-b373-70193fc2530b",
   "metadata": {},
   "outputs": [
    {
     "data": {
      "text/plain": [
       "10"
      ]
     },
     "execution_count": 8,
     "metadata": {},
     "output_type": "execute_result"
    }
   ],
   "source": [
    "a.size"
   ]
  },
  {
   "cell_type": "code",
   "execution_count": 9,
   "id": "749fe173-c010-4410-94b2-ab2dc378185d",
   "metadata": {},
   "outputs": [
    {
     "data": {
      "text/plain": [
       "dtype('int32')"
      ]
     },
     "execution_count": 9,
     "metadata": {},
     "output_type": "execute_result"
    }
   ],
   "source": [
    "a.dtype"
   ]
  },
  {
   "cell_type": "code",
   "execution_count": 10,
   "id": "30cd4069-1b7e-4e30-9d3d-f092eff6eaac",
   "metadata": {},
   "outputs": [],
   "source": [
    "#------------------------------------------------------------------------"
   ]
  },
  {
   "cell_type": "code",
   "execution_count": 11,
   "id": "45534be1-0bcd-4882-b492-9f3c7039120e",
   "metadata": {},
   "outputs": [],
   "source": [
    "b = np.random.randint(10, size = (3,5))"
   ]
  },
  {
   "cell_type": "code",
   "execution_count": 12,
   "id": "79f6e23c-1f1a-4d52-a2ca-1321ae46e615",
   "metadata": {},
   "outputs": [
    {
     "data": {
      "text/plain": [
       "array([[9, 4, 5, 4, 6],\n",
       "       [8, 7, 5, 3, 3],\n",
       "       [8, 3, 0, 8, 5]])"
      ]
     },
     "execution_count": 12,
     "metadata": {},
     "output_type": "execute_result"
    }
   ],
   "source": [
    "b"
   ]
  },
  {
   "cell_type": "code",
   "execution_count": 13,
   "id": "6ae79f55-8a01-4cc1-b71f-4a6b5450c0f5",
   "metadata": {},
   "outputs": [
    {
     "data": {
      "text/plain": [
       "2"
      ]
     },
     "execution_count": 13,
     "metadata": {},
     "output_type": "execute_result"
    }
   ],
   "source": [
    "b.ndim"
   ]
  },
  {
   "cell_type": "code",
   "execution_count": 14,
   "id": "2e44472c-a8d2-41c2-afa6-3735d9c0d157",
   "metadata": {},
   "outputs": [
    {
     "data": {
      "text/plain": [
       "(3, 5)"
      ]
     },
     "execution_count": 14,
     "metadata": {},
     "output_type": "execute_result"
    }
   ],
   "source": [
    "b.shape"
   ]
  },
  {
   "cell_type": "code",
   "execution_count": 15,
   "id": "eff822b8-000e-4eab-8a0f-785f50f9550d",
   "metadata": {},
   "outputs": [
    {
     "data": {
      "text/plain": [
       "15"
      ]
     },
     "execution_count": 15,
     "metadata": {},
     "output_type": "execute_result"
    }
   ],
   "source": [
    "b.size"
   ]
  },
  {
   "cell_type": "code",
   "execution_count": 16,
   "id": "9b76462e-0601-4b87-a0cc-0fb08a513728",
   "metadata": {},
   "outputs": [
    {
     "data": {
      "text/plain": [
       "dtype('int32')"
      ]
     },
     "execution_count": 16,
     "metadata": {},
     "output_type": "execute_result"
    }
   ],
   "source": [
    "b.dtype"
   ]
  },
  {
   "cell_type": "code",
   "execution_count": 17,
   "id": "5f6ff301-8443-4ec1-a667-bd586742ec8b",
   "metadata": {},
   "outputs": [],
   "source": [
    "#----------------------------------------------------------------------"
   ]
  },
  {
   "cell_type": "code",
   "execution_count": 18,
   "id": "e2138cda-0d0d-4718-8dd1-51e5fedb7c09",
   "metadata": {},
   "outputs": [],
   "source": [
    "c = np.random.randint(15, size=(2, 8))"
   ]
  },
  {
   "cell_type": "code",
   "execution_count": 19,
   "id": "43b03814-db50-48ed-8ede-72585df5612b",
   "metadata": {},
   "outputs": [
    {
     "data": {
      "text/plain": [
       "array([[ 9, 13,  4,  8,  3,  4,  8, 12],\n",
       "       [ 7, 11,  3,  1, 14, 11, 13,  4]])"
      ]
     },
     "execution_count": 19,
     "metadata": {},
     "output_type": "execute_result"
    }
   ],
   "source": [
    "c"
   ]
  },
  {
   "cell_type": "code",
   "execution_count": 20,
   "id": "1b41107b-6b9c-4297-9923-64022a7d4ead",
   "metadata": {},
   "outputs": [
    {
     "data": {
      "text/plain": [
       "2"
      ]
     },
     "execution_count": 20,
     "metadata": {},
     "output_type": "execute_result"
    }
   ],
   "source": [
    "c.ndim"
   ]
  },
  {
   "cell_type": "code",
   "execution_count": 21,
   "id": "f01270d9-7796-4903-be00-d68161a25306",
   "metadata": {},
   "outputs": [
    {
     "data": {
      "text/plain": [
       "(2, 8)"
      ]
     },
     "execution_count": 21,
     "metadata": {},
     "output_type": "execute_result"
    }
   ],
   "source": [
    "c.shape"
   ]
  },
  {
   "cell_type": "code",
   "execution_count": 22,
   "id": "f087ae85-88a8-46ea-9343-21e6108cf595",
   "metadata": {},
   "outputs": [
    {
     "data": {
      "text/plain": [
       "16"
      ]
     },
     "execution_count": 22,
     "metadata": {},
     "output_type": "execute_result"
    }
   ],
   "source": [
    "c.size"
   ]
  },
  {
   "cell_type": "code",
   "execution_count": 23,
   "id": "5dd2dc15-142a-4acd-af74-873131a53430",
   "metadata": {},
   "outputs": [
    {
     "data": {
      "text/plain": [
       "dtype('int32')"
      ]
     },
     "execution_count": 23,
     "metadata": {},
     "output_type": "execute_result"
    }
   ],
   "source": [
    "c.dtype"
   ]
  },
  {
   "cell_type": "code",
   "execution_count": 24,
   "id": "657d69e5-981d-4252-bb88-c5ce41e4477d",
   "metadata": {},
   "outputs": [],
   "source": [
    "#------------------------------------------------------------------------------"
   ]
  },
  {
   "cell_type": "code",
   "execution_count": 25,
   "id": "bf174e8d-0a37-4690-905f-1789c071948a",
   "metadata": {},
   "outputs": [],
   "source": [
    "d = np.random.randint(20, size=(3,9))"
   ]
  },
  {
   "cell_type": "code",
   "execution_count": 26,
   "id": "2cb5b3f3-ff0f-4348-a271-06bf57802eef",
   "metadata": {},
   "outputs": [
    {
     "data": {
      "text/plain": [
       "array([[ 3,  8,  7,  5,  0, 10, 17, 11,  7],\n",
       "       [ 3, 14, 15, 19, 15,  5,  7, 10, 19],\n",
       "       [13, 14, 10, 12,  5,  7,  4,  9,  2]])"
      ]
     },
     "execution_count": 26,
     "metadata": {},
     "output_type": "execute_result"
    }
   ],
   "source": [
    "d"
   ]
  },
  {
   "cell_type": "code",
   "execution_count": 27,
   "id": "379cdcc2-1f17-4b38-9f0e-963a391b8bd6",
   "metadata": {},
   "outputs": [
    {
     "data": {
      "text/plain": [
       "2"
      ]
     },
     "execution_count": 27,
     "metadata": {},
     "output_type": "execute_result"
    }
   ],
   "source": [
    "d.ndim"
   ]
  },
  {
   "cell_type": "code",
   "execution_count": 28,
   "id": "6f875666-ec4f-4e42-bf83-b51a4fd43d99",
   "metadata": {},
   "outputs": [
    {
     "data": {
      "text/plain": [
       "(3, 9)"
      ]
     },
     "execution_count": 28,
     "metadata": {},
     "output_type": "execute_result"
    }
   ],
   "source": [
    "d.shape"
   ]
  },
  {
   "cell_type": "code",
   "execution_count": 29,
   "id": "cf3a1b1b-5a3b-4488-bcdd-92457765db6d",
   "metadata": {},
   "outputs": [
    {
     "data": {
      "text/plain": [
       "27"
      ]
     },
     "execution_count": 29,
     "metadata": {},
     "output_type": "execute_result"
    }
   ],
   "source": [
    "d.size"
   ]
  },
  {
   "cell_type": "code",
   "execution_count": 30,
   "id": "59be5015-62b1-4c3c-94ac-bb112c953927",
   "metadata": {},
   "outputs": [
    {
     "data": {
      "text/plain": [
       "dtype('int32')"
      ]
     },
     "execution_count": 30,
     "metadata": {},
     "output_type": "execute_result"
    }
   ],
   "source": [
    "d.dtype"
   ]
  },
  {
   "cell_type": "code",
   "execution_count": 31,
   "id": "136075fb-f83c-4b97-a392-2a12da32f0bb",
   "metadata": {},
   "outputs": [],
   "source": [
    "#------------------------------------------------------------------------------------"
   ]
  },
  {
   "cell_type": "code",
   "execution_count": 32,
   "id": "1c6d78db-c5e6-448a-b26a-44a03388bf3f",
   "metadata": {},
   "outputs": [],
   "source": [
    "q = np.array([1,2,3,4,5,6])"
   ]
  },
  {
   "cell_type": "code",
   "execution_count": 35,
   "id": "95554223-594b-4b3e-8ff4-102f9ac49c68",
   "metadata": {},
   "outputs": [
    {
     "data": {
      "text/plain": [
       "1"
      ]
     },
     "execution_count": 35,
     "metadata": {},
     "output_type": "execute_result"
    }
   ],
   "source": [
    "q.ndim"
   ]
  },
  {
   "cell_type": "code",
   "execution_count": 36,
   "id": "ad2f8262-8e7d-4986-9e16-205c319ec61e",
   "metadata": {},
   "outputs": [
    {
     "data": {
      "text/plain": [
       "(6,)"
      ]
     },
     "execution_count": 36,
     "metadata": {},
     "output_type": "execute_result"
    }
   ],
   "source": [
    "q.shape"
   ]
  },
  {
   "cell_type": "code",
   "execution_count": 37,
   "id": "0f8f9226-3202-4e9b-8578-73db4e461f2b",
   "metadata": {},
   "outputs": [
    {
     "data": {
      "text/plain": [
       "6"
      ]
     },
     "execution_count": 37,
     "metadata": {},
     "output_type": "execute_result"
    }
   ],
   "source": [
    "q.size"
   ]
  },
  {
   "cell_type": "code",
   "execution_count": 38,
   "id": "ce432de8-b47b-4c8b-a363-267182d55a2f",
   "metadata": {},
   "outputs": [
    {
     "data": {
      "text/plain": [
       "dtype('int32')"
      ]
     },
     "execution_count": 38,
     "metadata": {},
     "output_type": "execute_result"
    }
   ],
   "source": [
    "q.dtype"
   ]
  },
  {
   "cell_type": "code",
   "execution_count": 39,
   "id": "9d31bff1-8284-4157-8e47-a41dd9722d71",
   "metadata": {},
   "outputs": [],
   "source": [
    "deneme = np.array([1,2,3,4, '5', '6'])"
   ]
  },
  {
   "cell_type": "code",
   "execution_count": 40,
   "id": "ac26640c-2cf8-4913-b3c7-ef40bb30b69c",
   "metadata": {},
   "outputs": [
    {
     "data": {
      "text/plain": [
       "array(['1', '2', '3', '4', '5', '6'], dtype='<U11')"
      ]
     },
     "execution_count": 40,
     "metadata": {},
     "output_type": "execute_result"
    }
   ],
   "source": [
    "deneme"
   ]
  },
  {
   "cell_type": "code",
   "execution_count": 41,
   "id": "ce0891d5-ec7c-4ed9-958e-e6d3b67c3876",
   "metadata": {},
   "outputs": [
    {
     "data": {
      "text/plain": [
       "dtype('<U11')"
      ]
     },
     "execution_count": 41,
     "metadata": {},
     "output_type": "execute_result"
    }
   ],
   "source": [
    "deneme.dtype"
   ]
  },
  {
   "cell_type": "code",
   "execution_count": 42,
   "id": "ee068248-08bf-4318-8f0b-ce61434faff7",
   "metadata": {},
   "outputs": [],
   "source": [
    "deneme1 = np.array(['murat', 'cengiz', 1,2,3,4])"
   ]
  },
  {
   "cell_type": "code",
   "execution_count": 43,
   "id": "28f93d78-675b-47d3-8150-e4816b83d3dd",
   "metadata": {},
   "outputs": [
    {
     "data": {
      "text/plain": [
       "array(['murat', 'cengiz', '1', '2', '3', '4'], dtype='<U11')"
      ]
     },
     "execution_count": 43,
     "metadata": {},
     "output_type": "execute_result"
    }
   ],
   "source": [
    "deneme1"
   ]
  },
  {
   "cell_type": "code",
   "execution_count": 58,
   "id": "dab39c48-74a2-4daa-a8bd-fdcae70f59ee",
   "metadata": {},
   "outputs": [
    {
     "data": {
      "text/plain": [
       "array([[6, 7, 8],\n",
       "       [5, 6, 9],\n",
       "       [7, 6, 9]])"
      ]
     },
     "execution_count": 59,
     "metadata": {},
     "output_type": "execute_result"
    }
   ],
   "source": [
    "np.random.randint(10, size=(3,3))"
   ]
  },
  {
   "cell_type": "code",
   "execution_count": 61,
   "id": "d3eb61cc-b4c5-4724-83bb-fcc108459676",
   "metadata": {},
   "outputs": [],
   "source": [
    "gir = np.random.randint(20, size=(3, 4))"
   ]
  },
  {
   "cell_type": "code",
   "execution_count": 62,
   "id": "5194abcc-3526-4d0d-b960-e07d37a2ee27",
   "metadata": {},
   "outputs": [
    {
     "data": {
      "text/plain": [
       "array([[ 3, 18, 18,  5],\n",
       "       [ 3,  8, 16,  9],\n",
       "       [ 3, 12, 16,  5]])"
      ]
     },
     "execution_count": 62,
     "metadata": {},
     "output_type": "execute_result"
    }
   ],
   "source": [
    "gir"
   ]
  }
 ],
 "metadata": {
  "kernelspec": {
   "display_name": "Python 3 (ipykernel)",
   "language": "python",
   "name": "python3"
  },
  "language_info": {
   "codemirror_mode": {
    "name": "ipython",
    "version": 3
   },
   "file_extension": ".py",
   "mimetype": "text/x-python",
   "name": "python",
   "nbconvert_exporter": "python",
   "pygments_lexer": "ipython3",
   "version": "3.9.12"
  }
 },
 "nbformat": 4,
 "nbformat_minor": 5
}
