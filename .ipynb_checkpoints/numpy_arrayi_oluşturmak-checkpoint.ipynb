{
 "cells": [
  {
   "cell_type": "code",
   "execution_count": 1,
   "id": "095986eb-c79c-4f8f-bc31-e57d65d079e9",
   "metadata": {},
   "outputs": [],
   "source": [
    "# Numpy Array'i Oluşturmak"
   ]
  },
  {
   "cell_type": "code",
   "execution_count": 2,
   "id": "32096a08-72ef-4f0f-880c-fa1509e55aad",
   "metadata": {},
   "outputs": [],
   "source": [
    "import numpy as np"
   ]
  },
  {
   "cell_type": "code",
   "execution_count": 12,
   "id": "160d4a52-4eca-4643-88c3-8ee3691098d9",
   "metadata": {},
   "outputs": [],
   "source": [
    "# Normal listeler kullandıldığında liste içerisindeki her bir eleman ön bellekte yer kaplar. Fakat Numpy dizileri kullanıldığı zaman numpy dizisi 1 birim yer kaplar. Büyük bir tasarruf sağlanmış olunur."
   ]
  },
  {
   "cell_type": "code",
   "execution_count": 3,
   "id": "9d908d05-a860-4518-a4ac-09dfd954935a",
   "metadata": {},
   "outputs": [
    {
     "data": {
      "text/plain": [
       "array([1, 2, 3, 4, 5])"
      ]
     },
     "execution_count": 3,
     "metadata": {},
     "output_type": "execute_result"
    }
   ],
   "source": [
    "np.array([1,2,3,4,5])"
   ]
  },
  {
   "cell_type": "code",
   "execution_count": 4,
   "id": "229222e1-2bfc-4c44-8cc8-fc9e46dacfac",
   "metadata": {},
   "outputs": [],
   "source": [
    "a = np.array([1,2,3,4,5])"
   ]
  },
  {
   "cell_type": "code",
   "execution_count": 5,
   "id": "77063fd5-81fe-479f-b340-96454e3319c2",
   "metadata": {},
   "outputs": [
    {
     "data": {
      "text/plain": [
       "numpy.ndarray"
      ]
     },
     "execution_count": 5,
     "metadata": {},
     "output_type": "execute_result"
    }
   ],
   "source": [
    "type(a)"
   ]
  },
  {
   "cell_type": "code",
   "execution_count": 7,
   "id": "55bd37e4-942e-460c-b605-02d350c2f1e8",
   "metadata": {},
   "outputs": [
    {
     "data": {
      "text/plain": [
       "array([ 3.14,  4.  , 12.  , 18.  ])"
      ]
     },
     "execution_count": 7,
     "metadata": {},
     "output_type": "execute_result"
    }
   ],
   "source": [
    "np.array([3.14, 4, 12, 18]) #Numpy dizileri, verileri tek tip olmaya zorlar."
   ]
  },
  {
   "cell_type": "code",
   "execution_count": 10,
   "id": "13535ad8-bf40-4db2-a793-ea5d267eeab1",
   "metadata": {},
   "outputs": [
    {
     "data": {
      "text/plain": [
       "array([ 3.14,  4.  , 12.  , 18.  ], dtype=float32)"
      ]
     },
     "execution_count": 10,
     "metadata": {},
     "output_type": "execute_result"
    }
   ],
   "source": [
    "np.array([3.14, 4, 12, 18], dtype=\"float32\") # Numpy dizimiz float olmaya zorlandı"
   ]
  },
  {
   "cell_type": "code",
   "execution_count": 11,
   "id": "b5ccbda9-d905-45cb-ba98-39c2a348b6d6",
   "metadata": {},
   "outputs": [
    {
     "data": {
      "text/plain": [
       "array([ 3,  4, 12, 18])"
      ]
     },
     "execution_count": 11,
     "metadata": {},
     "output_type": "execute_result"
    }
   ],
   "source": [
    "np.array([3.14, 4, 12, 18], dtype=\"int\") # Numpy dizimiz integer olmaya zorlandı."
   ]
  },
  {
   "cell_type": "code",
   "execution_count": 13,
   "id": "c091c117-a104-40f0-af29-615a7cf92599",
   "metadata": {},
   "outputs": [],
   "source": [
    "# sifirdaan array oluşturma"
   ]
  },
  {
   "cell_type": "code",
   "execution_count": 14,
   "id": "dbb809fb-63a1-402e-b901-9c6293164911",
   "metadata": {},
   "outputs": [
    {
     "data": {
      "text/plain": [
       "array([0, 0, 0, 0, 0, 0, 0, 0, 0, 0])"
      ]
     },
     "execution_count": 14,
     "metadata": {},
     "output_type": "execute_result"
    }
   ],
   "source": [
    "np.zeros(10, dtype=int)"
   ]
  },
  {
   "cell_type": "code",
   "execution_count": 15,
   "id": "c5fb2f66-5386-4aaa-992c-a80272d330bf",
   "metadata": {},
   "outputs": [
    {
     "data": {
      "text/plain": [
       "array([0., 0., 0., 0., 0., 0., 0., 0., 0., 0.])"
      ]
     },
     "execution_count": 15,
     "metadata": {},
     "output_type": "execute_result"
    }
   ],
   "source": [
    "np.zeros(10, dtype=float)"
   ]
  },
  {
   "cell_type": "code",
   "execution_count": 16,
   "id": "b1bfe786-bc3b-4df8-9aa4-a3bd4e3a2bff",
   "metadata": {},
   "outputs": [
    {
     "data": {
      "text/plain": [
       "array([[1, 1, 1],\n",
       "       [1, 1, 1]])"
      ]
     },
     "execution_count": 16,
     "metadata": {},
     "output_type": "execute_result"
    }
   ],
   "source": [
    "np.ones((2, 3), dtype=int)"
   ]
  },
  {
   "cell_type": "code",
   "execution_count": 17,
   "id": "1da567dd-0be7-453e-8284-64473ba4d874",
   "metadata": {},
   "outputs": [
    {
     "data": {
      "text/plain": [
       "array([[1, 1, 1, 1, 1, 1, 1, 1],\n",
       "       [1, 1, 1, 1, 1, 1, 1, 1],\n",
       "       [1, 1, 1, 1, 1, 1, 1, 1]])"
      ]
     },
     "execution_count": 17,
     "metadata": {},
     "output_type": "execute_result"
    }
   ],
   "source": [
    "np.ones((3, 8), dtype=int)"
   ]
  },
  {
   "cell_type": "code",
   "execution_count": 18,
   "id": "1778e58a-f411-4aac-82c7-2d1f81001b40",
   "metadata": {},
   "outputs": [
    {
     "data": {
      "text/plain": [
       "array([[1., 1., 1., 1., 1.],\n",
       "       [1., 1., 1., 1., 1.]])"
      ]
     },
     "execution_count": 18,
     "metadata": {},
     "output_type": "execute_result"
    }
   ],
   "source": [
    "np.ones((2,5), dtype=float)"
   ]
  },
  {
   "cell_type": "code",
   "execution_count": 21,
   "id": "3ade6fd8-2825-4062-9d73-d0d9b488fdc5",
   "metadata": {},
   "outputs": [
    {
     "data": {
      "text/plain": [
       "array([[3, 3, 3, 3, 3],\n",
       "       [3, 3, 3, 3, 3]])"
      ]
     },
     "execution_count": 21,
     "metadata": {},
     "output_type": "execute_result"
    }
   ],
   "source": [
    "np.full((2,5), 3)"
   ]
  },
  {
   "cell_type": "code",
   "execution_count": 22,
   "id": "0ede103f-2da7-43af-a46d-85e6f502f78b",
   "metadata": {},
   "outputs": [
    {
     "data": {
      "text/plain": [
       "array([[9, 9, 9, 9],\n",
       "       [9, 9, 9, 9]])"
      ]
     },
     "execution_count": 22,
     "metadata": {},
     "output_type": "execute_result"
    }
   ],
   "source": [
    "np.full((2,4), 9, dtype=int)"
   ]
  },
  {
   "cell_type": "code",
   "execution_count": 23,
   "id": "f0b5e135-4da9-480f-bc5d-26f3852eb4f2",
   "metadata": {},
   "outputs": [
    {
     "data": {
      "text/plain": [
       "array([[15., 15., 15., 15.],\n",
       "       [15., 15., 15., 15.],\n",
       "       [15., 15., 15., 15.],\n",
       "       [15., 15., 15., 15.],\n",
       "       [15., 15., 15., 15.]])"
      ]
     },
     "execution_count": 23,
     "metadata": {},
     "output_type": "execute_result"
    }
   ],
   "source": [
    "np.full((5, 4), 15, dtype=float)"
   ]
  },
  {
   "cell_type": "code",
   "execution_count": 24,
   "id": "3dcf4d18-5273-4b04-9c55-407391a59e39",
   "metadata": {},
   "outputs": [
    {
     "data": {
      "text/plain": [
       "array([ 0,  5, 10, 15, 20, 25])"
      ]
     },
     "execution_count": 24,
     "metadata": {},
     "output_type": "execute_result"
    }
   ],
   "source": [
    "np.arange(0, 30, 5)"
   ]
  },
  {
   "cell_type": "code",
   "execution_count": 25,
   "id": "9ec44289-31c6-4259-b75c-42bb9b132f53",
   "metadata": {},
   "outputs": [
    {
     "data": {
      "text/plain": [
       "array([ 5, 15, 25, 35, 45, 55, 65, 75, 85, 95])"
      ]
     },
     "execution_count": 25,
     "metadata": {},
     "output_type": "execute_result"
    }
   ],
   "source": [
    "np.arange(5, 101, 10)"
   ]
  },
  {
   "cell_type": "code",
   "execution_count": 28,
   "id": "79473aa3-8f55-4574-92ac-bec7447a9f91",
   "metadata": {},
   "outputs": [],
   "source": [
    "# linspace parametresini kullanarak standart sapma hesaplaması yapmak için veri üretilebilir!"
   ]
  },
  {
   "cell_type": "code",
   "execution_count": 26,
   "id": "086fa375-73be-44b7-a948-cb222eec0dad",
   "metadata": {},
   "outputs": [
    {
     "data": {
      "text/plain": [
       "array([0. , 0.2, 0.4, 0.6, 0.8, 1. ])"
      ]
     },
     "execution_count": 26,
     "metadata": {},
     "output_type": "execute_result"
    }
   ],
   "source": [
    "np.linspace(0,1 ,6)"
   ]
  },
  {
   "cell_type": "code",
   "execution_count": 27,
   "id": "61b8efe8-0747-4c4a-a7ef-3823b632240f",
   "metadata": {},
   "outputs": [
    {
     "data": {
      "text/plain": [
       "array([ 5.        ,  5.35714286,  5.71428571,  6.07142857,  6.42857143,\n",
       "        6.78571429,  7.14285714,  7.5       ,  7.85714286,  8.21428571,\n",
       "        8.57142857,  8.92857143,  9.28571429,  9.64285714, 10.        ])"
      ]
     },
     "execution_count": 27,
     "metadata": {},
     "output_type": "execute_result"
    }
   ],
   "source": [
    "np.linspace(5, 10, 15)"
   ]
  },
  {
   "cell_type": "code",
   "execution_count": 29,
   "id": "b03d14e9-6c47-40bb-84fb-7268ea0310ad",
   "metadata": {},
   "outputs": [
    {
     "data": {
      "text/plain": [
       "array([10.        , 10.05263158, 10.10526316, 10.15789474, 10.21052632,\n",
       "       10.26315789, 10.31578947, 10.36842105, 10.42105263, 10.47368421,\n",
       "       10.52631579, 10.57894737, 10.63157895, 10.68421053, 10.73684211,\n",
       "       10.78947368, 10.84210526, 10.89473684, 10.94736842, 11.        ])"
      ]
     },
     "execution_count": 29,
     "metadata": {},
     "output_type": "execute_result"
    }
   ],
   "source": [
    "np.linspace(10,11, 20)"
   ]
  },
  {
   "cell_type": "code",
   "execution_count": 30,
   "id": "7a84f357-376b-41ad-90c7-ea31092d7aaa",
   "metadata": {},
   "outputs": [],
   "source": [
    "# tek boyutlu array 'in karşılığı vektördür.\n",
    "# iki boyutlu array 'in karşılığı matrisdir."
   ]
  },
  {
   "cell_type": "code",
   "execution_count": 31,
   "id": "d314baaf-e05a-48b3-87af-39f394337e14",
   "metadata": {},
   "outputs": [],
   "source": [
    "# dizinin istediğimiz ortalama ve standart sapma değerlerini girerek bir dizi oluşturabiliriz"
   ]
  },
  {
   "cell_type": "code",
   "execution_count": 33,
   "id": "1a451515-6e68-40a6-a46e-5f76e2b3c210",
   "metadata": {},
   "outputs": [
    {
     "data": {
      "text/plain": [
       "array([[ 5.75486622,  4.8102876 , 13.00626572, 16.10220261],\n",
       "       [12.77739655, -0.49079966, 11.41488918,  5.76698165],\n",
       "       [11.50626601,  8.62658515, 10.23987836,  8.78189024]])"
      ]
     },
     "execution_count": 33,
     "metadata": {},
     "output_type": "execute_result"
    }
   ],
   "source": [
    "np.random.normal(10, 5, (3,4))\n",
    "# birinci parametre: dizi ortalaması\n",
    "# ikinci parametre: standart sapması\n",
    "# üçüncü parametre: kolon ve satır sayısı"
   ]
  },
  {
   "cell_type": "code",
   "execution_count": 35,
   "id": "5005972d-2dfb-4add-92ea-9b6f27090c3d",
   "metadata": {},
   "outputs": [
    {
     "data": {
      "text/plain": [
       "array([[ 0, 11, 18],\n",
       "       [ 9,  7, 14],\n",
       "       [ 5, 13, 20]])"
      ]
     },
     "execution_count": 35,
     "metadata": {},
     "output_type": "execute_result"
    }
   ],
   "source": [
    "np.random.randint(0, 21, (3,3))\n",
    "# birinci parametre: başlangıç değeri\n",
    "# ikinci parametre: bitiş değeri (dahil değil)\n",
    "# üçüncü parametre: kolon ve satır sayısı"
   ]
  }
 ],
 "metadata": {
  "kernelspec": {
   "display_name": "Python 3 (ipykernel)",
   "language": "python",
   "name": "python3"
  },
  "language_info": {
   "codemirror_mode": {
    "name": "ipython",
    "version": 3
   },
   "file_extension": ".py",
   "mimetype": "text/x-python",
   "name": "python",
   "nbconvert_exporter": "python",
   "pygments_lexer": "ipython3",
   "version": "3.9.12"
  }
 },
 "nbformat": 4,
 "nbformat_minor": 5
}
