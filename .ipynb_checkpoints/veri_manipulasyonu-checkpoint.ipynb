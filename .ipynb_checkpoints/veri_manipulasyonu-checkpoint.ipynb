{
 "cells": [
  {
   "cell_type": "code",
   "execution_count": 6,
   "id": "9561452f-fe98-493b-bc88-dc36761d266f",
   "metadata": {},
   "outputs": [],
   "source": [
    "a = [1,2,3,4]\n",
    "b = [ 2,3,4,5]\n"
   ]
  },
  {
   "cell_type": "code",
   "execution_count": 9,
   "id": "d0716cb8-7d74-4b2b-bba8-906b94f6a31e",
   "metadata": {},
   "outputs": [
    {
     "data": {
      "text/plain": [
       "[2, 6, 12, 20]"
      ]
     },
     "execution_count": 9,
     "metadata": {},
     "output_type": "execute_result"
    }
   ],
   "source": [
    "ab = []\n",
    "\n",
    "for i in range(0, len(a)):\n",
    "    ab.append(a[i] * b[i])\n",
    "ab"
   ]
  },
  {
   "cell_type": "code",
   "execution_count": 2,
   "id": "2b0393e7-e1eb-4cd1-a31a-62c98b179b35",
   "metadata": {},
   "outputs": [],
   "source": [
    "import numpy as np"
   ]
  },
  {
   "cell_type": "code",
   "execution_count": 3,
   "id": "3fbe3140-03f0-4b80-a372-2051513af0f6",
   "metadata": {},
   "outputs": [
    {
     "data": {
      "text/plain": [
       "array([ 2,  6, 12, 20])"
      ]
     },
     "execution_count": 3,
     "metadata": {},
     "output_type": "execute_result"
    }
   ],
   "source": [
    "a = np.array([1,2,3,4])\n",
    "b = np.array([2,3,4,5])\n",
    "a*b"
   ]
  },
  {
   "cell_type": "code",
   "execution_count": 4,
   "id": "68123e55-9783-4be0-aeec-cf0a65edd432",
   "metadata": {},
   "outputs": [
    {
     "data": {
      "text/plain": [
       "array([  3,  10,  32,  60, 108])"
      ]
     },
     "execution_count": 4,
     "metadata": {},
     "output_type": "execute_result"
    }
   ],
   "source": [
    "c = np.array([3, 5, 8, 10, 12])\n",
    "d = np.array([1, 2, 4, 6, 9])\n",
    "c * d"
   ]
  },
  {
   "cell_type": "code",
   "execution_count": 5,
   "id": "587cb61f-a3d3-4890-b551-03b4a22259e9",
   "metadata": {},
   "outputs": [
    {
     "data": {
      "text/plain": [
       "array([ 3,  8, 15, 24])"
      ]
     },
     "execution_count": 5,
     "metadata": {},
     "output_type": "execute_result"
    }
   ],
   "source": [
    "e = np.array([1,2,3,4])\n",
    "f = np.array([3,4,5,6])\n",
    "e*f"
   ]
  },
  {
   "cell_type": "code",
   "execution_count": 6,
   "id": "57612d34-c6af-4d89-b773-335974b6ae9c",
   "metadata": {},
   "outputs": [],
   "source": [
    "# Listelerin içerisinde eşit sayıda veri olması gerekiyor. Yoksa hata verir!"
   ]
  },
  {
   "cell_type": "code",
   "execution_count": 7,
   "id": "6d89113a-8a05-4c92-b090-620a12bd22ea",
   "metadata": {},
   "outputs": [
    {
     "data": {
      "text/plain": [
       "array([ 7, 16, 27, 40, 55, 72])"
      ]
     },
     "execution_count": 7,
     "metadata": {},
     "output_type": "execute_result"
    }
   ],
   "source": [
    "g = np.array([1,2,3,4,5,6])\n",
    "h = np.array([7,8,9,10,11,12])\n",
    "\n",
    "g * h"
   ]
  },
  {
   "cell_type": "code",
   "execution_count": 8,
   "id": "2de0236e-1a7c-43dd-bd46-77aa2a1e1cd2",
   "metadata": {},
   "outputs": [
    {
     "data": {
      "text/plain": [
       "array([ 500, 1200,  100])"
      ]
     },
     "execution_count": 8,
     "metadata": {},
     "output_type": "execute_result"
    }
   ],
   "source": [
    "z = np.array([5,6,20])\n",
    "x = np.array([100, 200, 5])\n",
    "x * z"
   ]
  }
 ],
 "metadata": {
  "kernelspec": {
   "display_name": "Python 3 (ipykernel)",
   "language": "python",
   "name": "python3"
  },
  "language_info": {
   "codemirror_mode": {
    "name": "ipython",
    "version": 3
   },
   "file_extension": ".py",
   "mimetype": "text/x-python",
   "name": "python",
   "nbconvert_exporter": "python",
   "pygments_lexer": "ipython3",
   "version": "3.9.12"
  }
 },
 "nbformat": 4,
 "nbformat_minor": 5
}
