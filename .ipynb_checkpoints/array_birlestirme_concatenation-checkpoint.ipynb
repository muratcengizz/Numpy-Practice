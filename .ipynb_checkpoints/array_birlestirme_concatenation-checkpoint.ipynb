{
 "cells": [
  {
   "cell_type": "markdown",
   "id": "4fd97258-3a3e-4045-9a26-7c898525b1b0",
   "metadata": {},
   "source": [
    "# Array Birleştirme (Concatenation)"
   ]
  },
  {
   "cell_type": "code",
   "execution_count": 1,
   "id": "2afbbad3-dbe4-4b55-9726-70505eda3f44",
   "metadata": {},
   "outputs": [],
   "source": [
    "import numpy as np"
   ]
  },
  {
   "cell_type": "code",
   "execution_count": 2,
   "id": "9b5fc7d9-77b0-4b73-b33c-05a14009e15e",
   "metadata": {},
   "outputs": [],
   "source": [
    "x = np.array([1,2,3])\n",
    "y = np.array([4,5,6])"
   ]
  },
  {
   "cell_type": "code",
   "execution_count": 3,
   "id": "5067e85a-b4be-4bef-b3eb-479dd8eaf721",
   "metadata": {},
   "outputs": [
    {
     "data": {
      "text/plain": [
       "array([1, 2, 3, 4, 5, 6])"
      ]
     },
     "execution_count": 3,
     "metadata": {},
     "output_type": "execute_result"
    }
   ],
   "source": [
    "np.concatenate([x, y])"
   ]
  },
  {
   "cell_type": "code",
   "execution_count": 4,
   "id": "c69cf0a1-99bd-4429-88d0-6f9b5b133431",
   "metadata": {},
   "outputs": [],
   "source": [
    "# bu method ile bir array dizisine sonradan dizi eklemesi yapabiliriz."
   ]
  },
  {
   "cell_type": "code",
   "execution_count": 5,
   "id": "b33f35a9-0182-4653-aaf2-74da58102c2a",
   "metadata": {},
   "outputs": [],
   "source": [
    "z = np.array([7,8,9])"
   ]
  },
  {
   "cell_type": "code",
   "execution_count": 6,
   "id": "1fa580a5-5f88-4f2d-a40f-92aa2d364a43",
   "metadata": {},
   "outputs": [
    {
     "data": {
      "text/plain": [
       "array([1, 2, 3, 4, 5, 6, 7, 8, 9])"
      ]
     },
     "execution_count": 6,
     "metadata": {},
     "output_type": "execute_result"
    }
   ],
   "source": [
    "np.concatenate([x,y,z])"
   ]
  },
  {
   "cell_type": "code",
   "execution_count": 7,
   "id": "bd380874-9ac0-4d3e-8333-3981c93e8084",
   "metadata": {},
   "outputs": [
    {
     "data": {
      "text/plain": [
       "array([1, 2, 3, 4, 5, 6])"
      ]
     },
     "execution_count": 7,
     "metadata": {},
     "output_type": "execute_result"
    }
   ],
   "source": [
    "g = np.concatenate([x,y])\n",
    "g"
   ]
  },
  {
   "cell_type": "code",
   "execution_count": 8,
   "id": "ed0e5b35-fdbc-47fa-9d6a-73f2efe44fbc",
   "metadata": {},
   "outputs": [
    {
     "data": {
      "text/plain": [
       "array([1, 2, 3, 4, 5, 6, 7, 8, 9])"
      ]
     },
     "execution_count": 8,
     "metadata": {},
     "output_type": "execute_result"
    }
   ],
   "source": [
    "np.concatenate([g, z])"
   ]
  },
  {
   "cell_type": "code",
   "execution_count": 9,
   "id": "b93fed0a-4b91-4f84-b50d-ac1c03daca34",
   "metadata": {},
   "outputs": [],
   "source": [
    "# iki boyutlu diziler üzerinde birleştirme"
   ]
  },
  {
   "cell_type": "code",
   "execution_count": 10,
   "id": "0c030161-87bd-44b9-8510-cdb65a8897ee",
   "metadata": {},
   "outputs": [],
   "source": [
    "a = np.array([[1,2,3],\n",
    "              [4,5,6]])\n",
    "# fonksiyon kullanmadan 2 boyutlu array oluşturduk"
   ]
  },
  {
   "cell_type": "code",
   "execution_count": 11,
   "id": "4fecfbec-da0e-47be-adf3-f4d892320347",
   "metadata": {},
   "outputs": [
    {
     "data": {
      "text/plain": [
       "array([[1, 2, 3],\n",
       "       [4, 5, 6]])"
      ]
     },
     "execution_count": 11,
     "metadata": {},
     "output_type": "execute_result"
    }
   ],
   "source": [
    "a"
   ]
  },
  {
   "cell_type": "code",
   "execution_count": 12,
   "id": "af0b7cd0-4f68-4b4b-b719-ffd641eed49e",
   "metadata": {},
   "outputs": [
    {
     "data": {
      "text/plain": [
       "array([[1, 2, 3],\n",
       "       [4, 5, 6],\n",
       "       [1, 2, 3],\n",
       "       [4, 5, 6]])"
      ]
     },
     "execution_count": 12,
     "metadata": {},
     "output_type": "execute_result"
    }
   ],
   "source": [
    "np.concatenate([a, a])"
   ]
  },
  {
   "cell_type": "code",
   "execution_count": 13,
   "id": "7c9badb7-a0a6-43b8-a0e0-acf33739508b",
   "metadata": {},
   "outputs": [],
   "source": [
    "# axis parametresini kullanmadan 2 boyutlu iki diziyi birleştirirsek;\n",
    "# concatenate fonksiyonuna verilen 2. dizi 1. dizinin üzerine eklenir.\n",
    "# default olarak axis değeri 0 olduğu için satır sayısı artar. Sütun sayısı sabit kalır."
   ]
  },
  {
   "cell_type": "code",
   "execution_count": 14,
   "id": "bc9147ff-e832-42bc-86a7-d5c4c7c8e13a",
   "metadata": {},
   "outputs": [
    {
     "data": {
      "text/plain": [
       "array([[1, 2, 3, 1, 2, 3],\n",
       "       [4, 5, 6, 4, 5, 6]])"
      ]
     },
     "execution_count": 14,
     "metadata": {},
     "output_type": "execute_result"
    }
   ],
   "source": [
    "# axis değerini 1 olarak belirtelim.\n",
    "np.concatenate([a, a], axis=1)"
   ]
  },
  {
   "cell_type": "code",
   "execution_count": 15,
   "id": "ec9cb4ef-f64f-421d-8a86-29459900c386",
   "metadata": {},
   "outputs": [],
   "source": [
    "# axis=1 değeri için sütun sayısına ekleme yapıldı. satır sayısı sabit kaldı"
   ]
  },
  {
   "cell_type": "code",
   "execution_count": 16,
   "id": "b12368d6-ec9f-44e7-b0ab-0ad7ce047018",
   "metadata": {},
   "outputs": [
    {
     "data": {
      "text/plain": [
       "array([3, 4, 5, 6, 7, 8])"
      ]
     },
     "execution_count": 16,
     "metadata": {},
     "output_type": "execute_result"
    }
   ],
   "source": [
    "c = np.array([3,4,5])\n",
    "d = np.array([6,7,8])\n",
    "\n",
    "np.concatenate([c,d])"
   ]
  },
  {
   "cell_type": "code",
   "execution_count": 17,
   "id": "272e7bd2-bed1-48ab-bfad-8621ef35bdd9",
   "metadata": {},
   "outputs": [
    {
     "data": {
      "text/plain": [
       "array([[ 2,  3,  4],\n",
       "       [ 5,  6,  7],\n",
       "       [ 3,  2, 11],\n",
       "       [ 5,  9,  0]])"
      ]
     },
     "execution_count": 17,
     "metadata": {},
     "output_type": "execute_result"
    }
   ],
   "source": [
    "n = np.array([[2,3,4],\n",
    "             [5,6,7]])\n",
    "\n",
    "m = np.array([[3,2,11],\n",
    "             [5,9,0]])\n",
    "\n",
    "np.concatenate([n,m])\n"
   ]
  },
  {
   "cell_type": "code",
   "execution_count": 18,
   "id": "9426fead-279a-47d7-a3cf-c6c762fda123",
   "metadata": {},
   "outputs": [
    {
     "data": {
      "text/plain": [
       "array([[ 2,  3,  4,  3,  2, 11],\n",
       "       [ 5,  6,  7,  5,  9,  0]])"
      ]
     },
     "execution_count": 18,
     "metadata": {},
     "output_type": "execute_result"
    }
   ],
   "source": [
    "np.concatenate([n,m], axis=1)"
   ]
  },
  {
   "cell_type": "code",
   "execution_count": 21,
   "id": "937836b7-ff7b-400a-87cf-4570525e7f87",
   "metadata": {},
   "outputs": [
    {
     "data": {
      "text/plain": [
       "array([1, 2, 3, 4, 5, 6])"
      ]
     },
     "execution_count": 21,
     "metadata": {},
     "output_type": "execute_result"
    }
   ],
   "source": [
    "array1 = np.array([1,2,3])\n",
    "array2 = np.array([4,5,6])\n",
    "my_array = np.concatenate([array1, array2])\n",
    "my_array"
   ]
  },
  {
   "cell_type": "code",
   "execution_count": 26,
   "id": "5e6e6ef6-7291-4837-9ae3-1f1c0863bc02",
   "metadata": {},
   "outputs": [
    {
     "data": {
      "text/plain": [
       "array([[4, 7, 6],\n",
       "       [8, 5, 5],\n",
       "       [0, 5, 9],\n",
       "       [0, 2, 0],\n",
       "       [7, 2, 6],\n",
       "       [5, 0, 1]])"
      ]
     },
     "execution_count": 26,
     "metadata": {},
     "output_type": "execute_result"
    }
   ],
   "source": [
    "array3 = np.random.randint(10, size=(3,3))\n",
    "array4 = np.random.randint(10, size=(3,3))\n",
    "my_array2 = np.concatenate([array3, array4])\n",
    "my_array2"
   ]
  },
  {
   "cell_type": "code",
   "execution_count": 28,
   "id": "fbd7189e-6fec-4348-994f-9af7734d0354",
   "metadata": {},
   "outputs": [
    {
     "data": {
      "text/plain": [
       "array([[4, 7, 6, 0, 2, 0],\n",
       "       [8, 5, 5, 7, 2, 6],\n",
       "       [0, 5, 9, 5, 0, 1]])"
      ]
     },
     "execution_count": 28,
     "metadata": {},
     "output_type": "execute_result"
    }
   ],
   "source": [
    "my_array3 = np.concatenate([array3, array4], axis = 1)\n",
    "my_array3"
   ]
  }
 ],
 "metadata": {
  "kernelspec": {
   "display_name": "Python 3 (ipykernel)",
   "language": "python",
   "name": "python3"
  },
  "language_info": {
   "codemirror_mode": {
    "name": "ipython",
    "version": 3
   },
   "file_extension": ".py",
   "mimetype": "text/x-python",
   "name": "python",
   "nbconvert_exporter": "python",
   "pygments_lexer": "ipython3",
   "version": "3.9.12"
  }
 },
 "nbformat": 4,
 "nbformat_minor": 5
}
