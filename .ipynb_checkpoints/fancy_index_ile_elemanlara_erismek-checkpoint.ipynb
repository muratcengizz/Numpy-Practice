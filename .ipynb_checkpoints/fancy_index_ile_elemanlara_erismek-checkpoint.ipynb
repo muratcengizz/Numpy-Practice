{
 "cells": [
  {
   "cell_type": "markdown",
   "id": "a7fcf1d3-ab61-4299-8443-27a9a4af855d",
   "metadata": {},
   "source": [
    "# Fancy Index İle Elemanlara Erişmek"
   ]
  },
  {
   "cell_type": "code",
   "execution_count": 11,
   "id": "eb8421f0-a7e2-42a0-b777-deabee6c21e0",
   "metadata": {},
   "outputs": [],
   "source": [
    "import numpy as np"
   ]
  },
  {
   "cell_type": "code",
   "execution_count": 12,
   "id": "90f2e4a9-43e8-4c89-93ae-14a7432e8cc5",
   "metadata": {},
   "outputs": [
    {
     "data": {
      "text/plain": [
       "array([ 0,  3,  6,  9, 12, 15, 18, 21, 24, 27])"
      ]
     },
     "execution_count": 12,
     "metadata": {},
     "output_type": "execute_result"
    }
   ],
   "source": [
    "v = np.arange(0, 30, 3)\n",
    "v"
   ]
  },
  {
   "cell_type": "code",
   "execution_count": 13,
   "id": "11951b9d-3d59-4639-9e25-2bf58d59275a",
   "metadata": {},
   "outputs": [
    {
     "data": {
      "text/plain": [
       "[3, 9, 15, 21]"
      ]
     },
     "execution_count": 13,
     "metadata": {},
     "output_type": "execute_result"
    }
   ],
   "source": [
    "[v[1], v[3], v[5], v[7]]"
   ]
  },
  {
   "cell_type": "code",
   "execution_count": 14,
   "id": "df136b11-da1d-4efc-bd27-8c032fe65cc8",
   "metadata": {},
   "outputs": [],
   "source": [
    "index_listesi = [1,3,5]"
   ]
  },
  {
   "cell_type": "code",
   "execution_count": 15,
   "id": "50464664-7530-47ba-80a2-07b4e3537005",
   "metadata": {},
   "outputs": [
    {
     "data": {
      "text/plain": [
       "array([ 3,  9, 15])"
      ]
     },
     "execution_count": 15,
     "metadata": {},
     "output_type": "execute_result"
    }
   ],
   "source": [
    "v[index_listesi]"
   ]
  },
  {
   "cell_type": "code",
   "execution_count": 16,
   "id": "b7275615-c18c-4f66-a9b6-127c4bfc828d",
   "metadata": {},
   "outputs": [],
   "source": [
    "# Yukarıda görüldüğü üzere elimizde büyük bir index listesi varsa ve binlerce veri arasından bu indexlere karşılık\n",
    "# gelen verileri yakalamak istersek fancy index methodunu kullanabiliriz."
   ]
  },
  {
   "cell_type": "code",
   "execution_count": 17,
   "id": "ed009fe9-b169-45ba-8f44-20c54ee46139",
   "metadata": {},
   "outputs": [
    {
     "data": {
      "text/plain": [
       "array([[ 2,  9, 13,  0,  7],\n",
       "       [15,  3, 19,  3, 11],\n",
       "       [18,  9,  4, 19,  9],\n",
       "       [ 2, 15,  6, 13,  9]])"
      ]
     },
     "execution_count": 17,
     "metadata": {},
     "output_type": "execute_result"
    }
   ],
   "source": [
    "m = np.random.randint(20, size=(4,5))\n",
    "m"
   ]
  },
  {
   "cell_type": "code",
   "execution_count": 18,
   "id": "a83af2d3-0266-4423-a46a-8e5948cd001b",
   "metadata": {},
   "outputs": [
    {
     "data": {
      "text/plain": [
       "array([19, 13])"
      ]
     },
     "execution_count": 18,
     "metadata": {},
     "output_type": "execute_result"
    }
   ],
   "source": [
    "satir = [1,3]\n",
    "sutun = [2,3]\n",
    "m[satir,sutun]"
   ]
  },
  {
   "cell_type": "code",
   "execution_count": 19,
   "id": "52839168-61ab-45aa-8a1f-1646e06a3c58",
   "metadata": {},
   "outputs": [
    {
     "data": {
      "text/plain": [
       "array([[17,  6, 17,  0],\n",
       "       [19, 18,  4,  2],\n",
       "       [ 6, 15,  0,  6],\n",
       "       [19,  1,  4,  4],\n",
       "       [ 9, 12,  7, 12]])"
      ]
     },
     "execution_count": 19,
     "metadata": {},
     "output_type": "execute_result"
    }
   ],
   "source": [
    "n = np.random.randint(20, size=(5,4))\n",
    "n"
   ]
  },
  {
   "cell_type": "code",
   "execution_count": 20,
   "id": "4f677148-0458-40b4-b731-3499ba2b359d",
   "metadata": {},
   "outputs": [
    {
     "data": {
      "text/plain": [
       "array([[ 6, 17],\n",
       "       [18,  4],\n",
       "       [15,  0],\n",
       "       [ 1,  4],\n",
       "       [12,  7]])"
      ]
     },
     "execution_count": 20,
     "metadata": {},
     "output_type": "execute_result"
    }
   ],
   "source": [
    "n[0:, [1,2]]"
   ]
  },
  {
   "cell_type": "code",
   "execution_count": 21,
   "id": "06765c50-bd0b-445c-bb77-de68d6d52bf9",
   "metadata": {},
   "outputs": [
    {
     "data": {
      "text/plain": [
       "array([ 0,  5, 10, 15, 20, 25, 30, 35, 40, 45])"
      ]
     },
     "execution_count": 21,
     "metadata": {},
     "output_type": "execute_result"
    }
   ],
   "source": [
    "my_array = np.arange(0,50, 5)\n",
    "my_array"
   ]
  },
  {
   "cell_type": "code",
   "execution_count": 23,
   "id": "56ec4d07-0ddd-4ac9-81e6-89984933d713",
   "metadata": {},
   "outputs": [
    {
     "data": {
      "text/plain": [
       "array([10, 15, 20])"
      ]
     },
     "execution_count": 23,
     "metadata": {},
     "output_type": "execute_result"
    }
   ],
   "source": [
    "my_array[[2,3,4]]"
   ]
  },
  {
   "cell_type": "code",
   "execution_count": 24,
   "id": "bcde59b6-a2a4-4892-9a91-e3cf1e75add6",
   "metadata": {},
   "outputs": [
    {
     "data": {
      "text/plain": [
       "array([20, 25, 30])"
      ]
     },
     "execution_count": 24,
     "metadata": {},
     "output_type": "execute_result"
    }
   ],
   "source": [
    "my_array[[4,5,6]]"
   ]
  }
 ],
 "metadata": {
  "kernelspec": {
   "display_name": "Python 3 (ipykernel)",
   "language": "python",
   "name": "python3"
  },
  "language_info": {
   "codemirror_mode": {
    "name": "ipython",
    "version": 3
   },
   "file_extension": ".py",
   "mimetype": "text/x-python",
   "name": "python",
   "nbconvert_exporter": "python",
   "pygments_lexer": "ipython3",
   "version": "3.9.12"
  }
 },
 "nbformat": 4,
 "nbformat_minor": 5
}
