{
 "cells": [
  {
   "cell_type": "code",
   "execution_count": 73,
   "id": "095986eb-c79c-4f8f-bc31-e57d65d079e9",
   "metadata": {},
   "outputs": [],
   "source": [
    "# Numpy Array'i Oluşturmak"
   ]
  },
  {
   "cell_type": "code",
   "execution_count": 74,
   "id": "32096a08-72ef-4f0f-880c-fa1509e55aad",
   "metadata": {},
   "outputs": [],
   "source": [
    "import numpy as np"
   ]
  },
  {
   "cell_type": "code",
   "execution_count": 75,
   "id": "160d4a52-4eca-4643-88c3-8ee3691098d9",
   "metadata": {},
   "outputs": [],
   "source": [
    "# Normal listeler kullandıldığında liste içerisindeki her bir eleman ön bellekte yer kaplar. Fakat Numpy dizileri kullanıldığı zaman numpy dizisi 1 birim yer kaplar. Büyük bir tasarruf sağlanmış olunur."
   ]
  },
  {
   "cell_type": "code",
   "execution_count": 76,
   "id": "9d908d05-a860-4518-a4ac-09dfd954935a",
   "metadata": {},
   "outputs": [
    {
     "data": {
      "text/plain": [
       "array([1, 2, 3, 4, 5])"
      ]
     },
     "execution_count": 76,
     "metadata": {},
     "output_type": "execute_result"
    }
   ],
   "source": [
    "np.array([1,2,3,4,5])"
   ]
  },
  {
   "cell_type": "code",
   "execution_count": 77,
   "id": "229222e1-2bfc-4c44-8cc8-fc9e46dacfac",
   "metadata": {},
   "outputs": [],
   "source": [
    "a = np.array([1,2,3,4,5])"
   ]
  },
  {
   "cell_type": "code",
   "execution_count": 78,
   "id": "77063fd5-81fe-479f-b340-96454e3319c2",
   "metadata": {},
   "outputs": [
    {
     "data": {
      "text/plain": [
       "numpy.ndarray"
      ]
     },
     "execution_count": 78,
     "metadata": {},
     "output_type": "execute_result"
    }
   ],
   "source": [
    "type(a)"
   ]
  },
  {
   "cell_type": "code",
   "execution_count": 79,
   "id": "55bd37e4-942e-460c-b605-02d350c2f1e8",
   "metadata": {},
   "outputs": [
    {
     "data": {
      "text/plain": [
       "array([ 3.14,  4.  , 12.  , 18.  ])"
      ]
     },
     "execution_count": 79,
     "metadata": {},
     "output_type": "execute_result"
    }
   ],
   "source": [
    "np.array([3.14, 4, 12, 18]) #Numpy dizileri, verileri tek tip olmaya zorlar."
   ]
  },
  {
   "cell_type": "code",
   "execution_count": 80,
   "id": "13535ad8-bf40-4db2-a793-ea5d267eeab1",
   "metadata": {},
   "outputs": [
    {
     "data": {
      "text/plain": [
       "array([ 3.14,  4.  , 12.  , 18.  ], dtype=float32)"
      ]
     },
     "execution_count": 80,
     "metadata": {},
     "output_type": "execute_result"
    }
   ],
   "source": [
    "np.array([3.14, 4, 12, 18], dtype=\"float32\") # Numpy dizimiz float olmaya zorlandı"
   ]
  },
  {
   "cell_type": "code",
   "execution_count": 81,
   "id": "b5ccbda9-d905-45cb-ba98-39c2a348b6d6",
   "metadata": {},
   "outputs": [
    {
     "data": {
      "text/plain": [
       "array([ 3,  4, 12, 18])"
      ]
     },
     "execution_count": 81,
     "metadata": {},
     "output_type": "execute_result"
    }
   ],
   "source": [
    "np.array([3.14, 4, 12, 18], dtype=\"int\") # Numpy dizimiz integer olmaya zorlandı."
   ]
  },
  {
   "cell_type": "code",
   "execution_count": 82,
   "id": "c091c117-a104-40f0-af29-615a7cf92599",
   "metadata": {},
   "outputs": [],
   "source": [
    "# sifirdaan array oluşturma"
   ]
  },
  {
   "cell_type": "code",
   "execution_count": 83,
   "id": "dbb809fb-63a1-402e-b901-9c6293164911",
   "metadata": {},
   "outputs": [
    {
     "data": {
      "text/plain": [
       "array([0, 0, 0, 0, 0, 0, 0, 0, 0, 0])"
      ]
     },
     "execution_count": 83,
     "metadata": {},
     "output_type": "execute_result"
    }
   ],
   "source": [
    "np.zeros(10, dtype=int)"
   ]
  },
  {
   "cell_type": "code",
   "execution_count": 84,
   "id": "c5fb2f66-5386-4aaa-992c-a80272d330bf",
   "metadata": {},
   "outputs": [
    {
     "data": {
      "text/plain": [
       "array([0., 0., 0., 0., 0., 0., 0., 0., 0., 0.])"
      ]
     },
     "execution_count": 84,
     "metadata": {},
     "output_type": "execute_result"
    }
   ],
   "source": [
    "np.zeros(10, dtype=float)"
   ]
  },
  {
   "cell_type": "code",
   "execution_count": 85,
   "id": "b1bfe786-bc3b-4df8-9aa4-a3bd4e3a2bff",
   "metadata": {},
   "outputs": [
    {
     "data": {
      "text/plain": [
       "array([[1, 1, 1],\n",
       "       [1, 1, 1]])"
      ]
     },
     "execution_count": 85,
     "metadata": {},
     "output_type": "execute_result"
    }
   ],
   "source": [
    "np.ones((2, 3), dtype=int)"
   ]
  },
  {
   "cell_type": "code",
   "execution_count": 86,
   "id": "1da567dd-0be7-453e-8284-64473ba4d874",
   "metadata": {},
   "outputs": [
    {
     "data": {
      "text/plain": [
       "array([[1, 1, 1, 1, 1, 1, 1, 1],\n",
       "       [1, 1, 1, 1, 1, 1, 1, 1],\n",
       "       [1, 1, 1, 1, 1, 1, 1, 1]])"
      ]
     },
     "execution_count": 86,
     "metadata": {},
     "output_type": "execute_result"
    }
   ],
   "source": [
    "np.ones((3, 8), dtype=int)"
   ]
  },
  {
   "cell_type": "code",
   "execution_count": 87,
   "id": "1778e58a-f411-4aac-82c7-2d1f81001b40",
   "metadata": {},
   "outputs": [
    {
     "data": {
      "text/plain": [
       "array([[1., 1., 1., 1., 1.],\n",
       "       [1., 1., 1., 1., 1.]])"
      ]
     },
     "execution_count": 87,
     "metadata": {},
     "output_type": "execute_result"
    }
   ],
   "source": [
    "np.ones((2,5), dtype=float)"
   ]
  },
  {
   "cell_type": "code",
   "execution_count": 88,
   "id": "3ade6fd8-2825-4062-9d73-d0d9b488fdc5",
   "metadata": {},
   "outputs": [
    {
     "data": {
      "text/plain": [
       "array([[3, 3, 3, 3, 3],\n",
       "       [3, 3, 3, 3, 3]])"
      ]
     },
     "execution_count": 88,
     "metadata": {},
     "output_type": "execute_result"
    }
   ],
   "source": [
    "np.full((2,5), 3)"
   ]
  },
  {
   "cell_type": "code",
   "execution_count": 89,
   "id": "0ede103f-2da7-43af-a46d-85e6f502f78b",
   "metadata": {},
   "outputs": [
    {
     "data": {
      "text/plain": [
       "array([[9, 9, 9, 9],\n",
       "       [9, 9, 9, 9]])"
      ]
     },
     "execution_count": 89,
     "metadata": {},
     "output_type": "execute_result"
    }
   ],
   "source": [
    "np.full((2,4), 9, dtype=int)"
   ]
  },
  {
   "cell_type": "code",
   "execution_count": 90,
   "id": "f0b5e135-4da9-480f-bc5d-26f3852eb4f2",
   "metadata": {},
   "outputs": [
    {
     "data": {
      "text/plain": [
       "array([[15., 15., 15., 15.],\n",
       "       [15., 15., 15., 15.],\n",
       "       [15., 15., 15., 15.],\n",
       "       [15., 15., 15., 15.],\n",
       "       [15., 15., 15., 15.]])"
      ]
     },
     "execution_count": 90,
     "metadata": {},
     "output_type": "execute_result"
    }
   ],
   "source": [
    "np.full((5, 4), 15, dtype=float)"
   ]
  },
  {
   "cell_type": "code",
   "execution_count": 91,
   "id": "3dcf4d18-5273-4b04-9c55-407391a59e39",
   "metadata": {},
   "outputs": [
    {
     "data": {
      "text/plain": [
       "array([ 0,  5, 10, 15, 20, 25])"
      ]
     },
     "execution_count": 91,
     "metadata": {},
     "output_type": "execute_result"
    }
   ],
   "source": [
    "np.arange(0, 30, 5)"
   ]
  },
  {
   "cell_type": "code",
   "execution_count": 92,
   "id": "9ec44289-31c6-4259-b75c-42bb9b132f53",
   "metadata": {},
   "outputs": [
    {
     "data": {
      "text/plain": [
       "array([ 5, 15, 25, 35, 45, 55, 65, 75, 85, 95])"
      ]
     },
     "execution_count": 92,
     "metadata": {},
     "output_type": "execute_result"
    }
   ],
   "source": [
    "np.arange(5, 101, 10)"
   ]
  },
  {
   "cell_type": "code",
   "execution_count": 93,
   "id": "79473aa3-8f55-4574-92ac-bec7447a9f91",
   "metadata": {},
   "outputs": [],
   "source": [
    "# linspace parametresini kullanarak standart sapma hesaplaması yapmak için veri üretilebilir!"
   ]
  },
  {
   "cell_type": "code",
   "execution_count": 94,
   "id": "086fa375-73be-44b7-a948-cb222eec0dad",
   "metadata": {},
   "outputs": [
    {
     "data": {
      "text/plain": [
       "array([0. , 0.2, 0.4, 0.6, 0.8, 1. ])"
      ]
     },
     "execution_count": 94,
     "metadata": {},
     "output_type": "execute_result"
    }
   ],
   "source": [
    "np.linspace(0,1 ,6)"
   ]
  },
  {
   "cell_type": "code",
   "execution_count": 95,
   "id": "61b8efe8-0747-4c4a-a7ef-3823b632240f",
   "metadata": {},
   "outputs": [
    {
     "data": {
      "text/plain": [
       "array([ 5.        ,  5.35714286,  5.71428571,  6.07142857,  6.42857143,\n",
       "        6.78571429,  7.14285714,  7.5       ,  7.85714286,  8.21428571,\n",
       "        8.57142857,  8.92857143,  9.28571429,  9.64285714, 10.        ])"
      ]
     },
     "execution_count": 95,
     "metadata": {},
     "output_type": "execute_result"
    }
   ],
   "source": [
    "np.linspace(5, 10, 15)"
   ]
  },
  {
   "cell_type": "code",
   "execution_count": 96,
   "id": "b03d14e9-6c47-40bb-84fb-7268ea0310ad",
   "metadata": {},
   "outputs": [
    {
     "data": {
      "text/plain": [
       "array([10.        , 10.05263158, 10.10526316, 10.15789474, 10.21052632,\n",
       "       10.26315789, 10.31578947, 10.36842105, 10.42105263, 10.47368421,\n",
       "       10.52631579, 10.57894737, 10.63157895, 10.68421053, 10.73684211,\n",
       "       10.78947368, 10.84210526, 10.89473684, 10.94736842, 11.        ])"
      ]
     },
     "execution_count": 96,
     "metadata": {},
     "output_type": "execute_result"
    }
   ],
   "source": [
    "np.linspace(10,11, 20)"
   ]
  },
  {
   "cell_type": "code",
   "execution_count": 97,
   "id": "7a84f357-376b-41ad-90c7-ea31092d7aaa",
   "metadata": {},
   "outputs": [],
   "source": [
    "# tek boyutlu array 'in karşılığı vektördür.\n",
    "# iki boyutlu array 'in karşılığı matrisdir."
   ]
  },
  {
   "cell_type": "code",
   "execution_count": 98,
   "id": "d314baaf-e05a-48b3-87af-39f394337e14",
   "metadata": {},
   "outputs": [],
   "source": [
    "# dizinin istediğimiz ortalama ve standart sapma değerlerini girerek bir dizi oluşturabiliriz"
   ]
  },
  {
   "cell_type": "code",
   "execution_count": 99,
   "id": "1a451515-6e68-40a6-a46e-5f76e2b3c210",
   "metadata": {},
   "outputs": [
    {
     "data": {
      "text/plain": [
       "array([[13.87239583, 13.37232826, 16.56761497, 13.34437372],\n",
       "       [13.60444297, 15.39617977, 10.47396505, 13.37091839],\n",
       "       [11.14439708,  9.67127576, 13.45192929, 10.90757765]])"
      ]
     },
     "execution_count": 99,
     "metadata": {},
     "output_type": "execute_result"
    }
   ],
   "source": [
    "np.random.normal(10, 5, (3,4))\n",
    "# birinci parametre: dizi ortalaması\n",
    "# ikinci parametre: standart sapması\n",
    "# üçüncü parametre: kolon ve satır sayısı"
   ]
  },
  {
   "cell_type": "code",
   "execution_count": 100,
   "id": "5005972d-2dfb-4add-92ea-9b6f27090c3d",
   "metadata": {},
   "outputs": [
    {
     "data": {
      "text/plain": [
       "array([[ 6, 18, 16],\n",
       "       [20, 13,  1],\n",
       "       [ 5, 18, 10]])"
      ]
     },
     "execution_count": 100,
     "metadata": {},
     "output_type": "execute_result"
    }
   ],
   "source": [
    "np.random.randint(0, 21, (3,3))\n",
    "# birinci parametre: başlangıç değeri\n",
    "# ikinci parametre: bitiş değeri (dahil değil)\n",
    "# üçüncü parametre: kolon ve satır sayısı"
   ]
  },
  {
   "cell_type": "code",
   "execution_count": 101,
   "id": "41db86a4-a8d3-4b3c-acaa-e1388c611ae4",
   "metadata": {},
   "outputs": [
    {
     "name": "stdout",
     "output_type": "stream",
     "text": [
      "['1' '2' '3.1' 'murat']\n"
     ]
    }
   ],
   "source": [
    "my_array = np.array([1, 2, 3.10, 'murat'])\n",
    "\n",
    "print(my_array)"
   ]
  },
  {
   "cell_type": "code",
   "execution_count": 102,
   "id": "3012c3b7-3056-49d6-998a-8a9ced502021",
   "metadata": {},
   "outputs": [
    {
     "data": {
      "text/plain": [
       "array([ 1.  ,  2.  ,  3.  ,  5.19, 12.67])"
      ]
     },
     "execution_count": 102,
     "metadata": {},
     "output_type": "execute_result"
    }
   ],
   "source": [
    "np.array([1, 2, 3, 5.19, 12.67])"
   ]
  },
  {
   "cell_type": "code",
   "execution_count": 103,
   "id": "be514625-a691-4efc-a1a5-35b40b356584",
   "metadata": {},
   "outputs": [
    {
     "name": "stdout",
     "output_type": "stream",
     "text": [
      "[1, 2, 3, 4, 'murat', 'numpy', 25.09, 255.57]\n"
     ]
    }
   ],
   "source": [
    "print([1,2,3,4, 'murat', 'numpy', 25.09, 255.57])"
   ]
  },
  {
   "cell_type": "code",
   "execution_count": 104,
   "id": "157804bc-d70b-440a-9941-fb7374e694e8",
   "metadata": {},
   "outputs": [
    {
     "data": {
      "text/plain": [
       "array([ 2.  ,  3.  ,  5.5 , 28.71, 93.16])"
      ]
     },
     "execution_count": 104,
     "metadata": {},
     "output_type": "execute_result"
    }
   ],
   "source": [
    "np.array([2, 3, 5.5, 28.71, 93.16])"
   ]
  },
  {
   "cell_type": "code",
   "execution_count": 105,
   "id": "5dccfbdc-1add-41a4-b85f-e18aea63dd7b",
   "metadata": {},
   "outputs": [
    {
     "data": {
      "text/plain": [
       "array(['1', '2', '3.14', 'murat', 'cengiz'], dtype='<U32')"
      ]
     },
     "execution_count": 105,
     "metadata": {},
     "output_type": "execute_result"
    }
   ],
   "source": [
    "np.array([1, 2, 3.14, 'murat', 'cengiz'])"
   ]
  },
  {
   "cell_type": "code",
   "execution_count": 106,
   "id": "eeba5ca7-e15a-42d6-be52-0659f7d32f24",
   "metadata": {},
   "outputs": [
    {
     "data": {
      "text/plain": [
       "array([[1, 2, 3],\n",
       "       [4, 5, 6],\n",
       "       [7, 8, 9]])"
      ]
     },
     "execution_count": 106,
     "metadata": {},
     "output_type": "execute_result"
    }
   ],
   "source": [
    "np.array([[1, 2, 3], \n",
    "                   [4, 5, 6], \n",
    "                   [7, 8, 9]])\n"
   ]
  },
  {
   "cell_type": "code",
   "execution_count": 107,
   "id": "4e2661ea-a381-44be-9ae9-fbf45c9a34f6",
   "metadata": {},
   "outputs": [
    {
     "data": {
      "text/plain": [
       "array([ 3,  5,  7,  9, 11, 13])"
      ]
     },
     "execution_count": 107,
     "metadata": {},
     "output_type": "execute_result"
    }
   ],
   "source": [
    "np.arange(3, 14, 2)"
   ]
  },
  {
   "cell_type": "code",
   "execution_count": 108,
   "id": "f011d3ac-32f0-4520-96c3-b4f38c684183",
   "metadata": {},
   "outputs": [
    {
     "data": {
      "text/plain": [
       "array([ 0. ,  2.5,  5. ,  7.5, 10. ])"
      ]
     },
     "execution_count": 108,
     "metadata": {},
     "output_type": "execute_result"
    }
   ],
   "source": [
    "np.linspace(0, 10, num=5)"
   ]
  },
  {
   "cell_type": "code",
   "execution_count": 109,
   "id": "afbe1174-a460-4b60-b834-d7627b657031",
   "metadata": {},
   "outputs": [
    {
     "data": {
      "text/plain": [
       "array([ 10.,  19.,  28.,  37.,  46.,  55.,  64.,  73.,  82.,  91., 100.])"
      ]
     },
     "execution_count": 109,
     "metadata": {},
     "output_type": "execute_result"
    }
   ],
   "source": [
    "np.linspace(10, 100, num=11)"
   ]
  },
  {
   "cell_type": "code",
   "execution_count": 110,
   "id": "88f64080-b936-4b48-b243-d47a463737f6",
   "metadata": {},
   "outputs": [
    {
     "data": {
      "text/plain": [
       "array([10., 15., 20., 25.])"
      ]
     },
     "execution_count": 110,
     "metadata": {},
     "output_type": "execute_result"
    }
   ],
   "source": [
    "np.linspace(10, 25, num=4)"
   ]
  },
  {
   "cell_type": "code",
   "execution_count": 111,
   "id": "3989c785-8ab0-482e-8597-02ce1435b49a",
   "metadata": {},
   "outputs": [
    {
     "data": {
      "text/plain": [
       "array([ 6.76407574, -5.09528395, 18.24833294, 14.32104595, 11.57599403])"
      ]
     },
     "execution_count": 111,
     "metadata": {},
     "output_type": "execute_result"
    }
   ],
   "source": [
    "np.random.normal(5, 10, 5)"
   ]
  },
  {
   "cell_type": "code",
   "execution_count": 112,
   "id": "0eedd1f7-09ee-43e4-89c3-6f79dc2d4a68",
   "metadata": {},
   "outputs": [
    {
     "data": {
      "text/plain": [
       "array([  2.33490447,  15.21350812,  19.07080799,   7.76180333,\n",
       "       -14.65229659,  18.9058373 ])"
      ]
     },
     "execution_count": 112,
     "metadata": {},
     "output_type": "execute_result"
    }
   ],
   "source": [
    "np.random.normal(5, 9, 6)"
   ]
  },
  {
   "cell_type": "code",
   "execution_count": 113,
   "id": "f00b760c-f39d-4520-8674-c622dce1aae3",
   "metadata": {},
   "outputs": [
    {
     "data": {
      "text/plain": [
       "array([16.22816795, 11.05893333, 14.44115222, 16.65098166, 11.31349899])"
      ]
     },
     "execution_count": 113,
     "metadata": {},
     "output_type": "execute_result"
    }
   ],
   "source": [
    "np.random.normal(15, 3, 5)"
   ]
  },
  {
   "cell_type": "code",
   "execution_count": 114,
   "id": "95bdb808-8774-4df7-9161-57504248b02c",
   "metadata": {},
   "outputs": [
    {
     "data": {
      "text/plain": [
       "array([[19.86835654, 20.41158119, 22.3525017 ],\n",
       "       [20.00197859, 19.08258013, 22.37255026],\n",
       "       [19.72099846, 23.02665205, 16.13347226]])"
      ]
     },
     "execution_count": 114,
     "metadata": {},
     "output_type": "execute_result"
    }
   ],
   "source": [
    "np.random.normal(20, 2, (3,3))"
   ]
  },
  {
   "cell_type": "code",
   "execution_count": 115,
   "id": "ee91982b-33d7-481d-9b98-5ab3ec8fedfe",
   "metadata": {},
   "outputs": [
    {
     "data": {
      "text/plain": [
       "array([[49.6087657 , 49.75006892, 50.27382821, 49.67349186],\n",
       "       [50.32825233, 50.79958943, 50.16939071, 50.59032096],\n",
       "       [51.03144206, 49.7728819 , 49.72638224, 50.2745548 ],\n",
       "       [49.16041109, 48.79190593, 51.64191581, 50.41412495],\n",
       "       [50.12437685, 49.64252197, 50.4084079 , 50.36220951]])"
      ]
     },
     "execution_count": 115,
     "metadata": {},
     "output_type": "execute_result"
    }
   ],
   "source": [
    "np.random.normal(50, 1, (5,4))"
   ]
  },
  {
   "cell_type": "code",
   "execution_count": 116,
   "id": "32bc8dc3-f362-40b6-a6ad-7a6dec57b984",
   "metadata": {},
   "outputs": [
    {
     "data": {
      "text/plain": [
       "'m'"
      ]
     },
     "execution_count": 116,
     "metadata": {},
     "output_type": "execute_result"
    }
   ],
   "source": [
    "my_string = \"murat\"\n",
    "my_string[0]"
   ]
  },
  {
   "cell_type": "code",
   "execution_count": 117,
   "id": "126079cd-c8e7-4bb9-9207-9660b8d32f61",
   "metadata": {},
   "outputs": [
    {
     "data": {
      "text/plain": [
       "'u'"
      ]
     },
     "execution_count": 117,
     "metadata": {},
     "output_type": "execute_result"
    }
   ],
   "source": [
    "my_string[1]"
   ]
  },
  {
   "cell_type": "code",
   "execution_count": 118,
   "id": "73ab6e36-131a-485e-a513-ae1f5531918a",
   "metadata": {},
   "outputs": [
    {
     "data": {
      "text/plain": [
       "'cengiz'"
      ]
     },
     "execution_count": 118,
     "metadata": {},
     "output_type": "execute_result"
    }
   ],
   "source": [
    "my_list = ['murat', 'cengiz']\n",
    "my_list[1]"
   ]
  },
  {
   "cell_type": "code",
   "execution_count": null,
   "id": "24f10fdc-2d93-4d61-89cc-ddd58107fa9f",
   "metadata": {},
   "outputs": [],
   "source": []
  }
 ],
 "metadata": {
  "kernelspec": {
   "display_name": "Python 3 (ipykernel)",
   "language": "python",
   "name": "python3"
  },
  "language_info": {
   "codemirror_mode": {
    "name": "ipython",
    "version": 3
   },
   "file_extension": ".py",
   "mimetype": "text/x-python",
   "name": "python",
   "nbconvert_exporter": "python",
   "pygments_lexer": "ipython3",
   "version": "3.9.12"
  }
 },
 "nbformat": 4,
 "nbformat_minor": 5
}
