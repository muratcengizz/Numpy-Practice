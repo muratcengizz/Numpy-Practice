{
 "cells": [
  {
   "cell_type": "markdown",
   "id": "25201d97-c567-464b-852a-2afb7a9c6a0d",
   "metadata": {},
   "source": [
    "# Slicing İle Elemanlara Erişmek (Array Alt Kümesine Erişmek)"
   ]
  },
  {
   "cell_type": "code",
   "execution_count": 1,
   "id": "8ad9f1b1-a4e1-447d-bb5e-f60f3039253e",
   "metadata": {},
   "outputs": [],
   "source": [
    "import numpy as np"
   ]
  },
  {
   "cell_type": "code",
   "execution_count": 2,
   "id": "6d25d732-451d-4655-b7ab-f1f4bfac59e5",
   "metadata": {},
   "outputs": [
    {
     "data": {
      "text/plain": [
       "array([30, 31, 32, 33, 34, 35, 36, 37, 38, 39])"
      ]
     },
     "execution_count": 2,
     "metadata": {},
     "output_type": "execute_result"
    }
   ],
   "source": [
    "my_array = np.arange(30, 40)\n",
    "my_array"
   ]
  },
  {
   "cell_type": "code",
   "execution_count": 3,
   "id": "232f9da7-fa4d-44e9-9ef0-7f9c5c973a3a",
   "metadata": {},
   "outputs": [
    {
     "data": {
      "text/plain": [
       "array([31, 32, 33])"
      ]
     },
     "execution_count": 3,
     "metadata": {},
     "output_type": "execute_result"
    }
   ],
   "source": [
    "my_array[1:4]"
   ]
  },
  {
   "cell_type": "code",
   "execution_count": 4,
   "id": "06e9c113-37f6-4228-86b5-abfea5204aa1",
   "metadata": {},
   "outputs": [
    {
     "data": {
      "text/plain": [
       "array([32, 33, 34])"
      ]
     },
     "execution_count": 4,
     "metadata": {},
     "output_type": "execute_result"
    }
   ],
   "source": [
    "my_array[2:5]"
   ]
  },
  {
   "cell_type": "code",
   "execution_count": 5,
   "id": "3d354507-439f-4d5c-b10c-e112dc2a8f0f",
   "metadata": {},
   "outputs": [
    {
     "data": {
      "text/plain": [
       "array([35, 36, 37, 38])"
      ]
     },
     "execution_count": 5,
     "metadata": {},
     "output_type": "execute_result"
    }
   ],
   "source": [
    "my_array[5:9]"
   ]
  },
  {
   "cell_type": "code",
   "execution_count": 6,
   "id": "e32ed438-45c1-418f-bf29-a292ed697a53",
   "metadata": {},
   "outputs": [
    {
     "data": {
      "text/plain": [
       "10"
      ]
     },
     "execution_count": 6,
     "metadata": {},
     "output_type": "execute_result"
    }
   ],
   "source": [
    "np.size(my_array)"
   ]
  },
  {
   "cell_type": "code",
   "execution_count": 7,
   "id": "27513de9-3496-4882-8df3-3c46fd28771b",
   "metadata": {},
   "outputs": [
    {
     "data": {
      "text/plain": [
       "1"
      ]
     },
     "execution_count": 7,
     "metadata": {},
     "output_type": "execute_result"
    }
   ],
   "source": [
    "np.ndim(my_array)"
   ]
  },
  {
   "cell_type": "code",
   "execution_count": 8,
   "id": "003f3e2d-f18d-4745-b42a-1db3dfe43673",
   "metadata": {},
   "outputs": [
    {
     "data": {
      "text/plain": [
       "(10,)"
      ]
     },
     "execution_count": 8,
     "metadata": {},
     "output_type": "execute_result"
    }
   ],
   "source": [
    "np.shape(my_array)"
   ]
  },
  {
   "cell_type": "code",
   "execution_count": 9,
   "id": "1ba7528c-9144-4649-a532-7ef04d645ddc",
   "metadata": {},
   "outputs": [
    {
     "data": {
      "text/plain": [
       "dtype('int32')"
      ]
     },
     "execution_count": 9,
     "metadata": {},
     "output_type": "execute_result"
    }
   ],
   "source": [
    "my_array.dtype"
   ]
  },
  {
   "cell_type": "code",
   "execution_count": 10,
   "id": "f311cc9d-95ae-4ba6-ba6a-29ce9e3b727f",
   "metadata": {},
   "outputs": [
    {
     "data": {
      "text/plain": [
       "array([[13,  5,  4],\n",
       "       [28, 28, 22],\n",
       "       [27, 16, 10]])"
      ]
     },
     "execution_count": 10,
     "metadata": {},
     "output_type": "execute_result"
    }
   ],
   "source": [
    "my_array = np.random.randint(30, size=(3,3))\n",
    "my_array"
   ]
  },
  {
   "cell_type": "code",
   "execution_count": 11,
   "id": "f452a87f-40ef-4cc2-a44c-88dfba68800e",
   "metadata": {},
   "outputs": [
    {
     "data": {
      "text/plain": [
       "array([28, 28, 22])"
      ]
     },
     "execution_count": 11,
     "metadata": {},
     "output_type": "execute_result"
    }
   ],
   "source": [
    "my_array[1]"
   ]
  },
  {
   "cell_type": "code",
   "execution_count": 12,
   "id": "25cf44b7-c9d7-43b3-8e27-535cd25fac40",
   "metadata": {},
   "outputs": [
    {
     "data": {
      "text/plain": [
       "array([27, 16, 10])"
      ]
     },
     "execution_count": 12,
     "metadata": {},
     "output_type": "execute_result"
    }
   ],
   "source": [
    "my_array[2]"
   ]
  },
  {
   "cell_type": "code",
   "execution_count": 13,
   "id": "d85333ad-5dcb-4ad8-ad36-4cbd9b67eda2",
   "metadata": {},
   "outputs": [
    {
     "data": {
      "text/plain": [
       "array([28, 28, 22])"
      ]
     },
     "execution_count": 13,
     "metadata": {},
     "output_type": "execute_result"
    }
   ],
   "source": [
    "my_array[1, :]"
   ]
  },
  {
   "cell_type": "code",
   "execution_count": 14,
   "id": "afb2d647-103e-4723-97d4-379a23afa2f8",
   "metadata": {},
   "outputs": [
    {
     "data": {
      "text/plain": [
       "22"
      ]
     },
     "execution_count": 14,
     "metadata": {},
     "output_type": "execute_result"
    }
   ],
   "source": [
    "my_array[1,2]"
   ]
  },
  {
   "cell_type": "code",
   "execution_count": 15,
   "id": "e2e9f5ba-4452-49df-be37-9f10c187f1f6",
   "metadata": {},
   "outputs": [
    {
     "data": {
      "text/plain": [
       "10"
      ]
     },
     "execution_count": 15,
     "metadata": {},
     "output_type": "execute_result"
    }
   ],
   "source": [
    "my_array[2, 2]"
   ]
  },
  {
   "cell_type": "code",
   "execution_count": 16,
   "id": "722308aa-f53d-461b-8d44-f6696689a633",
   "metadata": {},
   "outputs": [
    {
     "data": {
      "text/plain": [
       "4"
      ]
     },
     "execution_count": 16,
     "metadata": {},
     "output_type": "execute_result"
    }
   ],
   "source": [
    "my_array[0, 2]"
   ]
  },
  {
   "cell_type": "code",
   "execution_count": 17,
   "id": "f736b56c-20a5-4595-b0e5-e9d68c9eeb43",
   "metadata": {},
   "outputs": [
    {
     "data": {
      "text/plain": [
       "array([28, 22])"
      ]
     },
     "execution_count": 17,
     "metadata": {},
     "output_type": "execute_result"
    }
   ],
   "source": [
    "my_array[1, 1:]"
   ]
  },
  {
   "cell_type": "code",
   "execution_count": 18,
   "id": "1d6305c8-2e3d-4685-bd54-e532960d3e98",
   "metadata": {},
   "outputs": [
    {
     "data": {
      "text/plain": [
       "array([16, 10])"
      ]
     },
     "execution_count": 18,
     "metadata": {},
     "output_type": "execute_result"
    }
   ],
   "source": [
    "my_array[2, 1:]"
   ]
  },
  {
   "cell_type": "code",
   "execution_count": 19,
   "id": "6a28b960-fb78-43ab-87a1-f12db5dc9ef2",
   "metadata": {},
   "outputs": [
    {
     "data": {
      "text/plain": [
       "array([[ 7, 12,  6,  6,  7],\n",
       "       [16, 11,  4,  4,  9],\n",
       "       [19,  5, 18,  0, 18],\n",
       "       [18,  3,  9,  0,  7],\n",
       "       [ 5, 12, 10, 12, 11]])"
      ]
     },
     "execution_count": 19,
     "metadata": {},
     "output_type": "execute_result"
    }
   ],
   "source": [
    "my_array2 = np.random.randint(20, size = (5,5))\n",
    "my_array2"
   ]
  },
  {
   "cell_type": "code",
   "execution_count": 20,
   "id": "55fc938e-73cb-4526-8ab2-5088daa8e92f",
   "metadata": {},
   "outputs": [
    {
     "data": {
      "text/plain": [
       "array([16, 11,  4,  4,  9])"
      ]
     },
     "execution_count": 20,
     "metadata": {},
     "output_type": "execute_result"
    }
   ],
   "source": [
    "my_array2[1]"
   ]
  },
  {
   "cell_type": "code",
   "execution_count": 21,
   "id": "6f3f045d-3fb7-4406-8246-4ae7ff84e032",
   "metadata": {},
   "outputs": [
    {
     "data": {
      "text/plain": [
       "array([11,  4,  4,  9])"
      ]
     },
     "execution_count": 21,
     "metadata": {},
     "output_type": "execute_result"
    }
   ],
   "source": [
    "my_array2[1, 1:]"
   ]
  },
  {
   "cell_type": "code",
   "execution_count": 22,
   "id": "cf521b02-837c-4818-9c77-e85d0c2de099",
   "metadata": {},
   "outputs": [
    {
     "data": {
      "text/plain": [
       "array([18,  9, 10])"
      ]
     },
     "execution_count": 22,
     "metadata": {},
     "output_type": "execute_result"
    }
   ],
   "source": [
    "my_array2[2:, 2]"
   ]
  },
  {
   "cell_type": "code",
   "execution_count": 23,
   "id": "bee5a36a-3c8f-4837-85a3-071cca793571",
   "metadata": {},
   "outputs": [
    {
     "data": {
      "text/plain": [
       "array([[ 0,  7],\n",
       "       [12, 11]])"
      ]
     },
     "execution_count": 23,
     "metadata": {},
     "output_type": "execute_result"
    }
   ],
   "source": [
    "my_array2[3:, 3:]"
   ]
  },
  {
   "cell_type": "code",
   "execution_count": 24,
   "id": "147d3853-a352-44f5-b921-45659356fe87",
   "metadata": {},
   "outputs": [
    {
     "data": {
      "text/plain": [
       "array([[ 3,  9,  0],\n",
       "       [12, 10, 12]])"
      ]
     },
     "execution_count": 24,
     "metadata": {},
     "output_type": "execute_result"
    }
   ],
   "source": [
    "my_array2[3:, 1:4]"
   ]
  },
  {
   "cell_type": "code",
   "execution_count": 25,
   "id": "19d4f95e-0245-48df-9462-db6dde201ea0",
   "metadata": {},
   "outputs": [
    {
     "data": {
      "text/plain": [
       "array([[12,  6,  6],\n",
       "       [11,  4,  4]])"
      ]
     },
     "execution_count": 25,
     "metadata": {},
     "output_type": "execute_result"
    }
   ],
   "source": [
    "my_array2[:2, 1:4]"
   ]
  },
  {
   "cell_type": "code",
   "execution_count": 26,
   "id": "a3e9807e-2a5d-4169-abad-5bf784be632a",
   "metadata": {},
   "outputs": [
    {
     "data": {
      "text/plain": [
       "array([[12,  6,  6],\n",
       "       [11,  4,  4],\n",
       "       [ 5, 18,  0]])"
      ]
     },
     "execution_count": 26,
     "metadata": {},
     "output_type": "execute_result"
    }
   ],
   "source": [
    "my_array2[:3, 1:4]"
   ]
  },
  {
   "cell_type": "code",
   "execution_count": 27,
   "id": "5dfbf664-92f1-455a-b099-de23f83eac09",
   "metadata": {},
   "outputs": [
    {
     "data": {
      "text/plain": [
       "array([[44, 28, 48,  4,  9, 34, 48, 15],\n",
       "       [15, 37, 45, 26, 16,  0, 28,  0],\n",
       "       [31, 40, 35, 19,  1,  2,  3, 44],\n",
       "       [45, 41, 16, 33, 36, 25,  3, 41],\n",
       "       [19, 16, 17, 48, 49, 11, 11, 48],\n",
       "       [43, 23, 25, 12, 18,  6, 16, 48],\n",
       "       [35, 45, 40, 12, 32, 22,  3, 19],\n",
       "       [ 6, 13, 15, 31, 30, 20,  7, 45]])"
      ]
     },
     "execution_count": 27,
     "metadata": {},
     "output_type": "execute_result"
    }
   ],
   "source": [
    "my_array3 = np.random.randint(50, size=(8,8))\n",
    "my_array3"
   ]
  },
  {
   "cell_type": "code",
   "execution_count": 28,
   "id": "9e6f692f-8693-4e49-b216-2fc0b4f21859",
   "metadata": {},
   "outputs": [
    {
     "data": {
      "text/plain": [
       "array([[40, 35, 19,  1,  2,  3],\n",
       "       [41, 16, 33, 36, 25,  3],\n",
       "       [16, 17, 48, 49, 11, 11],\n",
       "       [23, 25, 12, 18,  6, 16],\n",
       "       [45, 40, 12, 32, 22,  3]])"
      ]
     },
     "execution_count": 28,
     "metadata": {},
     "output_type": "execute_result"
    }
   ],
   "source": [
    "my_array3[2:7, 1:7]"
   ]
  },
  {
   "cell_type": "code",
   "execution_count": 29,
   "id": "57abe9ad-ebd0-4844-9c34-9c050384f627",
   "metadata": {},
   "outputs": [
    {
     "data": {
      "text/plain": [
       "array([[35, 45, 40, 12, 32, 22,  3, 19],\n",
       "       [ 6, 13, 15, 31, 30, 20,  7, 45]])"
      ]
     },
     "execution_count": 29,
     "metadata": {},
     "output_type": "execute_result"
    }
   ],
   "source": [
    "my_array3[6:,:]"
   ]
  },
  {
   "cell_type": "code",
   "execution_count": 30,
   "id": "2cf65fc7-0afd-4cb7-bb83-9f3bf14a5a74",
   "metadata": {},
   "outputs": [
    {
     "data": {
      "text/plain": [
       "array([[18,  6],\n",
       "       [32, 22]])"
      ]
     },
     "execution_count": 30,
     "metadata": {},
     "output_type": "execute_result"
    }
   ],
   "source": [
    "my_array3[5:7,4:6]"
   ]
  },
  {
   "cell_type": "code",
   "execution_count": 31,
   "id": "747949e2-1216-45e2-a8f4-2187fe7e5c8d",
   "metadata": {},
   "outputs": [
    {
     "data": {
      "text/plain": [
       "array([44, 28, 48,  4,  9, 34, 48, 15])"
      ]
     },
     "execution_count": 31,
     "metadata": {},
     "output_type": "execute_result"
    }
   ],
   "source": [
    "my_array3[0, :]"
   ]
  },
  {
   "cell_type": "code",
   "execution_count": 32,
   "id": "cc0db2c5-e499-45dd-a94f-d89db4797edd",
   "metadata": {},
   "outputs": [
    {
     "data": {
      "text/plain": [
       "array([44, 15, 31, 45, 19, 43, 35,  6])"
      ]
     },
     "execution_count": 32,
     "metadata": {},
     "output_type": "execute_result"
    }
   ],
   "source": [
    "my_array3[:,0]"
   ]
  },
  {
   "cell_type": "code",
   "execution_count": 33,
   "id": "e432e155-b0f7-46bd-b217-0c6630fe06e6",
   "metadata": {},
   "outputs": [
    {
     "data": {
      "text/plain": [
       "array([ 0,  2,  4,  6,  8, 10, 12, 14, 16, 18])"
      ]
     },
     "execution_count": 33,
     "metadata": {},
     "output_type": "execute_result"
    }
   ],
   "source": [
    "my_array = np.arange(0, 20, 2)\n",
    "my_array"
   ]
  },
  {
   "cell_type": "code",
   "execution_count": 34,
   "id": "8fbb31c6-f8f7-4c8a-a36e-f92bde9a961a",
   "metadata": {},
   "outputs": [
    {
     "data": {
      "text/plain": [
       "array([ 2,  6, 10])"
      ]
     },
     "execution_count": 34,
     "metadata": {},
     "output_type": "execute_result"
    }
   ],
   "source": [
    "my_array[1:7:2]"
   ]
  },
  {
   "cell_type": "code",
   "execution_count": 35,
   "id": "3e1d5959-000c-467a-8b17-d17e9a7f1332",
   "metadata": {},
   "outputs": [
    {
     "data": {
      "text/plain": [
       "array([0, 1, 2, 3, 4])"
      ]
     },
     "execution_count": 35,
     "metadata": {},
     "output_type": "execute_result"
    }
   ],
   "source": [
    "deneme = np.arange(0,5)\n",
    "deneme"
   ]
  },
  {
   "cell_type": "code",
   "execution_count": 36,
   "id": "ee741a7c-c213-4d90-a14f-6fb207f5e2f8",
   "metadata": {},
   "outputs": [
    {
     "data": {
      "text/plain": [
       "array([0, 1, 2, 3, 4])"
      ]
     },
     "execution_count": 36,
     "metadata": {},
     "output_type": "execute_result"
    }
   ],
   "source": [
    "deneme.view()"
   ]
  },
  {
   "cell_type": "code",
   "execution_count": 37,
   "id": "09572a98-847d-485d-aa9e-7f3804b8ff21",
   "metadata": {},
   "outputs": [
    {
     "data": {
      "text/plain": [
       "array([ 1,  2,  3,  4,  5,  6,  7,  8,  9, 10, 11, 12, 13, 14])"
      ]
     },
     "execution_count": 37,
     "metadata": {},
     "output_type": "execute_result"
    }
   ],
   "source": [
    "my_list = np.arange(1, 15)\n",
    "my_list"
   ]
  },
  {
   "cell_type": "code",
   "execution_count": 38,
   "id": "7f6375fb-2803-45b2-bd30-55206fd94e7b",
   "metadata": {},
   "outputs": [
    {
     "data": {
      "text/plain": [
       "array([1, 2, 3])"
      ]
     },
     "execution_count": 38,
     "metadata": {},
     "output_type": "execute_result"
    }
   ],
   "source": [
    "my_slicing1 = my_list[0:3]\n",
    "my_slicing1"
   ]
  },
  {
   "cell_type": "code",
   "execution_count": 39,
   "id": "145f62fa-0371-4630-9a44-f8b3085e2c59",
   "metadata": {},
   "outputs": [
    {
     "data": {
      "text/plain": [
       "array([4, 5, 6])"
      ]
     },
     "execution_count": 39,
     "metadata": {},
     "output_type": "execute_result"
    }
   ],
   "source": [
    "my_slicing2 = my_list[3:6]\n",
    "my_slicing2"
   ]
  },
  {
   "cell_type": "code",
   "execution_count": 40,
   "id": "f5fc04e9-290c-4e8b-9259-a1a7571d1e90",
   "metadata": {},
   "outputs": [
    {
     "data": {
      "text/plain": [
       "array([7, 8, 9])"
      ]
     },
     "execution_count": 40,
     "metadata": {},
     "output_type": "execute_result"
    }
   ],
   "source": [
    "my_slicing3 = my_list[6:9]\n",
    "my_slicing3"
   ]
  },
  {
   "cell_type": "code",
   "execution_count": 41,
   "id": "766e8128-25c1-471b-a605-b53f7fa51174",
   "metadata": {},
   "outputs": [
    {
     "data": {
      "text/plain": [
       "array([10, 11, 12])"
      ]
     },
     "execution_count": 41,
     "metadata": {},
     "output_type": "execute_result"
    }
   ],
   "source": [
    "my_slicing4 = my_list[9:12]\n",
    "my_slicing4"
   ]
  },
  {
   "cell_type": "code",
   "execution_count": 42,
   "id": "5a9b98c3-adbf-47e2-b5d0-14cd17c22e84",
   "metadata": {},
   "outputs": [
    {
     "data": {
      "text/plain": [
       "array([13, 14])"
      ]
     },
     "execution_count": 42,
     "metadata": {},
     "output_type": "execute_result"
    }
   ],
   "source": [
    "my_slicing5 = my_list[12:14]\n",
    "my_slicing5"
   ]
  },
  {
   "cell_type": "code",
   "execution_count": 43,
   "id": "4c35ce51-da50-4a58-a227-3887bfa12aad",
   "metadata": {},
   "outputs": [
    {
     "data": {
      "text/plain": [
       "array([1, 3, 5, 7, 9])"
      ]
     },
     "execution_count": 43,
     "metadata": {},
     "output_type": "execute_result"
    }
   ],
   "source": [
    "my_slicing6 = my_list[0:10:2]\n",
    "my_slicing6"
   ]
  },
  {
   "cell_type": "code",
   "execution_count": 44,
   "id": "ec1bdcd9-f0e3-4967-b239-a75df02b044c",
   "metadata": {},
   "outputs": [
    {
     "data": {
      "text/plain": [
       "array([ 2,  4,  6,  8, 10])"
      ]
     },
     "execution_count": 44,
     "metadata": {},
     "output_type": "execute_result"
    }
   ],
   "source": [
    "my_slicing7 = my_list[1:10:2]\n",
    "my_slicing7"
   ]
  },
  {
   "cell_type": "code",
   "execution_count": 45,
   "id": "8a8561c5-5e43-4eab-8dc4-dbdc8108c558",
   "metadata": {},
   "outputs": [
    {
     "data": {
      "text/plain": [
       "array([[ 2,  6,  0, 15,  5],\n",
       "       [14, 10,  3, 14, 12],\n",
       "       [14,  7, 10, 16,  2],\n",
       "       [17, 16, 13, 16, 19],\n",
       "       [ 0,  9, 14,  4,  4]])"
      ]
     },
     "execution_count": 45,
     "metadata": {},
     "output_type": "execute_result"
    }
   ],
   "source": [
    "my_list2 = np.random.randint(20, size=(5,5))\n",
    "my_list2"
   ]
  },
  {
   "cell_type": "code",
   "execution_count": 46,
   "id": "2e1ea534-5bdd-459a-acd4-74715a45f5a8",
   "metadata": {},
   "outputs": [
    {
     "data": {
      "text/plain": [
       "array([10])"
      ]
     },
     "execution_count": 46,
     "metadata": {},
     "output_type": "execute_result"
    }
   ],
   "source": [
    "parca = my_list2[[1],[1]]\n",
    "parca"
   ]
  },
  {
   "cell_type": "code",
   "execution_count": 47,
   "id": "c6b2fac2-6bfa-4ce3-9332-19cfcab930ba",
   "metadata": {},
   "outputs": [
    {
     "data": {
      "text/plain": [
       "array([[14, 10,  3, 14, 12],\n",
       "       [14,  7, 10, 16,  2]])"
      ]
     },
     "execution_count": 47,
     "metadata": {},
     "output_type": "execute_result"
    }
   ],
   "source": [
    "parca1 = my_list2[1:3]\n",
    "parca1"
   ]
  },
  {
   "cell_type": "code",
   "execution_count": 48,
   "id": "aa5f38ee-5dc9-4707-980f-d0f0b10704a7",
   "metadata": {},
   "outputs": [
    {
     "data": {
      "text/plain": [
       "array([[14, 10,  3, 14, 12],\n",
       "       [17, 16, 13, 16, 19]])"
      ]
     },
     "execution_count": 48,
     "metadata": {},
     "output_type": "execute_result"
    }
   ],
   "source": [
    "parca2 = my_list2[[1,3]]\n",
    "parca2"
   ]
  },
  {
   "cell_type": "code",
   "execution_count": 49,
   "id": "99d1c62d-93c0-4054-9d11-2520142c2ddc",
   "metadata": {},
   "outputs": [
    {
     "data": {
      "text/plain": [
       "array([[3]])"
      ]
     },
     "execution_count": 49,
     "metadata": {},
     "output_type": "execute_result"
    }
   ],
   "source": [
    "parca3 = my_list2[1:2, 2:3]\n",
    "parca3"
   ]
  },
  {
   "cell_type": "code",
   "execution_count": 50,
   "id": "fa813afd-0ccc-4f01-8e59-df1e35eeac29",
   "metadata": {},
   "outputs": [
    {
     "data": {
      "text/plain": [
       "array([[ 6,  0, 15],\n",
       "       [10,  3, 14],\n",
       "       [ 7, 10, 16]])"
      ]
     },
     "execution_count": 50,
     "metadata": {},
     "output_type": "execute_result"
    }
   ],
   "source": [
    "parca4 = my_list2[0:3, 1:4]\n",
    "parca4"
   ]
  },
  {
   "cell_type": "code",
   "execution_count": 51,
   "id": "1587bede-b4e7-4583-a52e-d399dc7c8f80",
   "metadata": {},
   "outputs": [
    {
     "data": {
      "text/plain": [
       "array([[ 2,  6,  0, 15,  5],\n",
       "       [14, 10,  3, 14, 12],\n",
       "       [14,  7, 10, 16,  2],\n",
       "       [17, 16, 13, 16, 19],\n",
       "       [ 0,  9, 14,  4,  4]])"
      ]
     },
     "execution_count": 51,
     "metadata": {},
     "output_type": "execute_result"
    }
   ],
   "source": [
    "my_list2"
   ]
  },
  {
   "cell_type": "code",
   "execution_count": 52,
   "id": "bcf803f3-da87-48a0-96bd-de2fa379b443",
   "metadata": {},
   "outputs": [
    {
     "data": {
      "text/plain": [
       "array([[ 0,  2,  5,  6, 15],\n",
       "       [ 3, 10, 12, 14, 14],\n",
       "       [ 2,  7, 10, 14, 16],\n",
       "       [13, 16, 16, 17, 19],\n",
       "       [ 0,  4,  4,  9, 14]])"
      ]
     },
     "execution_count": 52,
     "metadata": {},
     "output_type": "execute_result"
    }
   ],
   "source": [
    "my_list3 = np.sort(my_list2)\n",
    "my_list3"
   ]
  },
  {
   "cell_type": "code",
   "execution_count": 53,
   "id": "0ffc61e7-1cc2-4467-965a-030f6751a7cc",
   "metadata": {},
   "outputs": [
    {
     "data": {
      "text/plain": [
       "2"
      ]
     },
     "execution_count": 53,
     "metadata": {},
     "output_type": "execute_result"
    }
   ],
   "source": [
    "my_list3[0,1]"
   ]
  },
  {
   "cell_type": "code",
   "execution_count": 54,
   "id": "bb560ace-66c1-4eb7-b33f-80e1956ecde7",
   "metadata": {},
   "outputs": [
    {
     "data": {
      "text/plain": [
       "array([[ 0,  2,  5,  6, 15]])"
      ]
     },
     "execution_count": 54,
     "metadata": {},
     "output_type": "execute_result"
    }
   ],
   "source": [
    "my_list3[0:1]"
   ]
  },
  {
   "cell_type": "code",
   "execution_count": 55,
   "id": "e773c3de-3b07-4200-935a-d6018dd70adb",
   "metadata": {},
   "outputs": [
    {
     "data": {
      "text/plain": [
       "5"
      ]
     },
     "execution_count": 55,
     "metadata": {},
     "output_type": "execute_result"
    }
   ],
   "source": [
    "my_list3[0,2]"
   ]
  },
  {
   "cell_type": "code",
   "execution_count": 56,
   "id": "4a3d5f09-5053-4de7-ac26-f5c28fc02cb5",
   "metadata": {},
   "outputs": [
    {
     "data": {
      "text/plain": [
       "array([[ 0,  2,  5,  6, 15],\n",
       "       [ 3, 10, 12, 14, 14]])"
      ]
     },
     "execution_count": 56,
     "metadata": {},
     "output_type": "execute_result"
    }
   ],
   "source": [
    "my_list3[0:2]"
   ]
  },
  {
   "cell_type": "code",
   "execution_count": 57,
   "id": "2fd528e2-756d-43fb-a303-f1ca0d8250a6",
   "metadata": {},
   "outputs": [
    {
     "data": {
      "text/plain": [
       "array([[ 3, 10, 12, 14, 14]])"
      ]
     },
     "execution_count": 57,
     "metadata": {},
     "output_type": "execute_result"
    }
   ],
   "source": [
    "my_list3[1:2]"
   ]
  },
  {
   "cell_type": "code",
   "execution_count": 58,
   "id": "8af75232-17b0-4fb9-b933-146cb01e18bc",
   "metadata": {},
   "outputs": [
    {
     "data": {
      "text/plain": [
       "array([[14, 14]])"
      ]
     },
     "execution_count": 58,
     "metadata": {},
     "output_type": "execute_result"
    }
   ],
   "source": [
    "my_list3[1:2, 3:5]"
   ]
  },
  {
   "cell_type": "code",
   "execution_count": 59,
   "id": "a40e3b94-0a74-401d-931b-5047ae9a227d",
   "metadata": {},
   "outputs": [
    {
     "data": {
      "text/plain": [
       "[1, 2, 3, 4]"
      ]
     },
     "execution_count": 59,
     "metadata": {},
     "output_type": "execute_result"
    }
   ],
   "source": [
    "slicing = [1,2,3,4,5,6,7,8]\n",
    "slicing[0:4]"
   ]
  },
  {
   "cell_type": "code",
   "execution_count": 60,
   "id": "6fb31e6c-8469-497d-b81a-890561af2857",
   "metadata": {},
   "outputs": [
    {
     "data": {
      "text/plain": [
       "[2, 3, 4, 5, 6]"
      ]
     },
     "execution_count": 60,
     "metadata": {},
     "output_type": "execute_result"
    }
   ],
   "source": [
    "my_list = [1, 2, 3, 4, 5, 6]\n",
    "my_list[1:]"
   ]
  },
  {
   "cell_type": "code",
   "execution_count": 61,
   "id": "f4c62035-51cd-47a4-8ac6-a58dac3f8484",
   "metadata": {},
   "outputs": [
    {
     "data": {
      "text/plain": [
       "[1, 2, 3, 4, 5]"
      ]
     },
     "execution_count": 61,
     "metadata": {},
     "output_type": "execute_result"
    }
   ],
   "source": [
    "slicing = [1, 2, 3, 4, 5, 6]\n",
    "slicing[:5]"
   ]
  },
  {
   "cell_type": "code",
   "execution_count": 62,
   "id": "71a5ed7d-4854-429e-921d-564a55e3ac1a",
   "metadata": {},
   "outputs": [
    {
     "data": {
      "text/plain": [
       "11"
      ]
     },
     "execution_count": 62,
     "metadata": {},
     "output_type": "execute_result"
    }
   ],
   "source": [
    "slicing = [1, 2, 3, 4, 5, 6, 7, 8, 9, 10, 11, 12, 13]\n",
    "\n",
    "slicing[-3]"
   ]
  },
  {
   "cell_type": "code",
   "execution_count": 63,
   "id": "210eee08-4db1-48d3-9d9b-6ea086f9b6e9",
   "metadata": {},
   "outputs": [
    {
     "data": {
      "text/plain": [
       "array([[ 6,  6, 14,  0, 14],\n",
       "       [16,  0, 13, 14,  3],\n",
       "       [ 1,  9,  9,  9, 17],\n",
       "       [14,  6,  7,  2,  9]])"
      ]
     },
     "execution_count": 63,
     "metadata": {},
     "output_type": "execute_result"
    }
   ],
   "source": [
    "slicing = np.random.randint(20, size=(4,5))\n",
    "slicing"
   ]
  },
  {
   "cell_type": "code",
   "execution_count": 64,
   "id": "f34fceaf-3cc7-4438-a4fa-de5f7f8051ac",
   "metadata": {},
   "outputs": [
    {
     "data": {
      "text/plain": [
       "9"
      ]
     },
     "execution_count": 64,
     "metadata": {},
     "output_type": "execute_result"
    }
   ],
   "source": [
    "slicing[-1,-1]"
   ]
  },
  {
   "cell_type": "code",
   "execution_count": 66,
   "id": "bcd4851b-50ac-4ff6-8c9f-3274750dc81e",
   "metadata": {},
   "outputs": [
    {
     "data": {
      "text/plain": [
       "array([[ 5, 19,  0, 11],\n",
       "       [10,  2, 17,  3],\n",
       "       [ 9,  8, 10, 12],\n",
       "       [ 6, 12, 10,  1],\n",
       "       [14,  5, 17, 13]])"
      ]
     },
     "execution_count": 66,
     "metadata": {},
     "output_type": "execute_result"
    }
   ],
   "source": [
    "my_slicing = np.random.randint(20, size=(5,4))\n",
    "my_slicing"
   ]
  },
  {
   "cell_type": "code",
   "execution_count": 67,
   "id": "905e1c8f-abc3-4ce4-8231-6b791bb2204e",
   "metadata": {},
   "outputs": [
    {
     "data": {
      "text/plain": [
       "array([[ 2, 17],\n",
       "       [ 8, 10]])"
      ]
     },
     "execution_count": 67,
     "metadata": {},
     "output_type": "execute_result"
    }
   ],
   "source": [
    "my_slicing[1:3, 1:3]"
   ]
  },
  {
   "cell_type": "code",
   "execution_count": 68,
   "id": "91b5ac34-3d34-4b29-8ae1-5a03692ff6bf",
   "metadata": {},
   "outputs": [
    {
     "data": {
      "text/plain": [
       "array([12, 10,  1])"
      ]
     },
     "execution_count": 68,
     "metadata": {},
     "output_type": "execute_result"
    }
   ],
   "source": [
    "my_slicing[3, 1:4]"
   ]
  },
  {
   "cell_type": "code",
   "execution_count": 70,
   "id": "6ba4e471-bc13-4e91-ac9f-f695b615744e",
   "metadata": {},
   "outputs": [
    {
     "data": {
      "text/plain": [
       "array([[ 2, 36, 91, 91, 43, 66,  2, 12, 96, 22],\n",
       "       [43, 78, 79, 35, 70, 68, 90, 84, 90, 42],\n",
       "       [40,  2,  7, 64, 80, 37, 14, 16, 64, 95],\n",
       "       [46, 43, 58, 17, 60, 46, 95, 77, 29, 76],\n",
       "       [61, 61, 30,  5, 95, 53, 11, 43,  4, 76],\n",
       "       [42, 12, 40, 44, 33,  4, 60, 27, 98, 68],\n",
       "       [ 9, 78, 44, 95, 93, 19, 94, 77, 84, 11],\n",
       "       [60, 26, 45, 95, 95, 52, 57, 16, 42, 43],\n",
       "       [74, 84, 33, 84,  3, 68, 60, 34, 48, 59],\n",
       "       [81, 22, 32, 14, 31, 69, 52,  1, 37, 30]])"
      ]
     },
     "execution_count": 70,
     "metadata": {},
     "output_type": "execute_result"
    }
   ],
   "source": [
    "slicing = np.random.randint(100, size=(10, 10))\n",
    "slicing"
   ]
  },
  {
   "cell_type": "code",
   "execution_count": 71,
   "id": "b6ff6786-665e-4ef9-be66-1260d7854a43",
   "metadata": {},
   "outputs": [
    {
     "data": {
      "text/plain": [
       "array([[43, 78, 79, 35, 70, 68, 90, 84, 90, 42],\n",
       "       [40,  2,  7, 64, 80, 37, 14, 16, 64, 95]])"
      ]
     },
     "execution_count": 71,
     "metadata": {},
     "output_type": "execute_result"
    }
   ],
   "source": [
    "slicing[1:3]"
   ]
  },
  {
   "cell_type": "code",
   "execution_count": 72,
   "id": "d5cb3235-f80d-423c-9966-e20ce6b3e0c9",
   "metadata": {},
   "outputs": [
    {
     "data": {
      "text/plain": [
       "array([[79, 35],\n",
       "       [ 7, 64],\n",
       "       [58, 17],\n",
       "       [30,  5]])"
      ]
     },
     "execution_count": 72,
     "metadata": {},
     "output_type": "execute_result"
    }
   ],
   "source": [
    "slicing[1:5, 2:4]"
   ]
  },
  {
   "cell_type": "code",
   "execution_count": 73,
   "id": "f80ecc91-9d41-4d2d-9008-2e1ead5dd0ef",
   "metadata": {},
   "outputs": [
    {
     "data": {
      "text/plain": [
       "array([[94, 77, 84],\n",
       "       [57, 16, 42],\n",
       "       [60, 34, 48]])"
      ]
     },
     "execution_count": 73,
     "metadata": {},
     "output_type": "execute_result"
    }
   ],
   "source": [
    "slicing[6:9, 6:9]"
   ]
  }
 ],
 "metadata": {
  "kernelspec": {
   "display_name": "Python 3 (ipykernel)",
   "language": "python",
   "name": "python3"
  },
  "language_info": {
   "codemirror_mode": {
    "name": "ipython",
    "version": 3
   },
   "file_extension": ".py",
   "mimetype": "text/x-python",
   "name": "python",
   "nbconvert_exporter": "python",
   "pygments_lexer": "ipython3",
   "version": "3.9.12"
  }
 },
 "nbformat": 4,
 "nbformat_minor": 5
}
