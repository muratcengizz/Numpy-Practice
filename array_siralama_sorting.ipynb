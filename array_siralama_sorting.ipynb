{
 "cells": [
  {
   "cell_type": "markdown",
   "id": "8ece1c9c-349b-46e3-890c-08290b61fbe1",
   "metadata": {},
   "source": [
    "# Array Sıralama (Sorting)"
   ]
  },
  {
   "cell_type": "code",
   "execution_count": 1,
   "id": "43769f69-9cf3-490e-bff9-56b0b5ea93d3",
   "metadata": {},
   "outputs": [],
   "source": [
    "import numpy as np"
   ]
  },
  {
   "cell_type": "code",
   "execution_count": 2,
   "id": "8499731e-1c0a-4f45-b4a2-50fa59cb0b9f",
   "metadata": {},
   "outputs": [],
   "source": [
    "v = np.array([1,5,3,2,6,7,8,6,12,55,32])"
   ]
  },
  {
   "cell_type": "code",
   "execution_count": 3,
   "id": "537457da-a82e-4b75-b766-051df1285e5c",
   "metadata": {},
   "outputs": [
    {
     "data": {
      "text/plain": [
       "array([ 1,  2,  3,  5,  6,  6,  7,  8, 12, 32, 55])"
      ]
     },
     "execution_count": 3,
     "metadata": {},
     "output_type": "execute_result"
    }
   ],
   "source": [
    "np.sort(v)\n",
    "# np.sort() komutu değişkenin kimyasını bozmaz"
   ]
  },
  {
   "cell_type": "code",
   "execution_count": 4,
   "id": "6cd29a75-78f7-4506-b191-fe803cb0d250",
   "metadata": {},
   "outputs": [
    {
     "data": {
      "text/plain": [
       "array([ 1,  5,  3,  2,  6,  7,  8,  6, 12, 55, 32])"
      ]
     },
     "execution_count": 4,
     "metadata": {},
     "output_type": "execute_result"
    }
   ],
   "source": [
    "v"
   ]
  },
  {
   "cell_type": "code",
   "execution_count": 5,
   "id": "733b1d39-8276-4bd4-9972-2a57f0105cfd",
   "metadata": {},
   "outputs": [],
   "source": [
    "v.sort()\n",
    "# fakat sort methodunu v.sort() olarak kullandığımızda değişkenin kimyası bozuldu"
   ]
  },
  {
   "cell_type": "code",
   "execution_count": 6,
   "id": "7a679964-276c-4faa-b09a-6cae454db354",
   "metadata": {},
   "outputs": [
    {
     "data": {
      "text/plain": [
       "array([ 1,  2,  3,  5,  6,  6,  7,  8, 12, 32, 55])"
      ]
     },
     "execution_count": 6,
     "metadata": {},
     "output_type": "execute_result"
    }
   ],
   "source": [
    "v"
   ]
  },
  {
   "cell_type": "code",
   "execution_count": 7,
   "id": "e0050c9f-bf9a-4aec-b2b7-b361e28ee0a9",
   "metadata": {},
   "outputs": [],
   "source": [
    "# iki boyutlu array siralama"
   ]
  },
  {
   "cell_type": "code",
   "execution_count": 8,
   "id": "675153b4-3620-496d-9314-72a36f52b320",
   "metadata": {},
   "outputs": [
    {
     "data": {
      "text/plain": [
       "array([[19.28933333, 24.14109456, 18.10245698],\n",
       "       [20.13590626, 19.99804775, 15.71850029],\n",
       "       [22.23661252, 13.44503527, 14.27114623]])"
      ]
     },
     "execution_count": 8,
     "metadata": {},
     "output_type": "execute_result"
    }
   ],
   "source": [
    "np.random.normal(20,5, (3,3))\n",
    "# birinci parametre(20): standart sapmasının oranı\n",
    "# ikinci parametre(5): dizinin ortalama oranı\n",
    "# ücüncü parametre((3,3)): matris'in satır ve sütun sayısı"
   ]
  },
  {
   "cell_type": "code",
   "execution_count": 9,
   "id": "543000c5-42dc-444f-8eed-432cf88efa44",
   "metadata": {},
   "outputs": [],
   "source": [
    "a = np.random.normal(20, 5, (3,3))"
   ]
  },
  {
   "cell_type": "code",
   "execution_count": 10,
   "id": "18246b02-2b6b-42a4-a287-27a620129208",
   "metadata": {},
   "outputs": [
    {
     "data": {
      "text/plain": [
       "array([[27.5832623 , 11.75153691, 23.10389402],\n",
       "       [18.43879618, 18.31013669, 14.58147789],\n",
       "       [23.99069958, 20.29482694, 21.59320472]])"
      ]
     },
     "execution_count": 10,
     "metadata": {},
     "output_type": "execute_result"
    }
   ],
   "source": [
    "a"
   ]
  },
  {
   "cell_type": "code",
   "execution_count": 11,
   "id": "f7676051-6488-4213-ab35-9ab4ae416eb2",
   "metadata": {},
   "outputs": [
    {
     "data": {
      "text/plain": [
       "array([[11.75153691, 23.10389402, 27.5832623 ],\n",
       "       [14.58147789, 18.31013669, 18.43879618],\n",
       "       [20.29482694, 21.59320472, 23.99069958]])"
      ]
     },
     "execution_count": 11,
     "metadata": {},
     "output_type": "execute_result"
    }
   ],
   "source": [
    "np.sort(a, axis=1)\n",
    "# satırlar arasında sıralama yapıldı"
   ]
  },
  {
   "cell_type": "code",
   "execution_count": 12,
   "id": "0c699f3b-89ed-4f2a-a264-a72fe81c75f8",
   "metadata": {},
   "outputs": [
    {
     "data": {
      "text/plain": [
       "array([[18.43879618, 11.75153691, 14.58147789],\n",
       "       [23.99069958, 18.31013669, 21.59320472],\n",
       "       [27.5832623 , 20.29482694, 23.10389402]])"
      ]
     },
     "execution_count": 12,
     "metadata": {},
     "output_type": "execute_result"
    }
   ],
   "source": [
    "np.sort(a, axis=0)\n",
    "# sütunlar arasında sıralama yapıldı"
   ]
  },
  {
   "cell_type": "code",
   "execution_count": 13,
   "id": "ac219189-76bb-492b-a912-e5f6b1d8ec81",
   "metadata": {},
   "outputs": [],
   "source": [
    "my_array1 = np.random.randint(20, size=(1, 20))"
   ]
  },
  {
   "cell_type": "code",
   "execution_count": 14,
   "id": "4371605d-6dff-4f2d-8b47-04b07416c676",
   "metadata": {},
   "outputs": [
    {
     "data": {
      "text/plain": [
       "array([[19,  8,  5,  1,  9, 17, 18,  6, 12, 11, 16,  4, 16, 11, 15, 15,\n",
       "         4,  2, 14, 17]])"
      ]
     },
     "execution_count": 14,
     "metadata": {},
     "output_type": "execute_result"
    }
   ],
   "source": [
    "my_array1"
   ]
  },
  {
   "cell_type": "code",
   "execution_count": 15,
   "id": "ea7db139-f4b1-4b37-8bb4-98f6185c49b0",
   "metadata": {},
   "outputs": [
    {
     "data": {
      "text/plain": [
       "array([[ 1,  2,  4,  4,  5,  6,  8,  9, 11, 11, 12, 14, 15, 15, 16, 16,\n",
       "        17, 17, 18, 19]])"
      ]
     },
     "execution_count": 15,
     "metadata": {},
     "output_type": "execute_result"
    }
   ],
   "source": [
    "sorting = np.sort(my_array1)\n",
    "sorting"
   ]
  },
  {
   "cell_type": "code",
   "execution_count": 16,
   "id": "de7302f8-0214-4402-9792-b432018024f4",
   "metadata": {},
   "outputs": [
    {
     "data": {
      "text/plain": [
       "array([[11,  7,  8,  1,  9],\n",
       "       [ 0, 17,  7,  3, 17],\n",
       "       [ 5,  4,  5, 15,  8],\n",
       "       [17, 19, 19, 18,  1],\n",
       "       [17, 15, 11, 14, 15]])"
      ]
     },
     "execution_count": 16,
     "metadata": {},
     "output_type": "execute_result"
    }
   ],
   "source": [
    "my_array2 = np.random.randint(20, size=(5,5))\n",
    "my_array2"
   ]
  },
  {
   "cell_type": "code",
   "execution_count": 17,
   "id": "6d0961bf-cd68-4199-b2e9-3315f274f45e",
   "metadata": {},
   "outputs": [
    {
     "data": {
      "text/plain": [
       "array([[ 0,  4,  5,  1,  1],\n",
       "       [ 5,  7,  7,  3,  8],\n",
       "       [11, 15,  8, 14,  9],\n",
       "       [17, 17, 11, 15, 15],\n",
       "       [17, 19, 19, 18, 17]])"
      ]
     },
     "execution_count": 17,
     "metadata": {},
     "output_type": "execute_result"
    }
   ],
   "source": [
    "np.sort(my_array2, axis=0)\n",
    "# her kolonu kendi içerisinde sıraladı."
   ]
  },
  {
   "cell_type": "code",
   "execution_count": 18,
   "id": "e0d2c5ba-92aa-44e8-8a5a-8510ca61cca8",
   "metadata": {},
   "outputs": [
    {
     "data": {
      "text/plain": [
       "array([[ 1,  7,  8,  9, 11],\n",
       "       [ 0,  3,  7, 17, 17],\n",
       "       [ 4,  5,  5,  8, 15],\n",
       "       [ 1, 17, 18, 19, 19],\n",
       "       [11, 14, 15, 15, 17]])"
      ]
     },
     "execution_count": 18,
     "metadata": {},
     "output_type": "execute_result"
    }
   ],
   "source": [
    "np.sort(my_array2, axis=1)\n",
    "# her satırı kendi içerisinde sıraladı"
   ]
  },
  {
   "cell_type": "code",
   "execution_count": 19,
   "id": "64026c8b-55f8-444a-9809-47aa5bdeb6c6",
   "metadata": {},
   "outputs": [
    {
     "data": {
      "text/plain": [
       "10"
      ]
     },
     "execution_count": 19,
     "metadata": {},
     "output_type": "execute_result"
    }
   ],
   "source": [
    "my_list = [10, 15, 37, 58, 65, 102]\n",
    "my_list[0]"
   ]
  },
  {
   "cell_type": "code",
   "execution_count": 21,
   "id": "b17d8ffd-9c94-4188-beb3-a886eb445ccd",
   "metadata": {},
   "outputs": [
    {
     "data": {
      "text/plain": [
       "array([18,  7, 16,  9,  9,  4,  9, 10])"
      ]
     },
     "execution_count": 21,
     "metadata": {},
     "output_type": "execute_result"
    }
   ],
   "source": [
    "array = np.random.randint(20, size=8)\n",
    "array"
   ]
  },
  {
   "cell_type": "code",
   "execution_count": 22,
   "id": "726d67c3-33c3-445d-98ce-9ca7dcb641eb",
   "metadata": {},
   "outputs": [
    {
     "data": {
      "text/plain": [
       "array([ 4,  7,  9,  9,  9, 10, 16, 18])"
      ]
     },
     "execution_count": 22,
     "metadata": {},
     "output_type": "execute_result"
    }
   ],
   "source": [
    "np.sort(array)"
   ]
  },
  {
   "cell_type": "code",
   "execution_count": 26,
   "id": "5a55c32f-ffd5-410c-9182-409a26fff24d",
   "metadata": {},
   "outputs": [
    {
     "data": {
      "text/plain": [
       "array([[ 4, 18,  6,  6],\n",
       "       [29,  0,  8,  7],\n",
       "       [19, 13, 29,  2],\n",
       "       [18, 25,  5,  4]])"
      ]
     },
     "execution_count": 26,
     "metadata": {},
     "output_type": "execute_result"
    }
   ],
   "source": [
    "array = np.random.randint(30, size=(4,4))\n",
    "array"
   ]
  },
  {
   "cell_type": "code",
   "execution_count": 27,
   "id": "e1a7266f-9f0b-4055-b8f5-daf3a955d550",
   "metadata": {},
   "outputs": [
    {
     "data": {
      "text/plain": [
       "array([[ 4,  0,  5,  2],\n",
       "       [18, 13,  6,  4],\n",
       "       [19, 18,  8,  6],\n",
       "       [29, 25, 29,  7]])"
      ]
     },
     "execution_count": 27,
     "metadata": {},
     "output_type": "execute_result"
    }
   ],
   "source": [
    "np.sort(array, axis=0)"
   ]
  },
  {
   "cell_type": "code",
   "execution_count": 28,
   "id": "4ac3f552-fc09-490a-88bf-eec77c12a899",
   "metadata": {},
   "outputs": [
    {
     "data": {
      "text/plain": [
       "array([[ 4,  6,  6, 18],\n",
       "       [ 0,  7,  8, 29],\n",
       "       [ 2, 13, 19, 29],\n",
       "       [ 4,  5, 18, 25]])"
      ]
     },
     "execution_count": 28,
     "metadata": {},
     "output_type": "execute_result"
    }
   ],
   "source": [
    "np.sort(array, axis=1)"
   ]
  }
 ],
 "metadata": {
  "kernelspec": {
   "display_name": "Python 3 (ipykernel)",
   "language": "python",
   "name": "python3"
  },
  "language_info": {
   "codemirror_mode": {
    "name": "ipython",
    "version": 3
   },
   "file_extension": ".py",
   "mimetype": "text/x-python",
   "name": "python",
   "nbconvert_exporter": "python",
   "pygments_lexer": "ipython3",
   "version": "3.9.12"
  }
 },
 "nbformat": 4,
 "nbformat_minor": 5
}
