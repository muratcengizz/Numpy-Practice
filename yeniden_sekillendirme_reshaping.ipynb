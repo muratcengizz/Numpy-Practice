{
 "cells": [
  {
   "cell_type": "code",
   "execution_count": 1,
   "id": "1508bc34-ae6c-4a91-87e1-496ea117e458",
   "metadata": {},
   "outputs": [],
   "source": [
    "import numpy as np"
   ]
  },
  {
   "cell_type": "code",
   "execution_count": 2,
   "id": "957d84a2-136a-4c91-85cd-bab6bd7545f4",
   "metadata": {},
   "outputs": [
    {
     "data": {
      "text/plain": [
       "array([1, 2, 3, 4, 5, 6, 7, 8, 9])"
      ]
     },
     "execution_count": 2,
     "metadata": {},
     "output_type": "execute_result"
    }
   ],
   "source": [
    "np.arange(1, 10)"
   ]
  },
  {
   "cell_type": "code",
   "execution_count": 3,
   "id": "06fe8520-6b2e-48b0-bbc1-07314038cc42",
   "metadata": {},
   "outputs": [],
   "source": [
    "a = np.arange(1, 10)"
   ]
  },
  {
   "cell_type": "code",
   "execution_count": 4,
   "id": "381b3780-2b3c-48a1-8e77-6bf5288caf8e",
   "metadata": {},
   "outputs": [
    {
     "data": {
      "text/plain": [
       "array([1, 2, 3, 4, 5, 6, 7, 8, 9])"
      ]
     },
     "execution_count": 4,
     "metadata": {},
     "output_type": "execute_result"
    }
   ],
   "source": [
    "a"
   ]
  },
  {
   "cell_type": "code",
   "execution_count": 5,
   "id": "0d9973a4-e0ac-4d82-99a0-488425ab25f8",
   "metadata": {},
   "outputs": [
    {
     "data": {
      "text/plain": [
       "1"
      ]
     },
     "execution_count": 5,
     "metadata": {},
     "output_type": "execute_result"
    }
   ],
   "source": [
    "a.ndim"
   ]
  },
  {
   "cell_type": "code",
   "execution_count": 6,
   "id": "9f5d95f2-cb44-4101-a388-956bb8f66b53",
   "metadata": {},
   "outputs": [],
   "source": [
    "b = a.reshape((1,9))"
   ]
  },
  {
   "cell_type": "code",
   "execution_count": 7,
   "id": "92e35b22-c0d2-46e5-a780-f2119c11747a",
   "metadata": {},
   "outputs": [
    {
     "data": {
      "text/plain": [
       "array([[1, 2, 3, 4, 5, 6, 7, 8, 9]])"
      ]
     },
     "execution_count": 7,
     "metadata": {},
     "output_type": "execute_result"
    }
   ],
   "source": [
    "b"
   ]
  },
  {
   "cell_type": "code",
   "execution_count": 8,
   "id": "a09405ea-d77b-46c8-a6c2-56ca511c1e32",
   "metadata": {},
   "outputs": [
    {
     "data": {
      "text/plain": [
       "2"
      ]
     },
     "execution_count": 8,
     "metadata": {},
     "output_type": "execute_result"
    }
   ],
   "source": [
    "b.ndim"
   ]
  },
  {
   "cell_type": "code",
   "execution_count": 9,
   "id": "fff49734-90ec-43ca-aedb-f46bd901f534",
   "metadata": {},
   "outputs": [],
   "source": [
    "# Bazı numpy fonksiyonlarını kullanabilmek adına bir vektörü matris 'e çevirmemiz gerekebilir. Bu tarz durumlarda reshape methodu işimize yarayabilir. 1 satırdan oluşan bir vektörü matris 'e dönüştürebiliriz."
   ]
  },
  {
   "cell_type": "code",
   "execution_count": 10,
   "id": "cc4caf5e-f0fc-4044-9347-fca8b0853616",
   "metadata": {},
   "outputs": [],
   "source": [
    "c = a.reshape((3,3))"
   ]
  },
  {
   "cell_type": "code",
   "execution_count": 11,
   "id": "0585e5ca-2eba-4f99-aa85-b5797d6171e3",
   "metadata": {},
   "outputs": [
    {
     "data": {
      "text/plain": [
       "array([[1, 2, 3],\n",
       "       [4, 5, 6],\n",
       "       [7, 8, 9]])"
      ]
     },
     "execution_count": 11,
     "metadata": {},
     "output_type": "execute_result"
    }
   ],
   "source": [
    "c"
   ]
  },
  {
   "cell_type": "code",
   "execution_count": 12,
   "id": "55303836-7202-4303-8186-d8475bc892a2",
   "metadata": {},
   "outputs": [],
   "source": [
    "# Bir vektörü matris 'e çevirebiliriz\n",
    "# Bir matris'i isteğimize göre şekillendirebiliriz."
   ]
  },
  {
   "cell_type": "code",
   "execution_count": 13,
   "id": "aeb36824-b7b0-40d3-933f-4854202a3afc",
   "metadata": {},
   "outputs": [],
   "source": [
    "v = np.arange(20)"
   ]
  },
  {
   "cell_type": "code",
   "execution_count": 14,
   "id": "60a6604a-0f3a-4e2e-9cbf-bd3a577dbf76",
   "metadata": {},
   "outputs": [
    {
     "data": {
      "text/plain": [
       "array([ 0,  1,  2,  3,  4,  5,  6,  7,  8,  9, 10, 11, 12, 13, 14, 15, 16,\n",
       "       17, 18, 19])"
      ]
     },
     "execution_count": 14,
     "metadata": {},
     "output_type": "execute_result"
    }
   ],
   "source": [
    "v"
   ]
  },
  {
   "cell_type": "code",
   "execution_count": 15,
   "id": "36388b93-dabd-4095-8dc0-a16b86ef5188",
   "metadata": {},
   "outputs": [
    {
     "data": {
      "text/plain": [
       "1"
      ]
     },
     "execution_count": 15,
     "metadata": {},
     "output_type": "execute_result"
    }
   ],
   "source": [
    "v.ndim"
   ]
  },
  {
   "cell_type": "code",
   "execution_count": 16,
   "id": "de28ea86-64ab-4ca6-8956-a554d16f4605",
   "metadata": {},
   "outputs": [
    {
     "data": {
      "text/plain": [
       "20"
      ]
     },
     "execution_count": 16,
     "metadata": {},
     "output_type": "execute_result"
    }
   ],
   "source": [
    "v.size"
   ]
  },
  {
   "cell_type": "code",
   "execution_count": 17,
   "id": "0f1d802e-f3df-4ebb-afe4-80abf2d2a1b6",
   "metadata": {},
   "outputs": [
    {
     "data": {
      "text/plain": [
       "dtype('int32')"
      ]
     },
     "execution_count": 17,
     "metadata": {},
     "output_type": "execute_result"
    }
   ],
   "source": [
    "v.dtype"
   ]
  },
  {
   "cell_type": "code",
   "execution_count": 18,
   "id": "9eca1593-aaf1-4129-8772-73aaa7ccc0f8",
   "metadata": {},
   "outputs": [
    {
     "data": {
      "text/plain": [
       "(20,)"
      ]
     },
     "execution_count": 18,
     "metadata": {},
     "output_type": "execute_result"
    }
   ],
   "source": [
    "v.shape"
   ]
  },
  {
   "cell_type": "code",
   "execution_count": 19,
   "id": "afc0ce45-d328-458c-97ef-54a3003b8324",
   "metadata": {},
   "outputs": [
    {
     "data": {
      "text/plain": [
       "array([[ 0,  1,  2,  3,  4],\n",
       "       [ 5,  6,  7,  8,  9],\n",
       "       [10, 11, 12, 13, 14],\n",
       "       [15, 16, 17, 18, 19]])"
      ]
     },
     "execution_count": 19,
     "metadata": {},
     "output_type": "execute_result"
    }
   ],
   "source": [
    "v.reshape((4,5))"
   ]
  },
  {
   "cell_type": "code",
   "execution_count": 20,
   "id": "ac40ed8a-4b88-439a-9119-a687668c4b8b",
   "metadata": {},
   "outputs": [
    {
     "data": {
      "text/plain": [
       "array([[ 0,  1,  2,  3],\n",
       "       [ 4,  5,  6,  7],\n",
       "       [ 8,  9, 10, 11],\n",
       "       [12, 13, 14, 15],\n",
       "       [16, 17, 18, 19]])"
      ]
     },
     "execution_count": 20,
     "metadata": {},
     "output_type": "execute_result"
    }
   ],
   "source": [
    "v.reshape((5,4))"
   ]
  },
  {
   "cell_type": "code",
   "execution_count": 21,
   "id": "5fcb2a91-4f3d-499b-9bfd-2e3b2b438ba5",
   "metadata": {},
   "outputs": [
    {
     "data": {
      "text/plain": [
       "array([0, 1, 2, 3, 4, 5, 6, 7, 8, 9])"
      ]
     },
     "execution_count": 21,
     "metadata": {},
     "output_type": "execute_result"
    }
   ],
   "source": [
    "my_shape = np.arange(0, 10)\n",
    "my_shape"
   ]
  },
  {
   "cell_type": "code",
   "execution_count": 22,
   "id": "3aaa3815-31b9-4ce1-8e8c-beb633e1f991",
   "metadata": {},
   "outputs": [
    {
     "data": {
      "text/plain": [
       "array([0, 1, 2, 3, 4, 5, 6, 7, 8, 9])"
      ]
     },
     "execution_count": 22,
     "metadata": {},
     "output_type": "execute_result"
    }
   ],
   "source": [
    "my_shape.reshape(-1)"
   ]
  },
  {
   "cell_type": "code",
   "execution_count": 23,
   "id": "538cc724-bfd6-4b1c-995a-168d2598e9a0",
   "metadata": {},
   "outputs": [],
   "source": [
    "shape = np.random.randint(20 , size=(5, 4))\n"
   ]
  },
  {
   "cell_type": "code",
   "execution_count": 24,
   "id": "3a81fa93-49e1-4c88-863b-aa5477ac4060",
   "metadata": {},
   "outputs": [
    {
     "data": {
      "text/plain": [
       "array([[ 8, 16,  4, 13],\n",
       "       [15, 18, 13, 16],\n",
       "       [ 0,  1, 12, 15],\n",
       "       [ 4, 14,  8, 18],\n",
       "       [12, 17, 19,  7]])"
      ]
     },
     "execution_count": 24,
     "metadata": {},
     "output_type": "execute_result"
    }
   ],
   "source": [
    "shape"
   ]
  },
  {
   "cell_type": "code",
   "execution_count": 25,
   "id": "e66d54b3-14f3-4360-b511-57485102da96",
   "metadata": {},
   "outputs": [
    {
     "data": {
      "text/plain": [
       "array([[ 8, 16,  4, 13, 15],\n",
       "       [18, 13, 16,  0,  1],\n",
       "       [12, 15,  4, 14,  8],\n",
       "       [18, 12, 17, 19,  7]])"
      ]
     },
     "execution_count": 25,
     "metadata": {},
     "output_type": "execute_result"
    }
   ],
   "source": [
    "shape.reshape((4,5))"
   ]
  },
  {
   "cell_type": "code",
   "execution_count": 26,
   "id": "e859983d-023c-460a-802f-b06cd2114f78",
   "metadata": {},
   "outputs": [
    {
     "data": {
      "text/plain": [
       "array([[ 8, 16],\n",
       "       [ 4, 13],\n",
       "       [15, 18],\n",
       "       [13, 16],\n",
       "       [ 0,  1],\n",
       "       [12, 15],\n",
       "       [ 4, 14],\n",
       "       [ 8, 18],\n",
       "       [12, 17],\n",
       "       [19,  7]])"
      ]
     },
     "execution_count": 26,
     "metadata": {},
     "output_type": "execute_result"
    }
   ],
   "source": [
    "shape.reshape((10,2))"
   ]
  },
  {
   "cell_type": "code",
   "execution_count": 29,
   "id": "e18485ae-f546-4e39-88c4-ea4f6c7c79a7",
   "metadata": {},
   "outputs": [
    {
     "ename": "ValueError",
     "evalue": "cannot reshape array of size 20 into shape (8,10)",
     "output_type": "error",
     "traceback": [
      "\u001b[1;31m---------------------------------------------------------------------------\u001b[0m",
      "\u001b[1;31mValueError\u001b[0m                                Traceback (most recent call last)",
      "Input \u001b[1;32mIn [29]\u001b[0m, in \u001b[0;36m<cell line: 1>\u001b[1;34m()\u001b[0m\n\u001b[1;32m----> 1\u001b[0m \u001b[43mshape\u001b[49m\u001b[38;5;241;43m.\u001b[39;49m\u001b[43mreshape\u001b[49m\u001b[43m(\u001b[49m\u001b[43m(\u001b[49m\u001b[38;5;241;43m8\u001b[39;49m\u001b[43m,\u001b[49m\u001b[43m \u001b[49m\u001b[38;5;241;43m10\u001b[39;49m\u001b[43m)\u001b[49m\u001b[43m)\u001b[49m\n",
      "\u001b[1;31mValueError\u001b[0m: cannot reshape array of size 20 into shape (8,10)"
     ]
    }
   ],
   "source": [
    "shape.reshape((8, 10))"
   ]
  },
  {
   "cell_type": "code",
   "execution_count": 28,
   "id": "f68530f5-f3cd-4b91-873d-cd8d2b4a0f21",
   "metadata": {},
   "outputs": [
    {
     "data": {
      "text/plain": [
       "20"
      ]
     },
     "execution_count": 28,
     "metadata": {},
     "output_type": "execute_result"
    }
   ],
   "source": [
    "shape.size"
   ]
  }
 ],
 "metadata": {
  "kernelspec": {
   "display_name": "Python 3 (ipykernel)",
   "language": "python",
   "name": "python3"
  },
  "language_info": {
   "codemirror_mode": {
    "name": "ipython",
    "version": 3
   },
   "file_extension": ".py",
   "mimetype": "text/x-python",
   "name": "python",
   "nbconvert_exporter": "python",
   "pygments_lexer": "ipython3",
   "version": "3.9.12"
  }
 },
 "nbformat": 4,
 "nbformat_minor": 5
}
