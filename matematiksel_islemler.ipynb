{
 "cells": [
  {
   "cell_type": "markdown",
   "id": "95e4474e-f722-4a5a-a6a3-80aa36c025ea",
   "metadata": {},
   "source": [
    "# Matematiksel İşlemler"
   ]
  },
  {
   "cell_type": "code",
   "execution_count": 1,
   "id": "c65265af-dc02-4d3f-a7d1-d1e5aff1a905",
   "metadata": {},
   "outputs": [],
   "source": [
    "import numpy as np"
   ]
  },
  {
   "cell_type": "code",
   "execution_count": 3,
   "id": "f80ad226-fdf7-4dc9-830b-888d5db5e472",
   "metadata": {},
   "outputs": [
    {
     "data": {
      "text/plain": [
       "array([1, 2, 3, 4, 5])"
      ]
     },
     "execution_count": 3,
     "metadata": {},
     "output_type": "execute_result"
    }
   ],
   "source": [
    "v = np.array([1,2,3,4,5])\n",
    "v"
   ]
  },
  {
   "cell_type": "code",
   "execution_count": 4,
   "id": "df6eb793-b17f-4f0d-9654-094359d49759",
   "metadata": {},
   "outputs": [
    {
     "data": {
      "text/plain": [
       "array([0, 1, 2, 3, 4])"
      ]
     },
     "execution_count": 4,
     "metadata": {},
     "output_type": "execute_result"
    }
   ],
   "source": [
    "v - 1"
   ]
  },
  {
   "cell_type": "code",
   "execution_count": 5,
   "id": "b29c0afb-9eb2-464d-8072-f878d4c77fa1",
   "metadata": {},
   "outputs": [
    {
     "data": {
      "text/plain": [
       "array([2, 3, 4, 5, 6])"
      ]
     },
     "execution_count": 5,
     "metadata": {},
     "output_type": "execute_result"
    }
   ],
   "source": [
    "v + 1"
   ]
  },
  {
   "cell_type": "code",
   "execution_count": 6,
   "id": "f5094144-0dbf-4891-8f79-7f2b708f4e00",
   "metadata": {},
   "outputs": [
    {
     "data": {
      "text/plain": [
       "array([ 5, 10, 15, 20, 25])"
      ]
     },
     "execution_count": 6,
     "metadata": {},
     "output_type": "execute_result"
    }
   ],
   "source": [
    "v * 5"
   ]
  },
  {
   "cell_type": "code",
   "execution_count": 7,
   "id": "670bb04a-ea2c-485e-a219-94f2e93a819a",
   "metadata": {},
   "outputs": [
    {
     "data": {
      "text/plain": [
       "array([0.1, 0.2, 0.3, 0.4, 0.5])"
      ]
     },
     "execution_count": 7,
     "metadata": {},
     "output_type": "execute_result"
    }
   ],
   "source": [
    "v / 10"
   ]
  },
  {
   "cell_type": "code",
   "execution_count": 8,
   "id": "e4fdcaeb-ee28-4672-9b3f-b711633ec2c9",
   "metadata": {},
   "outputs": [],
   "source": [
    "# yukarıda bir dizinin elemanlarını kolayca matematiksel bir işleme tabi tutabiliyoruz.\n",
    "# biz numpy 'a bir işlem yaptırmak istediğimizde arka tarafta aslında aşağıdaki fonksiyonlar çalışır."
   ]
  },
  {
   "cell_type": "code",
   "execution_count": 10,
   "id": "01b46e1b-11a8-4907-8688-948123b4486d",
   "metadata": {},
   "outputs": [
    {
     "data": {
      "text/plain": [
       "array([0, 1, 2, 3, 4])"
      ]
     },
     "execution_count": 10,
     "metadata": {},
     "output_type": "execute_result"
    }
   ],
   "source": [
    "np.subtract(v, 1)"
   ]
  },
  {
   "cell_type": "code",
   "execution_count": 11,
   "id": "002c54fc-1a10-4bb8-ae2a-c4f91564afbb",
   "metadata": {},
   "outputs": [
    {
     "data": {
      "text/plain": [
       "array([ 6,  7,  8,  9, 10])"
      ]
     },
     "execution_count": 11,
     "metadata": {},
     "output_type": "execute_result"
    }
   ],
   "source": [
    "np.add(v, 5)"
   ]
  },
  {
   "cell_type": "code",
   "execution_count": 12,
   "id": "a23cda13-48c7-4595-991f-4da0dd7b6e66",
   "metadata": {},
   "outputs": [
    {
     "data": {
      "text/plain": [
       "array([ 3,  6,  9, 12, 15])"
      ]
     },
     "execution_count": 12,
     "metadata": {},
     "output_type": "execute_result"
    }
   ],
   "source": [
    "np.multiply(v, 3)"
   ]
  },
  {
   "cell_type": "code",
   "execution_count": 13,
   "id": "35b1138b-f646-4522-b458-cdb9eb6ad8b8",
   "metadata": {},
   "outputs": [
    {
     "data": {
      "text/plain": [
       "array([0.1, 0.2, 0.3, 0.4, 0.5])"
      ]
     },
     "execution_count": 13,
     "metadata": {},
     "output_type": "execute_result"
    }
   ],
   "source": [
    "np.divide(v, 10)"
   ]
  },
  {
   "cell_type": "code",
   "execution_count": 14,
   "id": "944f9696-d7f2-45fa-9151-9c43bfaaa585",
   "metadata": {},
   "outputs": [
    {
     "data": {
      "text/plain": [
       "array([ 1,  4,  9, 16, 25], dtype=int32)"
      ]
     },
     "execution_count": 14,
     "metadata": {},
     "output_type": "execute_result"
    }
   ],
   "source": [
    "np.power(v, 2)"
   ]
  },
  {
   "cell_type": "code",
   "execution_count": 15,
   "id": "58180e02-3fbc-4224-a146-8b09c0b6d0ac",
   "metadata": {},
   "outputs": [
    {
     "data": {
      "text/plain": [
       "array([1, 2, 0, 1, 2], dtype=int32)"
      ]
     },
     "execution_count": 15,
     "metadata": {},
     "output_type": "execute_result"
    }
   ],
   "source": [
    "np.mod(v, 3)"
   ]
  },
  {
   "cell_type": "code",
   "execution_count": 17,
   "id": "3b8c4f66-dc8a-4cf8-ba7f-c74afca9e0c5",
   "metadata": {},
   "outputs": [
    {
     "data": {
      "text/plain": [
       "3"
      ]
     },
     "execution_count": 17,
     "metadata": {},
     "output_type": "execute_result"
    }
   ],
   "source": [
    "np.absolute(-3)\n",
    "# absolute methodu mutlak değer almak için kullanılır"
   ]
  },
  {
   "cell_type": "code",
   "execution_count": 22,
   "id": "3af21f87-1474-49c9-9a75-25e22a7d6ec1",
   "metadata": {},
   "outputs": [
    {
     "data": {
      "text/plain": [
       "9"
      ]
     },
     "execution_count": 22,
     "metadata": {},
     "output_type": "execute_result"
    }
   ],
   "source": [
    "np.absolute(9)"
   ]
  },
  {
   "cell_type": "code",
   "execution_count": 29,
   "id": "9635351f-69b8-49e8-92c5-1aee64ec4a4a",
   "metadata": {},
   "outputs": [
    {
     "data": {
      "text/plain": [
       "0.9589157234143065"
      ]
     },
     "execution_count": 29,
     "metadata": {},
     "output_type": "execute_result"
    }
   ],
   "source": [
    "np.sin(360)\n",
    "# verilen parametrenin sinus değeri hesaplanır"
   ]
  },
  {
   "cell_type": "code",
   "execution_count": 30,
   "id": "85d22321-b619-4e5a-a689-a20cf3216eef",
   "metadata": {},
   "outputs": [
    {
     "data": {
      "text/plain": [
       "-0.5984600690578581"
      ]
     },
     "execution_count": 30,
     "metadata": {},
     "output_type": "execute_result"
    }
   ],
   "source": [
    "np.cos(180)\n",
    "# verilen parametrenin cosinüs değeri hesaplanır"
   ]
  },
  {
   "cell_type": "code",
   "execution_count": 31,
   "id": "05fa0504-678d-461d-a211-3041ab550eff",
   "metadata": {},
   "outputs": [
    {
     "data": {
      "text/plain": [
       "-0.17883906379845224"
      ]
     },
     "execution_count": 31,
     "metadata": {},
     "output_type": "execute_result"
    }
   ],
   "source": [
    "np.tan(270)\n",
    "# verilen parametrenin tanjant değeri hesaplanır."
   ]
  },
  {
   "cell_type": "code",
   "execution_count": 32,
   "id": "f8cd0f60-7af0-489b-b565-bafccbb450cb",
   "metadata": {},
   "outputs": [
    {
     "data": {
      "text/plain": [
       "array([0.        , 0.69314718, 1.09861229, 1.38629436, 1.60943791])"
      ]
     },
     "execution_count": 32,
     "metadata": {},
     "output_type": "execute_result"
    }
   ],
   "source": [
    "np.log(v)\n",
    "# verilen parametrenin logaritması hesaplanır"
   ]
  },
  {
   "cell_type": "code",
   "execution_count": 33,
   "id": "6bad9b55-c1e9-4f94-b8d8-abcd66df6d60",
   "metadata": {},
   "outputs": [
    {
     "data": {
      "text/plain": [
       "array([0.        , 1.        , 1.5849625 , 2.        , 2.32192809])"
      ]
     },
     "execution_count": 33,
     "metadata": {},
     "output_type": "execute_result"
    }
   ],
   "source": [
    "np.log2(v)\n",
    "# verilen parametrenin 2. dereceden logaritması hesaplanır"
   ]
  },
  {
   "cell_type": "code",
   "execution_count": 34,
   "id": "f7919558-d028-4813-934f-bf80753d494e",
   "metadata": {},
   "outputs": [
    {
     "data": {
      "text/plain": [
       "array([0.        , 0.30103   , 0.47712125, 0.60205999, 0.69897   ])"
      ]
     },
     "execution_count": 34,
     "metadata": {},
     "output_type": "execute_result"
    }
   ],
   "source": [
    "np.log10(v)\n",
    "# verilen parametrenin 10. dereceden logaritması hesaplanır."
   ]
  },
  {
   "cell_type": "code",
   "execution_count": 35,
   "id": "32ca60a7-2a7d-4456-96d0-259a6c5d56f3",
   "metadata": {},
   "outputs": [],
   "source": [
    "#cheatsheet. derli toplu dökümantasyon"
   ]
  }
 ],
 "metadata": {
  "kernelspec": {
   "display_name": "Python 3 (ipykernel)",
   "language": "python",
   "name": "python3"
  },
  "language_info": {
   "codemirror_mode": {
    "name": "ipython",
    "version": 3
   },
   "file_extension": ".py",
   "mimetype": "text/x-python",
   "name": "python",
   "nbconvert_exporter": "python",
   "pygments_lexer": "ipython3",
   "version": "3.9.12"
  }
 },
 "nbformat": 4,
 "nbformat_minor": 5
}
