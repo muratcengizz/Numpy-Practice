{
 "cells": [
  {
   "cell_type": "markdown",
   "id": "afc60216-ca85-4191-b219-00b99d860da7",
   "metadata": {},
   "source": [
    "# Alt Küme Üzerinde İşlem Yapmak"
   ]
  },
  {
   "cell_type": "code",
   "execution_count": 1,
   "id": "59b52c49-7a23-487d-8d6e-80c74b674e5c",
   "metadata": {},
   "outputs": [],
   "source": [
    "import numpy as np"
   ]
  },
  {
   "cell_type": "code",
   "execution_count": 2,
   "id": "f23436a9-cdae-4b46-a1cf-1d65342f93d5",
   "metadata": {},
   "outputs": [
    {
     "data": {
      "text/plain": [
       "array([[7, 8, 6, 2, 5],\n",
       "       [9, 0, 9, 8, 6],\n",
       "       [0, 2, 4, 5, 1],\n",
       "       [5, 7, 3, 1, 2],\n",
       "       [5, 3, 1, 9, 1]])"
      ]
     },
     "execution_count": 2,
     "metadata": {},
     "output_type": "execute_result"
    }
   ],
   "source": [
    "a = np.random.randint(10, size=(5,5))\n",
    "a"
   ]
  },
  {
   "cell_type": "code",
   "execution_count": 3,
   "id": "96db99d0-06d2-4864-a8e7-0b4e893fe3ca",
   "metadata": {},
   "outputs": [
    {
     "data": {
      "text/plain": [
       "array([[9, 0, 9, 8, 6],\n",
       "       [0, 2, 4, 5, 1],\n",
       "       [5, 7, 3, 1, 2]])"
      ]
     },
     "execution_count": 3,
     "metadata": {},
     "output_type": "execute_result"
    }
   ],
   "source": [
    "alt_kume1 = a[1:4, :]\n",
    "alt_kume1"
   ]
  },
  {
   "cell_type": "code",
   "execution_count": 4,
   "id": "b29608fc-1a5f-4124-afc9-0041f92c1490",
   "metadata": {},
   "outputs": [],
   "source": [
    "alt_kume1[0,3] = 555\n",
    "alt_kume1[1,1] = 666\n",
    "alt_kume1[2,2]  = 777\n",
    "alt_kume1[1,4] = 888"
   ]
  },
  {
   "cell_type": "code",
   "execution_count": 5,
   "id": "a7b0da80-9673-4092-9bc6-604eeb369c3b",
   "metadata": {},
   "outputs": [
    {
     "data": {
      "text/plain": [
       "array([[  9,   0,   9, 555,   6],\n",
       "       [  0, 666,   4,   5, 888],\n",
       "       [  5,   7, 777,   1,   2]])"
      ]
     },
     "execution_count": 5,
     "metadata": {},
     "output_type": "execute_result"
    }
   ],
   "source": [
    "alt_kume1"
   ]
  },
  {
   "cell_type": "code",
   "execution_count": 6,
   "id": "383f495b-bc4e-46b9-958a-4d66e3ee3e2c",
   "metadata": {},
   "outputs": [
    {
     "data": {
      "text/plain": [
       "array([[  7,   8,   6,   2,   5],\n",
       "       [  9,   0,   9, 555,   6],\n",
       "       [  0, 666,   4,   5, 888],\n",
       "       [  5,   7, 777,   1,   2],\n",
       "       [  5,   3,   1,   9,   1]])"
      ]
     },
     "execution_count": 6,
     "metadata": {},
     "output_type": "execute_result"
    }
   ],
   "source": [
    "a"
   ]
  },
  {
   "cell_type": "code",
   "execution_count": 7,
   "id": "c9841317-5b18-4c8b-8b32-a3f8d7aeae14",
   "metadata": {},
   "outputs": [
    {
     "data": {
      "text/plain": [
       "array([[17, 16,  3,  2,  7],\n",
       "       [19,  1,  0, 10,  1],\n",
       "       [17,  4,  7, 17, 12],\n",
       "       [13,  7,  1, 17,  6],\n",
       "       [12, 18, 14, 16,  0]])"
      ]
     },
     "execution_count": 7,
     "metadata": {},
     "output_type": "execute_result"
    }
   ],
   "source": [
    "m = np.random.randint(20, size=(5,5))\n",
    "m"
   ]
  },
  {
   "cell_type": "code",
   "execution_count": 8,
   "id": "eac669f3-1563-47d2-a1a0-fba4bf648698",
   "metadata": {},
   "outputs": [
    {
     "data": {
      "text/plain": [
       "array([[ 1,  0, 10],\n",
       "       [ 4,  7, 17],\n",
       "       [ 7,  1, 17]])"
      ]
     },
     "execution_count": 8,
     "metadata": {},
     "output_type": "execute_result"
    }
   ],
   "source": [
    "m_alt = m[1:4, 1:4].copy()\n",
    "m_alt"
   ]
  },
  {
   "cell_type": "code",
   "execution_count": 9,
   "id": "66759aff-680f-4027-8500-f0a19d38953a",
   "metadata": {},
   "outputs": [
    {
     "data": {
      "text/plain": [
       "array([[  1,   0,  10],\n",
       "       [  4, 878,  17],\n",
       "       [  7, 232,  17]])"
      ]
     },
     "execution_count": 9,
     "metadata": {},
     "output_type": "execute_result"
    }
   ],
   "source": [
    "m_alt[1,1] = 878\n",
    "m_alt[2,1] = 232\n",
    "m_alt"
   ]
  },
  {
   "cell_type": "code",
   "execution_count": 10,
   "id": "bbdf48e1-6ab4-4fa8-bca9-5adf559fb3f2",
   "metadata": {},
   "outputs": [
    {
     "data": {
      "text/plain": [
       "array([[17, 16,  3,  2,  7],\n",
       "       [19,  1,  0, 10,  1],\n",
       "       [17,  4,  7, 17, 12],\n",
       "       [13,  7,  1, 17,  6],\n",
       "       [12, 18, 14, 16,  0]])"
      ]
     },
     "execution_count": 10,
     "metadata": {},
     "output_type": "execute_result"
    }
   ],
   "source": [
    "m"
   ]
  },
  {
   "cell_type": "code",
   "execution_count": 11,
   "id": "e43f31c2-5950-45d9-af15-350f746a05a8",
   "metadata": {},
   "outputs": [
    {
     "data": {
      "text/plain": [
       "array([[17, 15, 25, 28],\n",
       "       [24,  6,  8, 10],\n",
       "       [25, 11, 11, 26],\n",
       "       [10,  9, 23, 21]])"
      ]
     },
     "execution_count": 11,
     "metadata": {},
     "output_type": "execute_result"
    }
   ],
   "source": [
    "main = np.random.randint(30, size=(4,4))\n",
    "main"
   ]
  },
  {
   "cell_type": "code",
   "execution_count": 12,
   "id": "45db367f-1f9c-44cc-8d1c-a43640318cb1",
   "metadata": {},
   "outputs": [
    {
     "data": {
      "text/plain": [
       "array([[ 6,  8],\n",
       "       [11, 11]])"
      ]
     },
     "execution_count": 12,
     "metadata": {},
     "output_type": "execute_result"
    }
   ],
   "source": [
    "piece = main[1:3, 1:3].copy()\n",
    "piece"
   ]
  },
  {
   "cell_type": "code",
   "execution_count": 13,
   "id": "33de5da6-3d5b-4a0b-be7b-7d8c514bae1d",
   "metadata": {},
   "outputs": [
    {
     "data": {
      "text/plain": [
       "array([[0, 0],\n",
       "       [0, 0]])"
      ]
     },
     "execution_count": 13,
     "metadata": {},
     "output_type": "execute_result"
    }
   ],
   "source": [
    "piece * 0"
   ]
  },
  {
   "cell_type": "code",
   "execution_count": 14,
   "id": "d4596a77-e517-463d-ac03-d97f47abaf4c",
   "metadata": {},
   "outputs": [
    {
     "data": {
      "text/plain": [
       "array([[30, 40],\n",
       "       [55, 55]])"
      ]
     },
     "execution_count": 14,
     "metadata": {},
     "output_type": "execute_result"
    }
   ],
   "source": [
    "piece * 5"
   ]
  },
  {
   "cell_type": "code",
   "execution_count": 15,
   "id": "98ae14c7-178d-4d4e-8498-a468c182d5e1",
   "metadata": {},
   "outputs": [
    {
     "data": {
      "text/plain": [
       "array([[12, 16],\n",
       "       [22, 22]])"
      ]
     },
     "execution_count": 15,
     "metadata": {},
     "output_type": "execute_result"
    }
   ],
   "source": [
    "piece * 2"
   ]
  },
  {
   "cell_type": "code",
   "execution_count": 16,
   "id": "96ca9128-1756-4d49-be77-526297041cce",
   "metadata": {},
   "outputs": [
    {
     "data": {
      "text/plain": [
       "dtype('float64')"
      ]
     },
     "execution_count": 16,
     "metadata": {},
     "output_type": "execute_result"
    }
   ],
   "source": [
    "(piece / 2).dtype"
   ]
  },
  {
   "cell_type": "code",
   "execution_count": 17,
   "id": "7d324264-130a-4bb9-8885-26b2ec09f45c",
   "metadata": {},
   "outputs": [
    {
     "data": {
      "text/plain": [
       "array([[ 8,  1, 11,  2],\n",
       "       [13, 16,  3, 14],\n",
       "       [17, 16,  9,  5],\n",
       "       [17, 13,  6,  9]])"
      ]
     },
     "execution_count": 17,
     "metadata": {},
     "output_type": "execute_result"
    }
   ],
   "source": [
    "my_list1 = np.random.randint(20, size=(4,4))\n",
    "my_list1"
   ]
  },
  {
   "cell_type": "code",
   "execution_count": 18,
   "id": "fd7dce5b-eb18-4ba4-adb1-0973ec78266f",
   "metadata": {},
   "outputs": [
    {
     "data": {
      "text/plain": [
       "array([[16,  3],\n",
       "       [16,  9]])"
      ]
     },
     "execution_count": 18,
     "metadata": {},
     "output_type": "execute_result"
    }
   ],
   "source": [
    "parca = my_list1[1:3, 1:3]\n",
    "parca"
   ]
  },
  {
   "cell_type": "code",
   "execution_count": 19,
   "id": "5f066ec3-c4e1-4f22-93d7-4f84a4dd3ddc",
   "metadata": {},
   "outputs": [
    {
     "data": {
      "text/plain": [
       "array([[555,   3],\n",
       "       [ 16,   9]])"
      ]
     },
     "execution_count": 19,
     "metadata": {},
     "output_type": "execute_result"
    }
   ],
   "source": [
    "parca[0,0] = 555\n",
    "parca"
   ]
  },
  {
   "cell_type": "code",
   "execution_count": 20,
   "id": "e55ebc0e-9e71-4fd6-948a-318a4e5de584",
   "metadata": {},
   "outputs": [
    {
     "data": {
      "text/plain": [
       "array([[555, 666],\n",
       "       [ 16,   9]])"
      ]
     },
     "execution_count": 20,
     "metadata": {},
     "output_type": "execute_result"
    }
   ],
   "source": [
    "parca[0,1] = 666\n",
    "parca"
   ]
  },
  {
   "cell_type": "code",
   "execution_count": 21,
   "id": "056e2c5f-a0f8-4623-b63e-0c9dcd722d41",
   "metadata": {},
   "outputs": [
    {
     "data": {
      "text/plain": [
       "array([[555, 666],\n",
       "       [777,   9]])"
      ]
     },
     "execution_count": 21,
     "metadata": {},
     "output_type": "execute_result"
    }
   ],
   "source": [
    "parca[1,0] = 777\n",
    "parca"
   ]
  },
  {
   "cell_type": "code",
   "execution_count": 22,
   "id": "6bd612e8-abc2-43eb-ae65-4249cfd5b1b6",
   "metadata": {},
   "outputs": [
    {
     "data": {
      "text/plain": [
       "array([[555, 666],\n",
       "       [777, 888]])"
      ]
     },
     "execution_count": 22,
     "metadata": {},
     "output_type": "execute_result"
    }
   ],
   "source": [
    "parca[1,1] = 888\n",
    "parca"
   ]
  },
  {
   "cell_type": "code",
   "execution_count": 23,
   "id": "2151ed26-c8ea-45e5-a04d-e0e1367cf822",
   "metadata": {},
   "outputs": [
    {
     "data": {
      "text/plain": [
       "array([[47, 30, 57, 58, 21],\n",
       "       [44,  5,  9, 27, 53],\n",
       "       [27, 49, 27, 47, 26],\n",
       "       [14, 55, 29,  3, 47],\n",
       "       [ 3, 26, 59, 15,  0]])"
      ]
     },
     "execution_count": 23,
     "metadata": {},
     "output_type": "execute_result"
    }
   ],
   "source": [
    "array = np.random.randint(60, size=(5,5))\n",
    "array"
   ]
  },
  {
   "cell_type": "code",
   "execution_count": 24,
   "id": "d2ff6c10-fcf0-49c2-a696-3b5b148c2064",
   "metadata": {},
   "outputs": [
    {
     "data": {
      "text/plain": [
       "array([[ 5,  9, 27],\n",
       "       [49, 27, 47],\n",
       "       [55, 29,  3]])"
      ]
     },
     "execution_count": 24,
     "metadata": {},
     "output_type": "execute_result"
    }
   ],
   "source": [
    "alt_kume = array[1:4, 1:4]\n",
    "alt_kume"
   ]
  },
  {
   "cell_type": "code",
   "execution_count": 27,
   "id": "197b6ae9-cb7f-4a57-b3e5-0d9ab16747d8",
   "metadata": {},
   "outputs": [
    {
     "data": {
      "text/plain": [
       "array([[  5,   9,  27],\n",
       "       [ 49, 555,  47],\n",
       "       [ 55,  29,   3]])"
      ]
     },
     "execution_count": 27,
     "metadata": {},
     "output_type": "execute_result"
    }
   ],
   "source": [
    "alt_kume[1,1] = 555\n",
    "alt_kume"
   ]
  },
  {
   "cell_type": "code",
   "execution_count": 28,
   "id": "31a7e056-74c2-40a3-abbe-71cdc2fba971",
   "metadata": {},
   "outputs": [
    {
     "data": {
      "text/plain": [
       "array([[  5,   9,  27],\n",
       "       [ 49, 555,  47],\n",
       "       [ 55,  29, 999]])"
      ]
     },
     "execution_count": 28,
     "metadata": {},
     "output_type": "execute_result"
    }
   ],
   "source": [
    "alt_kume[2,2] = 999\n",
    "alt_kume"
   ]
  },
  {
   "cell_type": "code",
   "execution_count": 29,
   "id": "1cf8c034-c5d4-43d1-bc54-62b6b50b85c1",
   "metadata": {},
   "outputs": [
    {
     "data": {
      "text/plain": [
       "array([[ 47,  30,  57,  58,  21],\n",
       "       [ 44,   5,   9,  27,  53],\n",
       "       [ 27,  49, 555,  47,  26],\n",
       "       [ 14,  55,  29, 999,  47],\n",
       "       [  3,  26,  59,  15,   0]])"
      ]
     },
     "execution_count": 29,
     "metadata": {},
     "output_type": "execute_result"
    }
   ],
   "source": [
    "array"
   ]
  },
  {
   "cell_type": "code",
   "execution_count": 30,
   "id": "c36694a9-6e72-42e9-bf42-d8eaef4e6c78",
   "metadata": {},
   "outputs": [
    {
     "data": {
      "text/plain": [
       "array([[28, 15,  9, 19, 18],\n",
       "       [ 2, 18, 15,  5, 29],\n",
       "       [ 3,  0, 28, 25, 11],\n",
       "       [24, 27, 10,  1, 12]])"
      ]
     },
     "execution_count": 30,
     "metadata": {},
     "output_type": "execute_result"
    }
   ],
   "source": [
    "array = np.random.randint(30, size=(4,5))\n",
    "array"
   ]
  },
  {
   "cell_type": "code",
   "execution_count": 31,
   "id": "9b019dd8-a5db-4903-915b-ae173c8169a4",
   "metadata": {},
   "outputs": [
    {
     "data": {
      "text/plain": [
       "array([[18, 15,  5],\n",
       "       [ 0, 28, 25]])"
      ]
     },
     "execution_count": 31,
     "metadata": {},
     "output_type": "execute_result"
    }
   ],
   "source": [
    "alt = array[1:3, 1:4].copy()\n",
    "alt"
   ]
  },
  {
   "cell_type": "code",
   "execution_count": null,
   "id": "710b783f-ac21-4195-9a6b-9b3e30d30bf1",
   "metadata": {},
   "outputs": [],
   "source": []
  },
  {
   "cell_type": "code",
   "execution_count": 45,
   "id": "304a4639-bd82-4ffa-b616-ac3898e9eeac",
   "metadata": {},
   "outputs": [
    {
     "data": {
      "text/plain": [
       "array([[ 18,  15,   5],\n",
       "       [  0, 255,  25]])"
      ]
     },
     "execution_count": 45,
     "metadata": {},
     "output_type": "execute_result"
    }
   ],
   "source": [
    "alt"
   ]
  }
 ],
 "metadata": {
  "kernelspec": {
   "display_name": "Python 3 (ipykernel)",
   "language": "python",
   "name": "python3"
  },
  "language_info": {
   "codemirror_mode": {
    "name": "ipython",
    "version": 3
   },
   "file_extension": ".py",
   "mimetype": "text/x-python",
   "name": "python",
   "nbconvert_exporter": "python",
   "pygments_lexer": "ipython3",
   "version": "3.9.12"
  }
 },
 "nbformat": 4,
 "nbformat_minor": 5
}
