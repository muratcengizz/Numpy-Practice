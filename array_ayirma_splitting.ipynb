{
 "cells": [
  {
   "cell_type": "markdown",
   "id": "7ab9a616-3cfc-4b07-bf28-cc7aac3f918a",
   "metadata": {},
   "source": [
    "# Array Ayırma (Splitting)"
   ]
  },
  {
   "cell_type": "code",
   "execution_count": 1,
   "id": "0c1b1fb9-fa7b-4e98-9ce5-58e273f0b704",
   "metadata": {},
   "outputs": [],
   "source": [
    "import numpy as np"
   ]
  },
  {
   "cell_type": "code",
   "execution_count": 2,
   "id": "043cc741-690a-42e9-a761-4ff1febc66d5",
   "metadata": {},
   "outputs": [],
   "source": [
    "x = np.array([1,2,3,88,88,3,2,1])"
   ]
  },
  {
   "cell_type": "code",
   "execution_count": 3,
   "id": "24cfecf9-fc24-4392-b1ef-f52e1faa1a4a",
   "metadata": {},
   "outputs": [
    {
     "data": {
      "text/plain": [
       "[array([1, 2, 3]), array([88, 88]), array([3, 2, 1])]"
      ]
     },
     "execution_count": 3,
     "metadata": {},
     "output_type": "execute_result"
    }
   ],
   "source": [
    "np.split(x, [3,5])\n",
    "# birinci parametre: ayrılacak dizi\n",
    "# ikinci parametre: bir liste içerisinde diziyi hangi indexlerden bölmesi gerektiği"
   ]
  },
  {
   "cell_type": "code",
   "execution_count": 4,
   "id": "0e82f100-3263-45b3-ba82-dbd5b6ae2ee4",
   "metadata": {},
   "outputs": [],
   "source": [
    "# diziyi böldüğümüzde yeni oluşan dizileri bir değişkene atayabiliriz"
   ]
  },
  {
   "cell_type": "code",
   "execution_count": 5,
   "id": "56b5feb7-7cc9-42ca-8d60-3edc887c70bc",
   "metadata": {},
   "outputs": [],
   "source": [
    "a,b,c = np.split(x, [3,5])"
   ]
  },
  {
   "cell_type": "code",
   "execution_count": 6,
   "id": "81c667a3-60df-42f0-a473-81a26f57c3e3",
   "metadata": {},
   "outputs": [
    {
     "data": {
      "text/plain": [
       "array([1, 2, 3])"
      ]
     },
     "execution_count": 6,
     "metadata": {},
     "output_type": "execute_result"
    }
   ],
   "source": [
    "a"
   ]
  },
  {
   "cell_type": "code",
   "execution_count": 7,
   "id": "71b8d9d2-89f3-4eac-ab2f-e1016faa7ba3",
   "metadata": {},
   "outputs": [
    {
     "data": {
      "text/plain": [
       "array([88, 88])"
      ]
     },
     "execution_count": 7,
     "metadata": {},
     "output_type": "execute_result"
    }
   ],
   "source": [
    "b"
   ]
  },
  {
   "cell_type": "code",
   "execution_count": 8,
   "id": "912dc41f-c699-42b3-9614-ef9ab2abf23d",
   "metadata": {},
   "outputs": [
    {
     "data": {
      "text/plain": [
       "array([3, 2, 1])"
      ]
     },
     "execution_count": 8,
     "metadata": {},
     "output_type": "execute_result"
    }
   ],
   "source": [
    "c"
   ]
  },
  {
   "cell_type": "code",
   "execution_count": 9,
   "id": "bc6b3c4b-39af-40d8-bccc-5106fc64477f",
   "metadata": {},
   "outputs": [],
   "source": [
    "m = np.array([4,4,4,5,5,5,6,6,6,6,7,7,7,7,7])"
   ]
  },
  {
   "cell_type": "code",
   "execution_count": 10,
   "id": "848a291f-88ed-4777-8562-82824f9e1ec3",
   "metadata": {},
   "outputs": [
    {
     "data": {
      "text/plain": [
       "[array([4, 4, 4]),\n",
       " array([5, 5, 5]),\n",
       " array([6, 6, 6, 6]),\n",
       " array([7, 7, 7, 7, 7])]"
      ]
     },
     "execution_count": 10,
     "metadata": {},
     "output_type": "execute_result"
    }
   ],
   "source": [
    "np.split(m, [3,6,10])"
   ]
  },
  {
   "cell_type": "code",
   "execution_count": 11,
   "id": "814dacda-96e5-4b1f-a0a8-511da91d2f5f",
   "metadata": {},
   "outputs": [],
   "source": [
    "d,f,g,h = np.split(m, [3,6,10])"
   ]
  },
  {
   "cell_type": "code",
   "execution_count": 12,
   "id": "5abfa60b-bb01-4514-81e0-744bce841dc5",
   "metadata": {},
   "outputs": [
    {
     "data": {
      "text/plain": [
       "array([4, 4, 4])"
      ]
     },
     "execution_count": 12,
     "metadata": {},
     "output_type": "execute_result"
    }
   ],
   "source": [
    "d"
   ]
  },
  {
   "cell_type": "code",
   "execution_count": 13,
   "id": "b525a0a1-7e37-4576-918c-278788f818f3",
   "metadata": {},
   "outputs": [
    {
     "data": {
      "text/plain": [
       "array([5, 5, 5])"
      ]
     },
     "execution_count": 13,
     "metadata": {},
     "output_type": "execute_result"
    }
   ],
   "source": [
    "f"
   ]
  },
  {
   "cell_type": "code",
   "execution_count": 14,
   "id": "70ff25bc-20ac-4b80-bf8d-31fea1ceea59",
   "metadata": {},
   "outputs": [
    {
     "data": {
      "text/plain": [
       "array([6, 6, 6, 6])"
      ]
     },
     "execution_count": 14,
     "metadata": {},
     "output_type": "execute_result"
    }
   ],
   "source": [
    "g"
   ]
  },
  {
   "cell_type": "code",
   "execution_count": 15,
   "id": "134817e0-2976-422d-8db2-f57aeca223c2",
   "metadata": {},
   "outputs": [
    {
     "data": {
      "text/plain": [
       "array([7, 7, 7, 7, 7])"
      ]
     },
     "execution_count": 15,
     "metadata": {},
     "output_type": "execute_result"
    }
   ],
   "source": [
    "h"
   ]
  },
  {
   "cell_type": "code",
   "execution_count": 16,
   "id": "d38088b0-aa6c-4e41-b23e-19851f4d757e",
   "metadata": {},
   "outputs": [],
   "source": [
    "# iki boyutlu diziyi ayırma"
   ]
  },
  {
   "cell_type": "code",
   "execution_count": 17,
   "id": "7edc02a8-0c1f-4d10-8229-51001f3ab4bb",
   "metadata": {},
   "outputs": [
    {
     "data": {
      "text/plain": [
       "array([[ 0,  1,  2,  3],\n",
       "       [ 4,  5,  6,  7],\n",
       "       [ 8,  9, 10, 11],\n",
       "       [12, 13, 14, 15]])"
      ]
     },
     "execution_count": 17,
     "metadata": {},
     "output_type": "execute_result"
    }
   ],
   "source": [
    "m = np.arange(16).reshape(4,4)\n",
    "m"
   ]
  },
  {
   "cell_type": "code",
   "execution_count": 18,
   "id": "64728b94-8444-4fe0-87c8-f3afd8712658",
   "metadata": {},
   "outputs": [
    {
     "data": {
      "text/plain": [
       "[array([[0, 1, 2, 3],\n",
       "        [4, 5, 6, 7]]),\n",
       " array([[ 8,  9, 10, 11],\n",
       "        [12, 13, 14, 15]])]"
      ]
     },
     "execution_count": 18,
     "metadata": {},
     "output_type": "execute_result"
    }
   ],
   "source": [
    "np.vsplit(m, [2])\n",
    "# burada verdiğimiz 2 değeri [ 8,  9, 10, 11] bu listeyi temsil ediyor.\n",
    "# vsplit fonksiyonu ile yatay düzlemde bölme yaptık"
   ]
  },
  {
   "cell_type": "code",
   "execution_count": 19,
   "id": "4ecfcdcf-46bf-4112-be2c-b8808c6f7474",
   "metadata": {},
   "outputs": [],
   "source": [
    "ust, alt = np.vsplit(m, [2])"
   ]
  },
  {
   "cell_type": "code",
   "execution_count": 20,
   "id": "eb92d6c9-4e72-476a-bc09-522203d54db7",
   "metadata": {},
   "outputs": [
    {
     "data": {
      "text/plain": [
       "array([[0, 1, 2, 3],\n",
       "       [4, 5, 6, 7]])"
      ]
     },
     "execution_count": 20,
     "metadata": {},
     "output_type": "execute_result"
    }
   ],
   "source": [
    "ust"
   ]
  },
  {
   "cell_type": "code",
   "execution_count": 21,
   "id": "bcbee050-08ec-4815-af85-3eaec520b37d",
   "metadata": {},
   "outputs": [
    {
     "data": {
      "text/plain": [
       "array([[ 8,  9, 10, 11],\n",
       "       [12, 13, 14, 15]])"
      ]
     },
     "execution_count": 21,
     "metadata": {},
     "output_type": "execute_result"
    }
   ],
   "source": [
    "alt"
   ]
  },
  {
   "cell_type": "code",
   "execution_count": 22,
   "id": "cf9f82a3-cd73-4e0e-a91a-c1789936be12",
   "metadata": {},
   "outputs": [
    {
     "data": {
      "text/plain": [
       "[array([[ 0,  1],\n",
       "        [ 4,  5],\n",
       "        [ 8,  9],\n",
       "        [12, 13]]),\n",
       " array([[ 2,  3],\n",
       "        [ 6,  7],\n",
       "        [10, 11],\n",
       "        [14, 15]])]"
      ]
     },
     "execution_count": 22,
     "metadata": {},
     "output_type": "execute_result"
    }
   ],
   "source": [
    "np.hsplit(m, [2])\n",
    "# burada verdiğimiz 2 değeri dizinin 2. indexlerine denk geliyor\n",
    "# hsplit fonksiyonu ile dikey düzlemde bölme yaptık"
   ]
  },
  {
   "cell_type": "code",
   "execution_count": 23,
   "id": "c8e20823-9d11-4b64-8d15-7893ae2a6b8b",
   "metadata": {},
   "outputs": [],
   "source": [
    "sag, sol = np.hsplit(m, [2])"
   ]
  },
  {
   "cell_type": "code",
   "execution_count": 24,
   "id": "220262a6-4929-4f1f-83d9-b7e4b03e10a6",
   "metadata": {},
   "outputs": [
    {
     "data": {
      "text/plain": [
       "array([[ 0,  1],\n",
       "       [ 4,  5],\n",
       "       [ 8,  9],\n",
       "       [12, 13]])"
      ]
     },
     "execution_count": 24,
     "metadata": {},
     "output_type": "execute_result"
    }
   ],
   "source": [
    "sag"
   ]
  },
  {
   "cell_type": "code",
   "execution_count": 25,
   "id": "eac57730-27b6-4e75-a3e5-d1cd8359df66",
   "metadata": {},
   "outputs": [
    {
     "data": {
      "text/plain": [
       "array([[ 2,  3],\n",
       "       [ 6,  7],\n",
       "       [10, 11],\n",
       "       [14, 15]])"
      ]
     },
     "execution_count": 25,
     "metadata": {},
     "output_type": "execute_result"
    }
   ],
   "source": [
    "sol"
   ]
  },
  {
   "cell_type": "code",
   "execution_count": 26,
   "id": "262504a1-4df8-4b2f-8768-b72e3469dc15",
   "metadata": {},
   "outputs": [
    {
     "data": {
      "text/plain": [
       "array([0, 1, 2, 3, 4, 5, 6, 7, 8, 9])"
      ]
     },
     "execution_count": 26,
     "metadata": {},
     "output_type": "execute_result"
    }
   ],
   "source": [
    "my_array1 = np.arange(10)\n",
    "my_array1"
   ]
  },
  {
   "cell_type": "code",
   "execution_count": 27,
   "id": "7bad0679-7028-4e22-8153-d8aaf17d7f00",
   "metadata": {},
   "outputs": [
    {
     "data": {
      "text/plain": [
       "[array([0, 1, 2]), array([3, 4, 5, 6, 7, 8, 9])]"
      ]
     },
     "execution_count": 27,
     "metadata": {},
     "output_type": "execute_result"
    }
   ],
   "source": [
    "np.split(my_array1, [3])"
   ]
  },
  {
   "cell_type": "code",
   "execution_count": 28,
   "id": "da567b7c-4f9f-4bda-8103-2ab78e041018",
   "metadata": {},
   "outputs": [
    {
     "data": {
      "text/plain": [
       "[array([0, 1, 2, 3, 4, 5, 6, 7]), array([8, 9])]"
      ]
     },
     "execution_count": 28,
     "metadata": {},
     "output_type": "execute_result"
    }
   ],
   "source": [
    "np.split(my_array1, [8])"
   ]
  },
  {
   "cell_type": "code",
   "execution_count": 29,
   "id": "d7535301-0b1e-4541-a951-caee3f35a571",
   "metadata": {},
   "outputs": [],
   "source": [
    "my_array2 = np.random.randint(17, size=(4,4))\n",
    "my_array3 = np.random.randint(17, size=(4,4))\n",
    "birlestir = np.concatenate([my_array2, my_array3])\n",
    "ayirma = np.split(birlestir, [3])\n",
    "ayirma2 = np.split(birlestir, [3], axis=1)"
   ]
  },
  {
   "cell_type": "code",
   "execution_count": 30,
   "id": "22955bbb-bc81-4814-af0e-c8e69495aaa6",
   "metadata": {},
   "outputs": [
    {
     "data": {
      "text/plain": [
       "array([[ 2, 10, 14, 10],\n",
       "       [ 9,  3, 10,  6],\n",
       "       [12,  6,  7, 12],\n",
       "       [13, 16, 11,  7],\n",
       "       [ 5, 13,  9, 11],\n",
       "       [ 0,  2,  2,  7],\n",
       "       [ 2,  8, 14,  3],\n",
       "       [ 1,  4, 10,  1]])"
      ]
     },
     "execution_count": 30,
     "metadata": {},
     "output_type": "execute_result"
    }
   ],
   "source": [
    "birlestir"
   ]
  },
  {
   "cell_type": "code",
   "execution_count": 31,
   "id": "212e9033-270d-4437-851c-59444edbb796",
   "metadata": {},
   "outputs": [
    {
     "data": {
      "text/plain": [
       "[array([[ 2, 10, 14, 10],\n",
       "        [ 9,  3, 10,  6],\n",
       "        [12,  6,  7, 12]]),\n",
       " array([[13, 16, 11,  7],\n",
       "        [ 5, 13,  9, 11],\n",
       "        [ 0,  2,  2,  7],\n",
       "        [ 2,  8, 14,  3],\n",
       "        [ 1,  4, 10,  1]])]"
      ]
     },
     "execution_count": 31,
     "metadata": {},
     "output_type": "execute_result"
    }
   ],
   "source": [
    "ayirma"
   ]
  },
  {
   "cell_type": "code",
   "execution_count": 32,
   "id": "c742c02b-41bb-481d-a0e1-74800523a654",
   "metadata": {},
   "outputs": [
    {
     "data": {
      "text/plain": [
       "[array([[ 2, 10, 14],\n",
       "        [ 9,  3, 10],\n",
       "        [12,  6,  7],\n",
       "        [13, 16, 11],\n",
       "        [ 5, 13,  9],\n",
       "        [ 0,  2,  2],\n",
       "        [ 2,  8, 14],\n",
       "        [ 1,  4, 10]]),\n",
       " array([[10],\n",
       "        [ 6],\n",
       "        [12],\n",
       "        [ 7],\n",
       "        [11],\n",
       "        [ 7],\n",
       "        [ 3],\n",
       "        [ 1]])]"
      ]
     },
     "execution_count": 32,
     "metadata": {},
     "output_type": "execute_result"
    }
   ],
   "source": [
    "ayirma2"
   ]
  },
  {
   "cell_type": "code",
   "execution_count": 33,
   "id": "ef536332-db79-4fa6-9a7e-540216a87c63",
   "metadata": {},
   "outputs": [
    {
     "data": {
      "text/plain": [
       "array([ 0,  3,  6,  9, 12, 15, 18, 21, 24, 27])"
      ]
     },
     "execution_count": 33,
     "metadata": {},
     "output_type": "execute_result"
    }
   ],
   "source": [
    "my_array = np.arange(0, 30, 3)\n",
    "my_array"
   ]
  },
  {
   "cell_type": "code",
   "execution_count": 34,
   "id": "3fe3ba43-134e-48e3-922f-4152e63abaae",
   "metadata": {},
   "outputs": [
    {
     "data": {
      "text/plain": [
       "[array([0, 3]), array([ 6,  9, 12, 15, 18, 21, 24, 27])]"
      ]
     },
     "execution_count": 34,
     "metadata": {},
     "output_type": "execute_result"
    }
   ],
   "source": [
    "np.split(my_array, [2])"
   ]
  },
  {
   "cell_type": "code",
   "execution_count": 35,
   "id": "f41b46f0-18b9-42c0-b92a-3476205f4789",
   "metadata": {},
   "outputs": [
    {
     "data": {
      "text/plain": [
       "[array([0, 3]), array([6, 9]), array([12, 15, 18, 21, 24, 27])]"
      ]
     },
     "execution_count": 35,
     "metadata": {},
     "output_type": "execute_result"
    }
   ],
   "source": [
    "np.split(my_array, [2,4])"
   ]
  },
  {
   "cell_type": "code",
   "execution_count": 36,
   "id": "50a9bda3-ea6b-4834-8680-83879992a8b8",
   "metadata": {},
   "outputs": [],
   "source": [
    "x = [1, 2, 3, 55, 66, 77, 88, 99]"
   ]
  },
  {
   "cell_type": "code",
   "execution_count": 37,
   "id": "63ac1fd1-7a6e-4407-b830-950715c1d900",
   "metadata": {},
   "outputs": [
    {
     "data": {
      "text/plain": [
       "[array([1, 2, 3]), array([55, 66]), array([77, 88, 99])]"
      ]
     },
     "execution_count": 37,
     "metadata": {},
     "output_type": "execute_result"
    }
   ],
   "source": [
    "np.split(x, [3,5])"
   ]
  },
  {
   "cell_type": "code",
   "execution_count": 38,
   "id": "379eaa5b-27ba-4c76-8a83-068899a46433",
   "metadata": {},
   "outputs": [
    {
     "data": {
      "text/plain": [
       "[array([1]), array([2]), array([ 3, 55, 66, 77, 88, 99])]"
      ]
     },
     "execution_count": 38,
     "metadata": {},
     "output_type": "execute_result"
    }
   ],
   "source": [
    "np.split(x, [1, 2])"
   ]
  },
  {
   "cell_type": "code",
   "execution_count": 39,
   "id": "75b1fab7-a1b9-41e8-85bd-90e8b5c2a67f",
   "metadata": {},
   "outputs": [],
   "source": [
    "x, y, z = np.split(x, [1, 2])"
   ]
  },
  {
   "cell_type": "code",
   "execution_count": 40,
   "id": "3f3c9ed4-8ab7-4c2d-9cdb-d128f018e857",
   "metadata": {},
   "outputs": [
    {
     "data": {
      "text/plain": [
       "array([1])"
      ]
     },
     "execution_count": 40,
     "metadata": {},
     "output_type": "execute_result"
    }
   ],
   "source": [
    "x"
   ]
  },
  {
   "cell_type": "code",
   "execution_count": 41,
   "id": "a7043037-b660-4c32-931e-07a0ba5a8ea4",
   "metadata": {},
   "outputs": [
    {
     "data": {
      "text/plain": [
       "array([2])"
      ]
     },
     "execution_count": 41,
     "metadata": {},
     "output_type": "execute_result"
    }
   ],
   "source": [
    "y"
   ]
  },
  {
   "cell_type": "code",
   "execution_count": 42,
   "id": "7d842b54-7c80-41e7-bffd-5dadd1704525",
   "metadata": {},
   "outputs": [
    {
     "data": {
      "text/plain": [
       "array([ 3, 55, 66, 77, 88, 99])"
      ]
     },
     "execution_count": 42,
     "metadata": {},
     "output_type": "execute_result"
    }
   ],
   "source": [
    "z"
   ]
  },
  {
   "cell_type": "code",
   "execution_count": 44,
   "id": "a1bc1606-42eb-48ff-8a42-905b2943becc",
   "metadata": {},
   "outputs": [
    {
     "data": {
      "text/plain": [
       "array([[ 0,  1,  2,  3],\n",
       "       [ 4,  5,  6,  7],\n",
       "       [ 8,  9, 10, 11],\n",
       "       [12, 13, 14, 15],\n",
       "       [16, 17, 18, 19]])"
      ]
     },
     "execution_count": 44,
     "metadata": {},
     "output_type": "execute_result"
    }
   ],
   "source": [
    "split = np.arange(20).reshape(5,4)\n",
    "split"
   ]
  },
  {
   "cell_type": "code",
   "execution_count": 45,
   "id": "7c9b9a59-a1e5-4834-a25d-fad170e62ba9",
   "metadata": {},
   "outputs": [
    {
     "data": {
      "text/plain": [
       "[array([[0, 1, 2, 3],\n",
       "        [4, 5, 6, 7]]),\n",
       " array([[ 8,  9, 10, 11],\n",
       "        [12, 13, 14, 15],\n",
       "        [16, 17, 18, 19]])]"
      ]
     },
     "execution_count": 45,
     "metadata": {},
     "output_type": "execute_result"
    }
   ],
   "source": [
    "np.vsplit(split, [2])"
   ]
  },
  {
   "cell_type": "code",
   "execution_count": 55,
   "id": "8cd7cefe-bed8-4611-8619-7f966da97358",
   "metadata": {},
   "outputs": [],
   "source": [
    "ust, alt = np.vsplit(split, [2])"
   ]
  },
  {
   "cell_type": "code",
   "execution_count": 56,
   "id": "9a9ea6e4-092f-4f34-8efc-bd30741a0caa",
   "metadata": {},
   "outputs": [
    {
     "data": {
      "text/plain": [
       "array([[ 8,  9, 10, 11],\n",
       "       [12, 13, 14, 15],\n",
       "       [16, 17, 18, 19]])"
      ]
     },
     "execution_count": 56,
     "metadata": {},
     "output_type": "execute_result"
    }
   ],
   "source": [
    "alt"
   ]
  },
  {
   "cell_type": "code",
   "execution_count": 57,
   "id": "a4d095ce-3ebe-4ee6-b98f-aac7a7f6411d",
   "metadata": {},
   "outputs": [
    {
     "data": {
      "text/plain": [
       "array([[0, 1, 2, 3],\n",
       "       [4, 5, 6, 7]])"
      ]
     },
     "execution_count": 57,
     "metadata": {},
     "output_type": "execute_result"
    }
   ],
   "source": [
    "ust"
   ]
  },
  {
   "cell_type": "code",
   "execution_count": 63,
   "id": "98756dde-52b7-48b8-bac1-63e042eba062",
   "metadata": {},
   "outputs": [
    {
     "data": {
      "text/plain": [
       "array([[17, 18,  4,  5],\n",
       "       [ 0,  3, 11,  3],\n",
       "       [ 7, 18,  0,  8],\n",
       "       [ 0, 12,  7, 10]])"
      ]
     },
     "execution_count": 63,
     "metadata": {},
     "output_type": "execute_result"
    }
   ],
   "source": [
    "split = np.random.randint(20, size=(4,4))\n",
    "split"
   ]
  },
  {
   "cell_type": "code",
   "execution_count": 64,
   "id": "905b464e-4426-407a-8adb-a36c1a4dc444",
   "metadata": {},
   "outputs": [
    {
     "data": {
      "text/plain": [
       "[array([[17, 18],\n",
       "        [ 0,  3],\n",
       "        [ 7, 18],\n",
       "        [ 0, 12]]),\n",
       " array([[ 4,  5],\n",
       "        [11,  3],\n",
       "        [ 0,  8],\n",
       "        [ 7, 10]])]"
      ]
     },
     "execution_count": 64,
     "metadata": {},
     "output_type": "execute_result"
    }
   ],
   "source": [
    "np.hsplit(split, [2])"
   ]
  },
  {
   "cell_type": "code",
   "execution_count": 65,
   "id": "cbe3c638-a25c-4f0b-b75d-e5de28acb93a",
   "metadata": {},
   "outputs": [],
   "source": [
    "sol, sag = np.hsplit(split, [2])"
   ]
  },
  {
   "cell_type": "code",
   "execution_count": 66,
   "id": "08c2faa8-9e3f-45bf-a726-d2f324bc3cde",
   "metadata": {},
   "outputs": [
    {
     "data": {
      "text/plain": [
       "array([[17, 18],\n",
       "       [ 0,  3],\n",
       "       [ 7, 18],\n",
       "       [ 0, 12]])"
      ]
     },
     "execution_count": 66,
     "metadata": {},
     "output_type": "execute_result"
    }
   ],
   "source": [
    "sol"
   ]
  },
  {
   "cell_type": "code",
   "execution_count": 67,
   "id": "1b4d53e8-032d-44c8-a148-8d277cba051e",
   "metadata": {},
   "outputs": [
    {
     "data": {
      "text/plain": [
       "array([[ 4,  5],\n",
       "       [11,  3],\n",
       "       [ 0,  8],\n",
       "       [ 7, 10]])"
      ]
     },
     "execution_count": 67,
     "metadata": {},
     "output_type": "execute_result"
    }
   ],
   "source": [
    "sag"
   ]
  }
 ],
 "metadata": {
  "kernelspec": {
   "display_name": "Python 3 (ipykernel)",
   "language": "python",
   "name": "python3"
  },
  "language_info": {
   "codemirror_mode": {
    "name": "ipython",
    "version": 3
   },
   "file_extension": ".py",
   "mimetype": "text/x-python",
   "name": "python",
   "nbconvert_exporter": "python",
   "pygments_lexer": "ipython3",
   "version": "3.9.12"
  }
 },
 "nbformat": 4,
 "nbformat_minor": 5
}
