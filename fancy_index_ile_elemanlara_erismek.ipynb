{
 "cells": [
  {
   "cell_type": "markdown",
   "id": "a7fcf1d3-ab61-4299-8443-27a9a4af855d",
   "metadata": {},
   "source": [
    "# Fancy Index İle Elemanlara Erişmek"
   ]
  },
  {
   "cell_type": "code",
   "execution_count": 1,
   "id": "eb8421f0-a7e2-42a0-b777-deabee6c21e0",
   "metadata": {},
   "outputs": [],
   "source": [
    "import numpy as np"
   ]
  },
  {
   "cell_type": "code",
   "execution_count": 2,
   "id": "90f2e4a9-43e8-4c89-93ae-14a7432e8cc5",
   "metadata": {},
   "outputs": [
    {
     "data": {
      "text/plain": [
       "array([ 0,  3,  6,  9, 12, 15, 18, 21, 24, 27])"
      ]
     },
     "execution_count": 2,
     "metadata": {},
     "output_type": "execute_result"
    }
   ],
   "source": [
    "v = np.arange(0, 30, 3)\n",
    "v"
   ]
  },
  {
   "cell_type": "code",
   "execution_count": 3,
   "id": "11951b9d-3d59-4639-9e25-2bf58d59275a",
   "metadata": {},
   "outputs": [
    {
     "data": {
      "text/plain": [
       "[3, 9, 15, 21]"
      ]
     },
     "execution_count": 3,
     "metadata": {},
     "output_type": "execute_result"
    }
   ],
   "source": [
    "[v[1], v[3], v[5], v[7]]"
   ]
  },
  {
   "cell_type": "code",
   "execution_count": 4,
   "id": "df136b11-da1d-4efc-bd27-8c032fe65cc8",
   "metadata": {},
   "outputs": [],
   "source": [
    "index_listesi = [1,3,5]"
   ]
  },
  {
   "cell_type": "code",
   "execution_count": 5,
   "id": "50464664-7530-47ba-80a2-07b4e3537005",
   "metadata": {},
   "outputs": [
    {
     "data": {
      "text/plain": [
       "array([ 3,  9, 15])"
      ]
     },
     "execution_count": 5,
     "metadata": {},
     "output_type": "execute_result"
    }
   ],
   "source": [
    "v[index_listesi]"
   ]
  },
  {
   "cell_type": "code",
   "execution_count": 6,
   "id": "b7275615-c18c-4f66-a9b6-127c4bfc828d",
   "metadata": {},
   "outputs": [],
   "source": [
    "# Yukarıda görüldüğü üzere elimizde büyük bir index listesi varsa ve binlerce veri arasından bu indexlere karşılık\n",
    "# gelen verileri yakalamak istersek fancy index methodunu kullanabiliriz."
   ]
  },
  {
   "cell_type": "code",
   "execution_count": 7,
   "id": "ed009fe9-b169-45ba-8f44-20c54ee46139",
   "metadata": {},
   "outputs": [
    {
     "data": {
      "text/plain": [
       "array([[16,  1,  2, 10,  7],\n",
       "       [10, 13,  6,  2,  1],\n",
       "       [16,  3, 14,  1,  2],\n",
       "       [12,  8,  2, 10, 18]])"
      ]
     },
     "execution_count": 7,
     "metadata": {},
     "output_type": "execute_result"
    }
   ],
   "source": [
    "m = np.random.randint(20, size=(4,5))\n",
    "m"
   ]
  },
  {
   "cell_type": "code",
   "execution_count": 8,
   "id": "a83af2d3-0266-4423-a46a-8e5948cd001b",
   "metadata": {},
   "outputs": [
    {
     "data": {
      "text/plain": [
       "array([ 6, 10])"
      ]
     },
     "execution_count": 8,
     "metadata": {},
     "output_type": "execute_result"
    }
   ],
   "source": [
    "satir = [1,3]\n",
    "sutun = [2,3]\n",
    "m[satir,sutun]"
   ]
  },
  {
   "cell_type": "code",
   "execution_count": 9,
   "id": "52839168-61ab-45aa-8a1f-1646e06a3c58",
   "metadata": {},
   "outputs": [
    {
     "data": {
      "text/plain": [
       "array([[13, 12,  3, 15],\n",
       "       [ 1,  8, 10,  2],\n",
       "       [ 3,  2, 10, 16],\n",
       "       [19,  0, 17, 17],\n",
       "       [ 8,  6, 19, 18]])"
      ]
     },
     "execution_count": 9,
     "metadata": {},
     "output_type": "execute_result"
    }
   ],
   "source": [
    "n = np.random.randint(20, size=(5,4))\n",
    "n"
   ]
  },
  {
   "cell_type": "code",
   "execution_count": 10,
   "id": "4f677148-0458-40b4-b731-3499ba2b359d",
   "metadata": {},
   "outputs": [
    {
     "data": {
      "text/plain": [
       "array([[12,  3],\n",
       "       [ 8, 10],\n",
       "       [ 2, 10],\n",
       "       [ 0, 17],\n",
       "       [ 6, 19]])"
      ]
     },
     "execution_count": 10,
     "metadata": {},
     "output_type": "execute_result"
    }
   ],
   "source": [
    "n[0:, [1,2]]"
   ]
  },
  {
   "cell_type": "code",
   "execution_count": 11,
   "id": "06765c50-bd0b-445c-bb77-de68d6d52bf9",
   "metadata": {},
   "outputs": [
    {
     "data": {
      "text/plain": [
       "array([ 0,  5, 10, 15, 20, 25, 30, 35, 40, 45])"
      ]
     },
     "execution_count": 11,
     "metadata": {},
     "output_type": "execute_result"
    }
   ],
   "source": [
    "my_array = np.arange(0,50, 5)\n",
    "my_array"
   ]
  },
  {
   "cell_type": "code",
   "execution_count": 12,
   "id": "56ec4d07-0ddd-4ac9-81e6-89984933d713",
   "metadata": {},
   "outputs": [
    {
     "data": {
      "text/plain": [
       "array([10, 15, 20])"
      ]
     },
     "execution_count": 12,
     "metadata": {},
     "output_type": "execute_result"
    }
   ],
   "source": [
    "my_array[[2,3,4]]"
   ]
  },
  {
   "cell_type": "code",
   "execution_count": 13,
   "id": "bcde59b6-a2a4-4892-9a91-e3cf1e75add6",
   "metadata": {},
   "outputs": [
    {
     "data": {
      "text/plain": [
       "array([20, 25, 30])"
      ]
     },
     "execution_count": 13,
     "metadata": {},
     "output_type": "execute_result"
    }
   ],
   "source": [
    "my_array[[4,5,6]]"
   ]
  },
  {
   "cell_type": "code",
   "execution_count": 32,
   "id": "384aa6a7-2645-481e-b6a5-c36fc53c6cd4",
   "metadata": {},
   "outputs": [
    {
     "data": {
      "text/plain": [
       "array([[32,  9, 10,  0, 26],\n",
       "       [34, 27,  0, 14, 16],\n",
       "       [ 4, 24, 18, 17, 17],\n",
       "       [15, 35, 25, 10, 38],\n",
       "       [13, 21, 26, 31, 12]])"
      ]
     },
     "execution_count": 32,
     "metadata": {},
     "output_type": "execute_result"
    }
   ],
   "source": [
    "fancy = np.random.randint(40, size=(5,5))\n",
    "fancy"
   ]
  },
  {
   "cell_type": "code",
   "execution_count": 33,
   "id": "8606174e-417a-4dbe-820b-691cf13583c9",
   "metadata": {},
   "outputs": [
    {
     "data": {
      "text/plain": [
       "array([ 0, 10])"
      ]
     },
     "execution_count": 33,
     "metadata": {},
     "output_type": "execute_result"
    }
   ],
   "source": [
    "satir = [1,3]\n",
    "sutun = [2,3]\n",
    "fancy[satir, sutun]"
   ]
  },
  {
   "cell_type": "code",
   "execution_count": 34,
   "id": "b9aa7e7f-d6f9-4c89-846f-fc68ad77bae8",
   "metadata": {},
   "outputs": [
    {
     "data": {
      "text/plain": [
       "array([15, 10])"
      ]
     },
     "execution_count": 34,
     "metadata": {},
     "output_type": "execute_result"
    }
   ],
   "source": [
    "satir = 3\n",
    "sutun = [0, 3]\n",
    "fancy[satir, sutun]"
   ]
  },
  {
   "cell_type": "code",
   "execution_count": 35,
   "id": "5ea09fc4-a22f-4327-ba43-652b51aa41d7",
   "metadata": {},
   "outputs": [
    {
     "data": {
      "text/plain": [
       "array([[32,  9, 10,  0, 26],\n",
       "       [34, 27,  0, 14, 16],\n",
       "       [ 4, 24, 18, 17, 17],\n",
       "       [15, 35, 25, 10, 38],\n",
       "       [13, 21, 26, 31, 12]])"
      ]
     },
     "execution_count": 35,
     "metadata": {},
     "output_type": "execute_result"
    }
   ],
   "source": [
    "fancy[:,:]"
   ]
  },
  {
   "cell_type": "code",
   "execution_count": 36,
   "id": "cf188dcf-a7e7-443f-a71c-f3bc74596278",
   "metadata": {},
   "outputs": [
    {
     "data": {
      "text/plain": [
       "array([ 9, 27, 24, 35, 21])"
      ]
     },
     "execution_count": 36,
     "metadata": {},
     "output_type": "execute_result"
    }
   ],
   "source": [
    "fancy[:,1]"
   ]
  },
  {
   "cell_type": "code",
   "execution_count": 38,
   "id": "34f98257-cc44-4a09-b011-141ecf9e3d2c",
   "metadata": {},
   "outputs": [
    {
     "data": {
      "text/plain": [
       "array([[ 0, 14],\n",
       "       [18, 17],\n",
       "       [25, 10]])"
      ]
     },
     "execution_count": 38,
     "metadata": {},
     "output_type": "execute_result"
    }
   ],
   "source": [
    "fancy[1:4, 2:4]"
   ]
  },
  {
   "cell_type": "code",
   "execution_count": 44,
   "id": "4af30ec9-73e7-45f2-9677-b9addc1d8e7b",
   "metadata": {},
   "outputs": [
    {
     "data": {
      "text/plain": [
       "array([[ 0, 14, 16],\n",
       "       [18, 17, 17],\n",
       "       [25, 10, 38]])"
      ]
     },
     "execution_count": 44,
     "metadata": {},
     "output_type": "execute_result"
    }
   ],
   "source": [
    "fancy[1:4, 2:5]"
   ]
  },
  {
   "cell_type": "code",
   "execution_count": 45,
   "id": "fab66399-884d-4763-adc1-420d6080ca3d",
   "metadata": {},
   "outputs": [
    {
     "data": {
      "text/plain": [
       "array([[18, 17, 17],\n",
       "       [25, 10, 38]])"
      ]
     },
     "execution_count": 45,
     "metadata": {},
     "output_type": "execute_result"
    }
   ],
   "source": [
    "fancy[[2,3], 2:]"
   ]
  },
  {
   "cell_type": "code",
   "execution_count": 46,
   "id": "609590d8-f405-4fee-9192-b6487cb285b1",
   "metadata": {},
   "outputs": [
    {
     "data": {
      "text/plain": [
       "array([[ 0, 14, 16],\n",
       "       [18, 17, 17],\n",
       "       [25, 10, 38],\n",
       "       [26, 31, 12]])"
      ]
     },
     "execution_count": 46,
     "metadata": {},
     "output_type": "execute_result"
    }
   ],
   "source": [
    "fancy[1:, 2:]"
   ]
  }
 ],
 "metadata": {
  "kernelspec": {
   "display_name": "Python 3 (ipykernel)",
   "language": "python",
   "name": "python3"
  },
  "language_info": {
   "codemirror_mode": {
    "name": "ipython",
    "version": 3
   },
   "file_extension": ".py",
   "mimetype": "text/x-python",
   "name": "python",
   "nbconvert_exporter": "python",
   "pygments_lexer": "ipython3",
   "version": "3.9.12"
  }
 },
 "nbformat": 4,
 "nbformat_minor": 5
}
