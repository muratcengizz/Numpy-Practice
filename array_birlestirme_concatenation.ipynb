{
 "cells": [
  {
   "cell_type": "markdown",
   "id": "4fd97258-3a3e-4045-9a26-7c898525b1b0",
   "metadata": {},
   "source": [
    "# Array Birleştirme (Concatenation)"
   ]
  },
  {
   "cell_type": "code",
   "execution_count": 1,
   "id": "2afbbad3-dbe4-4b55-9726-70505eda3f44",
   "metadata": {},
   "outputs": [],
   "source": [
    "import numpy as np"
   ]
  },
  {
   "cell_type": "code",
   "execution_count": 2,
   "id": "9b5fc7d9-77b0-4b73-b33c-05a14009e15e",
   "metadata": {},
   "outputs": [],
   "source": [
    "x = np.array([1,2,3])\n",
    "y = np.array([4,5,6])"
   ]
  },
  {
   "cell_type": "code",
   "execution_count": 3,
   "id": "5067e85a-b4be-4bef-b3eb-479dd8eaf721",
   "metadata": {},
   "outputs": [
    {
     "data": {
      "text/plain": [
       "array([1, 2, 3, 4, 5, 6])"
      ]
     },
     "execution_count": 3,
     "metadata": {},
     "output_type": "execute_result"
    }
   ],
   "source": [
    "np.concatenate([x, y])"
   ]
  },
  {
   "cell_type": "code",
   "execution_count": 4,
   "id": "c69cf0a1-99bd-4429-88d0-6f9b5b133431",
   "metadata": {},
   "outputs": [],
   "source": [
    "# bu method ile bir array dizisine sonradan dizi eklemesi yapabiliriz."
   ]
  },
  {
   "cell_type": "code",
   "execution_count": 5,
   "id": "b33f35a9-0182-4653-aaf2-74da58102c2a",
   "metadata": {},
   "outputs": [],
   "source": [
    "z = np.array([7,8,9])"
   ]
  },
  {
   "cell_type": "code",
   "execution_count": 6,
   "id": "1fa580a5-5f88-4f2d-a40f-92aa2d364a43",
   "metadata": {},
   "outputs": [
    {
     "data": {
      "text/plain": [
       "array([1, 2, 3, 4, 5, 6, 7, 8, 9])"
      ]
     },
     "execution_count": 6,
     "metadata": {},
     "output_type": "execute_result"
    }
   ],
   "source": [
    "np.concatenate([x,y,z])"
   ]
  },
  {
   "cell_type": "code",
   "execution_count": 7,
   "id": "bd380874-9ac0-4d3e-8333-3981c93e8084",
   "metadata": {},
   "outputs": [
    {
     "data": {
      "text/plain": [
       "array([1, 2, 3, 4, 5, 6])"
      ]
     },
     "execution_count": 7,
     "metadata": {},
     "output_type": "execute_result"
    }
   ],
   "source": [
    "g = np.concatenate([x,y])\n",
    "g"
   ]
  },
  {
   "cell_type": "code",
   "execution_count": 8,
   "id": "ed0e5b35-fdbc-47fa-9d6a-73f2efe44fbc",
   "metadata": {},
   "outputs": [
    {
     "data": {
      "text/plain": [
       "array([1, 2, 3, 4, 5, 6, 7, 8, 9])"
      ]
     },
     "execution_count": 8,
     "metadata": {},
     "output_type": "execute_result"
    }
   ],
   "source": [
    "np.concatenate([g, z])"
   ]
  },
  {
   "cell_type": "code",
   "execution_count": 9,
   "id": "b93fed0a-4b91-4f84-b50d-ac1c03daca34",
   "metadata": {},
   "outputs": [],
   "source": [
    "# iki boyutlu diziler üzerinde birleştirme"
   ]
  },
  {
   "cell_type": "code",
   "execution_count": 10,
   "id": "0c030161-87bd-44b9-8510-cdb65a8897ee",
   "metadata": {},
   "outputs": [],
   "source": [
    "a = np.array([[1,2,3],\n",
    "              [4,5,6]])\n",
    "# fonksiyon kullanmadan 2 boyutlu array oluşturduk"
   ]
  },
  {
   "cell_type": "code",
   "execution_count": 11,
   "id": "4fecfbec-da0e-47be-adf3-f4d892320347",
   "metadata": {},
   "outputs": [
    {
     "data": {
      "text/plain": [
       "array([[1, 2, 3],\n",
       "       [4, 5, 6]])"
      ]
     },
     "execution_count": 11,
     "metadata": {},
     "output_type": "execute_result"
    }
   ],
   "source": [
    "a"
   ]
  },
  {
   "cell_type": "code",
   "execution_count": 12,
   "id": "af0b7cd0-4f68-4b4b-b719-ffd641eed49e",
   "metadata": {},
   "outputs": [
    {
     "data": {
      "text/plain": [
       "array([[1, 2, 3],\n",
       "       [4, 5, 6],\n",
       "       [1, 2, 3],\n",
       "       [4, 5, 6]])"
      ]
     },
     "execution_count": 12,
     "metadata": {},
     "output_type": "execute_result"
    }
   ],
   "source": [
    "np.concatenate([a, a])"
   ]
  },
  {
   "cell_type": "code",
   "execution_count": 13,
   "id": "7c9badb7-a0a6-43b8-a0e0-acf33739508b",
   "metadata": {},
   "outputs": [],
   "source": [
    "# axis parametresini kullanmadan 2 boyutlu iki diziyi birleştirirsek;\n",
    "# concatenate fonksiyonuna verilen 2. dizi 1. dizinin üzerine eklenir.\n",
    "# default olarak axis değeri 0 olduğu için satır sayısı artar. Sütun sayısı sabit kalır."
   ]
  },
  {
   "cell_type": "code",
   "execution_count": 14,
   "id": "bc9147ff-e832-42bc-86a7-d5c4c7c8e13a",
   "metadata": {},
   "outputs": [
    {
     "data": {
      "text/plain": [
       "array([[1, 2, 3, 1, 2, 3],\n",
       "       [4, 5, 6, 4, 5, 6]])"
      ]
     },
     "execution_count": 14,
     "metadata": {},
     "output_type": "execute_result"
    }
   ],
   "source": [
    "# axis değerini 1 olarak belirtelim.\n",
    "np.concatenate([a, a], axis=1)"
   ]
  },
  {
   "cell_type": "code",
   "execution_count": 15,
   "id": "ec9cb4ef-f64f-421d-8a86-29459900c386",
   "metadata": {},
   "outputs": [],
   "source": [
    "# axis=1 değeri için sütun sayısına ekleme yapıldı. satır sayısı sabit kaldı"
   ]
  },
  {
   "cell_type": "code",
   "execution_count": 16,
   "id": "b12368d6-ec9f-44e7-b0ab-0ad7ce047018",
   "metadata": {},
   "outputs": [
    {
     "data": {
      "text/plain": [
       "array([3, 4, 5, 6, 7, 8])"
      ]
     },
     "execution_count": 16,
     "metadata": {},
     "output_type": "execute_result"
    }
   ],
   "source": [
    "c = np.array([3,4,5])\n",
    "d = np.array([6,7,8])\n",
    "\n",
    "np.concatenate([c,d])"
   ]
  },
  {
   "cell_type": "code",
   "execution_count": 17,
   "id": "272e7bd2-bed1-48ab-bfad-8621ef35bdd9",
   "metadata": {},
   "outputs": [
    {
     "data": {
      "text/plain": [
       "array([[ 2,  3,  4],\n",
       "       [ 5,  6,  7],\n",
       "       [ 3,  2, 11],\n",
       "       [ 5,  9,  0]])"
      ]
     },
     "execution_count": 17,
     "metadata": {},
     "output_type": "execute_result"
    }
   ],
   "source": [
    "n = np.array([[2,3,4],\n",
    "             [5,6,7]])\n",
    "\n",
    "m = np.array([[3,2,11],\n",
    "             [5,9,0]])\n",
    "\n",
    "np.concatenate([n,m])\n"
   ]
  },
  {
   "cell_type": "code",
   "execution_count": 18,
   "id": "9426fead-279a-47d7-a3cf-c6c762fda123",
   "metadata": {},
   "outputs": [
    {
     "data": {
      "text/plain": [
       "array([[ 2,  3,  4,  3,  2, 11],\n",
       "       [ 5,  6,  7,  5,  9,  0]])"
      ]
     },
     "execution_count": 18,
     "metadata": {},
     "output_type": "execute_result"
    }
   ],
   "source": [
    "np.concatenate([n,m], axis=1)"
   ]
  },
  {
   "cell_type": "code",
   "execution_count": 19,
   "id": "937836b7-ff7b-400a-87cf-4570525e7f87",
   "metadata": {},
   "outputs": [
    {
     "data": {
      "text/plain": [
       "array([1, 2, 3, 4, 5, 6])"
      ]
     },
     "execution_count": 19,
     "metadata": {},
     "output_type": "execute_result"
    }
   ],
   "source": [
    "array1 = np.array([1,2,3])\n",
    "array2 = np.array([4,5,6])\n",
    "my_array = np.concatenate([array1, array2])\n",
    "my_array"
   ]
  },
  {
   "cell_type": "code",
   "execution_count": 20,
   "id": "5e6e6ef6-7291-4837-9ae3-1f1c0863bc02",
   "metadata": {},
   "outputs": [
    {
     "data": {
      "text/plain": [
       "array([[3, 1, 6],\n",
       "       [9, 5, 6],\n",
       "       [2, 4, 6],\n",
       "       [8, 5, 6],\n",
       "       [8, 2, 9],\n",
       "       [8, 0, 1]])"
      ]
     },
     "execution_count": 20,
     "metadata": {},
     "output_type": "execute_result"
    }
   ],
   "source": [
    "array3 = np.random.randint(10, size=(3,3))\n",
    "array4 = np.random.randint(10, size=(3,3))\n",
    "my_array2 = np.concatenate([array3, array4])\n",
    "my_array2"
   ]
  },
  {
   "cell_type": "code",
   "execution_count": 21,
   "id": "fbd7189e-6fec-4348-994f-9af7734d0354",
   "metadata": {},
   "outputs": [
    {
     "data": {
      "text/plain": [
       "array([[3, 1, 6, 8, 5, 6],\n",
       "       [9, 5, 6, 8, 2, 9],\n",
       "       [2, 4, 6, 8, 0, 1]])"
      ]
     },
     "execution_count": 21,
     "metadata": {},
     "output_type": "execute_result"
    }
   ],
   "source": [
    "my_array3 = np.concatenate([array3, array4], axis = 1)\n",
    "my_array3"
   ]
  },
  {
   "cell_type": "code",
   "execution_count": 22,
   "id": "f292bb82-34a6-47a7-8a8c-f594b2f3d4f0",
   "metadata": {},
   "outputs": [
    {
     "data": {
      "text/plain": [
       "array([4, 4, 4, 2, 3, 4, 4, 1, 4, 2])"
      ]
     },
     "execution_count": 22,
     "metadata": {},
     "output_type": "execute_result"
    }
   ],
   "source": [
    "my_array = np.random.randint(5, size=10)\n",
    "my_array"
   ]
  },
  {
   "cell_type": "code",
   "execution_count": 23,
   "id": "f8030c15-6e53-4152-a7ca-a9140499858e",
   "metadata": {},
   "outputs": [
    {
     "data": {
      "text/plain": [
       "array([4, 2, 0, 5, 5, 4, 8, 8, 0, 8])"
      ]
     },
     "execution_count": 23,
     "metadata": {},
     "output_type": "execute_result"
    }
   ],
   "source": [
    "my_array2 = np.random.randint(10, size=10)\n",
    "my_array2"
   ]
  },
  {
   "cell_type": "code",
   "execution_count": 24,
   "id": "bebc932f-a397-4874-aaf6-e18e67a615c8",
   "metadata": {},
   "outputs": [
    {
     "data": {
      "text/plain": [
       "array([4, 4, 4, 2, 3, 4, 4, 1, 4, 2, 4, 2, 0, 5, 5, 4, 8, 8, 0, 8])"
      ]
     },
     "execution_count": 24,
     "metadata": {},
     "output_type": "execute_result"
    }
   ],
   "source": [
    "add =np.concatenate([my_array, my_array2])\n",
    "add"
   ]
  },
  {
   "cell_type": "code",
   "execution_count": 25,
   "id": "ba28a029-0212-4579-81cb-91cd6e9b0d9f",
   "metadata": {},
   "outputs": [
    {
     "data": {
      "text/plain": [
       "array([0, 0, 1, 2, 2, 2, 3, 4, 4, 4, 4, 4, 4, 4, 4, 5, 5, 8, 8, 8])"
      ]
     },
     "execution_count": 25,
     "metadata": {},
     "output_type": "execute_result"
    }
   ],
   "source": [
    "sorting = np.sort(add)\n",
    "sorting"
   ]
  },
  {
   "cell_type": "code",
   "execution_count": 27,
   "id": "4fd2d0b8-83ea-4020-9c1a-43953b95c6e7",
   "metadata": {},
   "outputs": [
    {
     "data": {
      "text/plain": [
       "array([ 1,  2,  3,  4,  5,  6,  7,  5,  7,  9, 11, 13])"
      ]
     },
     "execution_count": 27,
     "metadata": {},
     "output_type": "execute_result"
    }
   ],
   "source": [
    "x = np.arange(1, 8)\n",
    "y = np.arange(5, 15, 2)\n",
    "array = np.concatenate([x, y])\n",
    "array"
   ]
  },
  {
   "cell_type": "code",
   "execution_count": 28,
   "id": "05a763df-186d-4c1e-b406-1af7b4d5e46d",
   "metadata": {},
   "outputs": [
    {
     "data": {
      "text/plain": [
       "array([  1,   2,   3,   4,   5,   6,   7,   5,   7,   9,  11,  13, 100,\n",
       "       200, 300, 400, 500])"
      ]
     },
     "execution_count": 28,
     "metadata": {},
     "output_type": "execute_result"
    }
   ],
   "source": [
    "z = [100, 200, 300, 400, 500]\n",
    "np.concatenate([array, z])"
   ]
  },
  {
   "cell_type": "code",
   "execution_count": 34,
   "id": "386b5d07-5114-4f1c-86dc-0190d5e2dce0",
   "metadata": {},
   "outputs": [],
   "source": [
    "array = np.random.randint(20, size=(4,4))"
   ]
  },
  {
   "cell_type": "code",
   "execution_count": 35,
   "id": "011b86db-c318-4b61-b97f-f78253d3f78e",
   "metadata": {},
   "outputs": [
    {
     "data": {
      "text/plain": [
       "array([[18,  8, 13, 11],\n",
       "       [ 2,  3,  5,  5],\n",
       "       [ 6,  6,  1, 14],\n",
       "       [ 6,  5,  7,  0]])"
      ]
     },
     "execution_count": 35,
     "metadata": {},
     "output_type": "execute_result"
    }
   ],
   "source": [
    "array"
   ]
  },
  {
   "cell_type": "code",
   "execution_count": 36,
   "id": "c24fa28d-4f00-437a-8e53-a956083ccc7f",
   "metadata": {},
   "outputs": [],
   "source": [
    "array2 = np.random.randint(10, size=(4,4))"
   ]
  },
  {
   "cell_type": "code",
   "execution_count": 37,
   "id": "1929f1a0-2a4d-4348-8cb9-42a5acd988b6",
   "metadata": {},
   "outputs": [
    {
     "data": {
      "text/plain": [
       "array([[9, 3, 0, 9],\n",
       "       [9, 6, 7, 0],\n",
       "       [8, 2, 5, 3],\n",
       "       [1, 6, 0, 6]])"
      ]
     },
     "execution_count": 37,
     "metadata": {},
     "output_type": "execute_result"
    }
   ],
   "source": [
    "array2"
   ]
  },
  {
   "cell_type": "code",
   "execution_count": 41,
   "id": "d337cc82-ddc7-4cc8-ba49-636655e75538",
   "metadata": {},
   "outputs": [
    {
     "data": {
      "text/plain": [
       "array([[18,  8, 13, 11,  9,  3,  0,  9],\n",
       "       [ 2,  3,  5,  5,  9,  6,  7,  0],\n",
       "       [ 6,  6,  1, 14,  8,  2,  5,  3],\n",
       "       [ 6,  5,  7,  0,  1,  6,  0,  6]])"
      ]
     },
     "execution_count": 41,
     "metadata": {},
     "output_type": "execute_result"
    }
   ],
   "source": [
    "np.concatenate([array, array2], axis=1)"
   ]
  },
  {
   "cell_type": "code",
   "execution_count": 42,
   "id": "76041b85-f68e-4cf7-8033-49ee9fe8cefd",
   "metadata": {},
   "outputs": [],
   "source": [
    "my_array1 = np.random.randint(40, size=(4,4))\n",
    "my_array2 = np.random.randint(60, size=(4,4))"
   ]
  },
  {
   "cell_type": "code",
   "execution_count": 43,
   "id": "b4b8d57c-5405-4cac-95fe-d81d7a41c91d",
   "metadata": {},
   "outputs": [
    {
     "data": {
      "text/plain": [
       "array([[ 1, 26, 13,  6],\n",
       "       [10, 21, 36,  3],\n",
       "       [18, 10, 36, 32],\n",
       "       [ 1, 27, 36, 16],\n",
       "       [40, 12, 24, 21],\n",
       "       [17, 58, 23, 36],\n",
       "       [39, 36, 27, 46],\n",
       "       [20, 37, 58, 38]])"
      ]
     },
     "execution_count": 43,
     "metadata": {},
     "output_type": "execute_result"
    }
   ],
   "source": [
    "np.concatenate([my_array, my_array2])"
   ]
  },
  {
   "cell_type": "code",
   "execution_count": 44,
   "id": "4c9d133b-bf4b-4f01-8dd7-7eefe258a6dc",
   "metadata": {},
   "outputs": [
    {
     "ename": "ValueError",
     "evalue": "all the input array dimensions for the concatenation axis must match exactly, but along dimension 1, the array at index 0 has size 3 and the array at index 1 has size 2",
     "output_type": "error",
     "traceback": [
      "\u001b[1;31m---------------------------------------------------------------------------\u001b[0m",
      "\u001b[1;31mValueError\u001b[0m                                Traceback (most recent call last)",
      "Input \u001b[1;32mIn [44]\u001b[0m, in \u001b[0;36m<cell line: 3>\u001b[1;34m()\u001b[0m\n\u001b[0;32m      1\u001b[0m deneme1 \u001b[38;5;241m=\u001b[39m np\u001b[38;5;241m.\u001b[39mrandom\u001b[38;5;241m.\u001b[39mrandint(\u001b[38;5;241m20\u001b[39m, size\u001b[38;5;241m=\u001b[39m(\u001b[38;5;241m2\u001b[39m,\u001b[38;5;241m3\u001b[39m))\n\u001b[0;32m      2\u001b[0m deneme2 \u001b[38;5;241m=\u001b[39m np\u001b[38;5;241m.\u001b[39mrandom\u001b[38;5;241m.\u001b[39mrandint(\u001b[38;5;241m10\u001b[39m, size\u001b[38;5;241m=\u001b[39m(\u001b[38;5;241m2\u001b[39m,\u001b[38;5;241m2\u001b[39m))\n\u001b[1;32m----> 3\u001b[0m \u001b[43mnp\u001b[49m\u001b[38;5;241;43m.\u001b[39;49m\u001b[43mconcatenate\u001b[49m\u001b[43m(\u001b[49m\u001b[43m[\u001b[49m\u001b[43mdeneme1\u001b[49m\u001b[43m,\u001b[49m\u001b[43m \u001b[49m\u001b[43mdeneme2\u001b[49m\u001b[43m]\u001b[49m\u001b[43m)\u001b[49m\n",
      "File \u001b[1;32m<__array_function__ internals>:5\u001b[0m, in \u001b[0;36mconcatenate\u001b[1;34m(*args, **kwargs)\u001b[0m\n",
      "\u001b[1;31mValueError\u001b[0m: all the input array dimensions for the concatenation axis must match exactly, but along dimension 1, the array at index 0 has size 3 and the array at index 1 has size 2"
     ]
    }
   ],
   "source": [
    "deneme1 = np.random.randint(20, size=(2,3))\n",
    "deneme2 = np.random.randint(10, size=(2,2))\n",
    "np.concatenate([deneme1, deneme2])"
   ]
  }
 ],
 "metadata": {
  "kernelspec": {
   "display_name": "Python 3 (ipykernel)",
   "language": "python",
   "name": "python3"
  },
  "language_info": {
   "codemirror_mode": {
    "name": "ipython",
    "version": 3
   },
   "file_extension": ".py",
   "mimetype": "text/x-python",
   "name": "python",
   "nbconvert_exporter": "python",
   "pygments_lexer": "ipython3",
   "version": "3.9.12"
  }
 },
 "nbformat": 4,
 "nbformat_minor": 5
}
